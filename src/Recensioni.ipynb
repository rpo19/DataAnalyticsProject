{
 "cells": [
  {
   "cell_type": "code",
   "execution_count": 134,
   "metadata": {},
   "outputs": [
    {
     "name": "stderr",
     "output_type": "stream",
     "text": [
      "c:\\users\\christian\\universita\\magistrale\\ianno\\dataanalytics\\progetto\\dataanalyticsproject\\src\\venv_da\\lib\\site-packages\\tqdm\\std.py:668: FutureWarning: The Panel class is removed from pandas. Accessing it from the top-level namespace will also be removed in the next version\n",
      "  from pandas import Panel\n"
     ]
    }
   ],
   "source": [
    "import pandas as pd\n",
    "import matplotlib.pyplot as plt\n",
    "import seaborn as sns\n",
    "from nltk.tokenize import word_tokenize\n",
    "import itertools\n",
    "from collections import Counter\n",
    "import nltk\n",
    "from datetime import datetime\n",
    "\n",
    "import string\n",
    "from nltk import wordpunct_tokenize\n",
    "\n",
    "\n",
    "\n",
    "import re\n",
    "\n",
    "#progress bar\n",
    "from tqdm import tqdm, tqdm_notebook\n",
    "\n",
    "# instantiate\n",
    "tqdm.pandas(tqdm_notebook)"
   ]
  },
  {
   "cell_type": "code",
   "execution_count": null,
   "metadata": {},
   "outputs": [],
   "source": [
    "dataReviewsChunk = pd.read_json('../data/reviews.json', lines=True, chunksize=10000)"
   ]
  },
  {
   "cell_type": "code",
   "execution_count": null,
   "metadata": {},
   "outputs": [],
   "source": [
    "\n",
    "chunk_list = []  # append each chunk df here \n",
    "\n",
    "# Each chunk is in df format\n",
    "for chunk in dataReviewsChunk:\n",
    "\n",
    "    chunk_list.append(chunk)\n"
   ]
  },
  {
   "cell_type": "code",
   "execution_count": null,
   "metadata": {},
   "outputs": [],
   "source": [
    "dataReviews = pd.concat(chunk_list)"
   ]
  },
  {
   "cell_type": "markdown",
   "metadata": {},
   "source": [
    "### Exploratory Data Analysis"
   ]
  },
  {
   "cell_type": "code",
   "execution_count": null,
   "metadata": {},
   "outputs": [],
   "source": [
    "print(\"Number of reviews not filtered:\", len(dataReviews))"
   ]
  },
  {
   "cell_type": "code",
   "execution_count": null,
   "metadata": {},
   "outputs": [],
   "source": [
    "def convert_int_value(int_value):\n",
    "    return int_value[\"$numberInt\"]"
   ]
  },
  {
   "cell_type": "markdown",
   "metadata": {},
   "source": [
    "#### Reducing reviews"
   ]
  },
  {
   "cell_type": "code",
   "execution_count": null,
   "metadata": {},
   "outputs": [],
   "source": [
    "dataReviews[\"rating\"]=dataReviews[\"rating\"].apply(convert_int_value).astype(int)"
   ]
  },
  {
   "cell_type": "code",
   "execution_count": null,
   "metadata": {},
   "outputs": [],
   "source": [
    "dataReviews[\"helpful\"]=dataReviews[\"helpful\"].apply(convert_int_value).astype(int)"
   ]
  },
  {
   "cell_type": "code",
   "execution_count": null,
   "metadata": {},
   "outputs": [],
   "source": [
    "dataReviews = dataReviews[dataReviews.helpful != 0]"
   ]
  },
  {
   "cell_type": "code",
   "execution_count": null,
   "metadata": {},
   "outputs": [],
   "source": [
    "dataReviews = dataReviews[dataReviews.verified == True]"
   ]
  },
  {
   "cell_type": "code",
   "execution_count": null,
   "metadata": {},
   "outputs": [],
   "source": [
    "counts = dataReviews[\"rating\"].value_counts()"
   ]
  },
  {
   "cell_type": "code",
   "execution_count": null,
   "metadata": {},
   "outputs": [],
   "source": [
    "print(\"Reduced reviews distribution [5-1] stars:\", counts.values)"
   ]
  },
  {
   "cell_type": "code",
   "execution_count": null,
   "metadata": {},
   "outputs": [],
   "source": [
    "x = counts._index\n",
    "print(x)\n",
    "y = counts.values\n",
    "print(y)"
   ]
  },
  {
   "cell_type": "code",
   "execution_count": null,
   "metadata": {},
   "outputs": [],
   "source": [
    "fig = plt.figure(figsize=(18,6))\n",
    "sns.barplot(x=counts._index, y=counts.values)\n",
    "plt.title(\"Rating distribution\")\n",
    "plt.show()"
   ]
  },
  {
   "cell_type": "code",
   "execution_count": null,
   "metadata": {},
   "outputs": [],
   "source": [
    "print(\"Proportion of review with score=1: {}%\".format(len(dataReviews[dataReviews.rating == 1]) / len(dataReviews)*100))\n",
    "print(\"Proportion of review with score=2: {}%\".format(len(dataReviews[dataReviews.rating == 2]) / len(dataReviews)*100))\n",
    "print(\"Proportion of review with score=3: {}%\".format(len(dataReviews[dataReviews.rating == 3]) / len(dataReviews)*100))\n",
    "print(\"Proportion of review with score=4: {}%\".format(len(dataReviews[dataReviews.rating == 4]) / len(dataReviews)*100))\n",
    "print(\"Proportion of review with score=5: {}%\".format(len(dataReviews[dataReviews.rating == 5]) / len(dataReviews)*100))"
   ]
  },
  {
   "cell_type": "markdown",
   "metadata": {},
   "source": [
    "### Preparing dataset for sentiment analysis"
   ]
  },
  {
   "cell_type": "code",
   "execution_count": 125,
   "metadata": {},
   "outputs": [],
   "source": [
    "dataReviews = pd.read_csv('../data/dati_ridotti.csv', sep=',')"
   ]
  },
  {
   "cell_type": "code",
   "execution_count": 25,
   "metadata": {},
   "outputs": [],
   "source": [
    "dataReviews_POS = pd.DataFrame(dataReviews[dataReviews.rating > 3].sample(1000))\n",
    "dataReviews_POS['target'] = 'POS'\n",
    "dataReviews_POS['polarity'] = 'None'\n"
   ]
  },
  {
   "cell_type": "code",
   "execution_count": 26,
   "metadata": {},
   "outputs": [],
   "source": [
    "dataReviews_NEG = pd.DataFrame(dataReviews[dataReviews.rating < 3].sample(1000))\n",
    "dataReviews_NEG['target'] = 'NEG'\n",
    "dataReviews_NEG['polarity'] = 'None'"
   ]
  },
  {
   "cell_type": "code",
   "execution_count": 27,
   "metadata": {},
   "outputs": [],
   "source": [
    "dataReviews_NEUT = pd.DataFrame(dataReviews[dataReviews.rating == 3].sample(1000))\n",
    "dataReviews_NEUT['target'] = 'NEUT'\n",
    "dataReviews_NEUT['polarity'] = 'None'"
   ]
  },
  {
   "cell_type": "code",
   "execution_count": 28,
   "metadata": {},
   "outputs": [],
   "source": [
    "# export csv to do sentix in R\n",
    "dataReviews_POS.to_csv('../data/dataReviews_POS.csv', index=False, sep=',')\n",
    "dataReviews_NEG.to_csv('../data/dataReviews_NEG.csv', index=False, sep=',')\n",
    "dataReviews_NEUT.to_csv('../data/dataReviews_NEUT.csv', index=False, sep=',')"
   ]
  },
  {
   "cell_type": "markdown",
   "metadata": {},
   "source": [
    "### Execute SentimentR.R"
   ]
  },
  {
   "cell_type": "code",
   "execution_count": null,
   "metadata": {},
   "outputs": [],
   "source": [
    "# EXECUTE R CODE"
   ]
  },
  {
   "cell_type": "markdown",
   "metadata": {},
   "source": [
    "### Read reviews polarized"
   ]
  },
  {
   "cell_type": "code",
   "execution_count": 55,
   "metadata": {},
   "outputs": [],
   "source": [
    "# import csv after sentix in R\n",
    "dataReviews_POS = pd.read_csv('../data/dataReviews_POS_pol.csv', sep=',').mask(dataReviews_POS.eq('None')).dropna()\n",
    "dataReviews_NEG = pd.read_csv('../data/dataReviews_NEG_pol.csv', sep=',').mask(dataReviews_NEG.eq('None')).dropna()\n",
    "dataReviews_NEUT = pd.read_csv('../data/dataReviews_NEUT_pol.csv', sep=',').mask(dataReviews_NEUT.eq('None')).dropna()"
   ]
  },
  {
   "cell_type": "code",
   "execution_count": 56,
   "metadata": {},
   "outputs": [],
   "source": [
    "# merging dataframes\n",
    "dataReviews_pol = pd.concat([dataReviews_POS,dataReviews_NEG,dataReviews_NEUT], ignore_index=True)\n",
    "# dataReviews_pol = pd.concat([dataReviews_POS,dataReviews_NEG], ignore_index=True)"
   ]
  },
  {
   "cell_type": "code",
   "execution_count": 57,
   "metadata": {},
   "outputs": [
    {
     "data": {
      "text/plain": [
       "2994"
      ]
     },
     "execution_count": 57,
     "metadata": {},
     "output_type": "execute_result"
    }
   ],
   "source": [
    "len(dataReviews_pol)"
   ]
  },
  {
   "cell_type": "markdown",
   "metadata": {},
   "source": [
    "### Accuracy for each target"
   ]
  },
  {
   "cell_type": "code",
   "execution_count": 58,
   "metadata": {},
   "outputs": [
    {
     "name": "stdout",
     "output_type": "stream",
     "text": [
      "% accuracy POS:  93.17953861584755\n"
     ]
    }
   ],
   "source": [
    "print(\"% accuracy POS: \", len(dataReviews_POS.loc[dataReviews_POS.polarity.astype(float) > 0])/len(dataReviews_POS)*100)"
   ]
  },
  {
   "cell_type": "code",
   "execution_count": 60,
   "metadata": {},
   "outputs": [
    {
     "name": "stdout",
     "output_type": "stream",
     "text": [
      "% accuracy NEG:  27.9839518555667\n"
     ]
    }
   ],
   "source": [
    "print(\"% accuracy NEG: \", len(dataReviews_POS.loc[dataReviews_NEG.polarity.astype(float) < 0])/len(dataReviews_NEG)*100)"
   ]
  },
  {
   "cell_type": "code",
   "execution_count": 61,
   "metadata": {},
   "outputs": [
    {
     "name": "stdout",
     "output_type": "stream",
     "text": [
      "% 3 stars with positive polarities:  82.6\n"
     ]
    }
   ],
   "source": [
    "print(\"% 3 stars with positive polarities: \", len(dataReviews_NEUT.loc[dataReviews_NEUT.polarity.astype(float) > 0])/len(dataReviews_NEUT)*100)"
   ]
  },
  {
   "cell_type": "markdown",
   "metadata": {},
   "source": [
    "### Compare distribution of polarity and ratings"
   ]
  },
  {
   "cell_type": "code",
   "execution_count": 64,
   "metadata": {},
   "outputs": [
    {
     "data": {
      "text/plain": [
       "<matplotlib.axes._subplots.AxesSubplot at 0x2a4890075e0>"
      ]
     },
     "execution_count": 64,
     "metadata": {},
     "output_type": "execute_result"
    },
    {
     "data": {
      "image/png": "[encoded data removed]",
      "text/plain": [
       "<Figure size 432x288 with 1 Axes>"
      ]
     },
     "metadata": {
      "needs_background": "light"
     },
     "output_type": "display_data"
    }
   ],
   "source": [
    "dataReviews_pol['polarity'].astype(float).hist()"
   ]
  },
  {
   "cell_type": "code",
   "execution_count": 63,
   "metadata": {},
   "outputs": [
    {
     "data": {
      "text/plain": [
       "<matplotlib.axes._subplots.AxesSubplot at 0x2a48cc64ca0>"
      ]
     },
     "execution_count": 63,
     "metadata": {},
     "output_type": "execute_result"
    },
    {
     "data": {
      "image/png": "[encoded data removed]",
      "text/plain": [
       "<Figure size 432x288 with 1 Axes>"
      ]
     },
     "metadata": {
      "needs_background": "light"
     },
     "output_type": "display_data"
    }
   ],
   "source": [
    "dataReviews_pol['rating'].hist()"
   ]
  },
  {
   "cell_type": "markdown",
   "metadata": {},
   "source": [
    "### Compare distribution of a product"
   ]
  },
  {
   "cell_type": "code",
   "execution_count": 127,
   "metadata": {},
   "outputs": [],
   "source": [
    "# good examples\n",
    "# B01ETRGE7M bello\n",
    "# B00LPHUTOO altalena\n",
    "# B01EWQ10D8 non male\n",
    "# B0058BXHWE resegone\n",
    "prod_id = 'B01ETRGE7M'\n",
    "dataReviews_product = dataReviews.loc[dataReviews['product'] == prod_id]"
   ]
  },
  {
   "cell_type": "code",
   "execution_count": 77,
   "metadata": {},
   "outputs": [],
   "source": [
    "# export csv for sentix R\n",
    "dataReviews_product.to_csv('../data/single_product.csv', sep=',')\n"
   ]
  },
  {
   "cell_type": "code",
   "execution_count": null,
   "metadata": {},
   "outputs": [],
   "source": [
    "# EXECUTE R CODE with prod_id "
   ]
  },
  {
   "cell_type": "code",
   "execution_count": 128,
   "metadata": {},
   "outputs": [
    {
     "name": "stderr",
     "output_type": "stream",
     "text": [
      "c:\\users\\christian\\universita\\magistrale\\ianno\\dataanalytics\\progetto\\dataanalyticsproject\\src\\venv_da\\lib\\site-packages\\pandas\\core\\ops\\array_ops.py:253: FutureWarning: elementwise comparison failed; returning scalar instead, but in the future will perform elementwise comparison\n",
      "  res_values = method(rvalues)\n"
     ]
    }
   ],
   "source": [
    "# import csv after sentix in R\n",
    "dataReviews_product_pol = pd.read_csv('../data/single_product_pol.csv', sep=',').mask(dataReviews_POS.eq('None')).dropna()"
   ]
  },
  {
   "cell_type": "code",
   "execution_count": 129,
   "metadata": {},
   "outputs": [
    {
     "data": {
      "text/html": [
       "<div>\n",
       "<style scoped>\n",
       "    .dataframe tbody tr th:only-of-type {\n",
       "        vertical-align: middle;\n",
       "    }\n",
       "\n",
       "    .dataframe tbody tr th {\n",
       "        vertical-align: top;\n",
       "    }\n",
       "\n",
       "    .dataframe thead th {\n",
       "        text-align: right;\n",
       "    }\n",
       "</style>\n",
       "<table border=\"1\" class=\"dataframe\">\n",
       "  <thead>\n",
       "    <tr style=\"text-align: right;\">\n",
       "      <th></th>\n",
       "      <th>product</th>\n",
       "      <th>title</th>\n",
       "      <th>author.id</th>\n",
       "      <th>author.name</th>\n",
       "      <th>date</th>\n",
       "      <th>rating</th>\n",
       "      <th>helpful</th>\n",
       "      <th>verified</th>\n",
       "      <th>body</th>\n",
       "      <th>polarity</th>\n",
       "    </tr>\n",
       "  </thead>\n",
       "  <tbody>\n",
       "    <tr>\n",
       "      <th>0</th>\n",
       "      <td>B01ETRGE7M</td>\n",
       "      <td>very good</td>\n",
       "      <td>AFFXBJ3HLCETFAMKAWAX2STT2NCA</td>\n",
       "      <td>Xxxx</td>\n",
       "      <td>2019-01-14</td>\n",
       "      <td>5</td>\n",
       "      <td>252</td>\n",
       "      <td>True</td>\n",
       "      <td>Utile e funzionale, da acquistare</td>\n",
       "      <td>0.273380</td>\n",
       "    </tr>\n",
       "    <tr>\n",
       "      <th>1</th>\n",
       "      <td>B01ETRGE7M</td>\n",
       "      <td>inmancabile</td>\n",
       "      <td>AFADQ5CXWECICH4PZQKY5KJ63YTQ</td>\n",
       "      <td>sebastiano</td>\n",
       "      <td>2017-12-31</td>\n",
       "      <td>5</td>\n",
       "      <td>240</td>\n",
       "      <td>True</td>\n",
       "      <td>devo dire che questa piccola pennetta da attac...</td>\n",
       "      <td>-0.016322</td>\n",
       "    </tr>\n",
       "    <tr>\n",
       "      <th>2</th>\n",
       "      <td>B01ETRGE7M</td>\n",
       "      <td>Talmente entusiasta che già l'ho consigliato a...</td>\n",
       "      <td>AGSGI4XBH46OAS46EATYOVDKTPEA</td>\n",
       "      <td>Spiaggia dei Maronti</td>\n",
       "      <td>2018-10-13</td>\n",
       "      <td>4</td>\n",
       "      <td>447</td>\n",
       "      <td>True</td>\n",
       "      <td>Come nel titolo.\\r\\nTalmente entusiasta che gi...</td>\n",
       "      <td>0.068274</td>\n",
       "    </tr>\n",
       "    <tr>\n",
       "      <th>3</th>\n",
       "      <td>B01ETRGE7M</td>\n",
       "      <td>Non c’è il tasto Search! Assurdo. Devi cercare...</td>\n",
       "      <td>AGQNCTJHHDUIPBQTSLZOLTOJVSAA</td>\n",
       "      <td>lu239</td>\n",
       "      <td>2018-09-22</td>\n",
       "      <td>2</td>\n",
       "      <td>144</td>\n",
       "      <td>True</td>\n",
       "      <td>Non c’è il tasto Search. Se scarichi qualcosa ...</td>\n",
       "      <td>-0.051793</td>\n",
       "    </tr>\n",
       "    <tr>\n",
       "      <th>4</th>\n",
       "      <td>B01ETRGE7M</td>\n",
       "      <td>Staconsigliata! NETFLIX - INFINITY - AMAZON PR...</td>\n",
       "      <td>AFNCTVOMQMNJDHTETJL4FZPYBXYQ</td>\n",
       "      <td>Soad</td>\n",
       "      <td>2019-01-09</td>\n",
       "      <td>5</td>\n",
       "      <td>1</td>\n",
       "      <td>True</td>\n",
       "      <td>Che dire, straconsigliata.\\r\\nCercherò di scri...</td>\n",
       "      <td>0.091273</td>\n",
       "    </tr>\n",
       "    <tr>\n",
       "      <th>...</th>\n",
       "      <td>...</td>\n",
       "      <td>...</td>\n",
       "      <td>...</td>\n",
       "      <td>...</td>\n",
       "      <td>...</td>\n",
       "      <td>...</td>\n",
       "      <td>...</td>\n",
       "      <td>...</td>\n",
       "      <td>...</td>\n",
       "      <td>...</td>\n",
       "    </tr>\n",
       "    <tr>\n",
       "      <th>913</th>\n",
       "      <td>B01ETRGE7M</td>\n",
       "      <td>Ottimo Device</td>\n",
       "      <td>AHG7FJHEI64ATPJL54DNLPPR3DGQ</td>\n",
       "      <td>Nicola B.</td>\n",
       "      <td>2018-11-09</td>\n",
       "      <td>5</td>\n",
       "      <td>1</td>\n",
       "      <td>True</td>\n",
       "      <td>Puoi scaricarci un mucchio di app, semplice e ...</td>\n",
       "      <td>0.060958</td>\n",
       "    </tr>\n",
       "    <tr>\n",
       "      <th>914</th>\n",
       "      <td>B01ETRGE7M</td>\n",
       "      <td>Fire TV Stick | Basic Edition</td>\n",
       "      <td>AGGWKX7W36FTINFEUKO52CXFTO6Q</td>\n",
       "      <td>argazzi marco</td>\n",
       "      <td>2018-10-04</td>\n",
       "      <td>4</td>\n",
       "      <td>1</td>\n",
       "      <td>True</td>\n",
       "      <td>molto soddisfatto per la possibilita' di avere...</td>\n",
       "      <td>0.033922</td>\n",
       "    </tr>\n",
       "    <tr>\n",
       "      <th>915</th>\n",
       "      <td>B01ETRGE7M</td>\n",
       "      <td>Consigliatissimo</td>\n",
       "      <td>AGKBQVN7HFJMOTF5WMX2OWQKSI6Q</td>\n",
       "      <td>Francesco Fibbi</td>\n",
       "      <td>2017-11-29</td>\n",
       "      <td>5</td>\n",
       "      <td>1</td>\n",
       "      <td>True</td>\n",
       "      <td>Consigliatissimo, le serie Amazon sono veramen...</td>\n",
       "      <td>-0.047088</td>\n",
       "    </tr>\n",
       "    <tr>\n",
       "      <th>916</th>\n",
       "      <td>B01ETRGE7M</td>\n",
       "      <td>Ottimo rapporto qualità prezzo</td>\n",
       "      <td>AEYABCRX3JNMAR644XQJJACWMBBQ</td>\n",
       "      <td>Edoardo Margheriti</td>\n",
       "      <td>2017-11-15</td>\n",
       "      <td>5</td>\n",
       "      <td>1</td>\n",
       "      <td>True</td>\n",
       "      <td>Funziona benissimo, è facile e intuitivo.. Ama...</td>\n",
       "      <td>0.007301</td>\n",
       "    </tr>\n",
       "    <tr>\n",
       "      <th>917</th>\n",
       "      <td>B01ETRGE7M</td>\n",
       "      <td>Più che soddisfatto</td>\n",
       "      <td>AET7N2C3SU3OHY5MUDOHOK3SWVAA</td>\n",
       "      <td>Denis</td>\n",
       "      <td>2018-01-12</td>\n",
       "      <td>5</td>\n",
       "      <td>1</td>\n",
       "      <td>True</td>\n",
       "      <td>Prodotto ottimo e semplice da utilizzare. Perm...</td>\n",
       "      <td>0.148847</td>\n",
       "    </tr>\n",
       "  </tbody>\n",
       "</table>\n",
       "<p>918 rows × 10 columns</p>\n",
       "</div>"
      ],
      "text/plain": [
       "        product                                              title  \\\n",
       "0    B01ETRGE7M                                          very good   \n",
       "1    B01ETRGE7M                                        inmancabile   \n",
       "2    B01ETRGE7M  Talmente entusiasta che già l'ho consigliato a...   \n",
       "3    B01ETRGE7M  Non c’è il tasto Search! Assurdo. Devi cercare...   \n",
       "4    B01ETRGE7M  Staconsigliata! NETFLIX - INFINITY - AMAZON PR...   \n",
       "..          ...                                                ...   \n",
       "913  B01ETRGE7M                                      Ottimo Device   \n",
       "914  B01ETRGE7M                      Fire TV Stick | Basic Edition   \n",
       "915  B01ETRGE7M                                   Consigliatissimo   \n",
       "916  B01ETRGE7M                     Ottimo rapporto qualità prezzo   \n",
       "917  B01ETRGE7M                                Più che soddisfatto   \n",
       "\n",
       "                        author.id           author.name        date  rating  \\\n",
       "0    AFFXBJ3HLCETFAMKAWAX2STT2NCA                  Xxxx  2019-01-14       5   \n",
       "1    AFADQ5CXWECICH4PZQKY5KJ63YTQ            sebastiano  2017-12-31       5   \n",
       "2    AGSGI4XBH46OAS46EATYOVDKTPEA  Spiaggia dei Maronti  2018-10-13       4   \n",
       "3    AGQNCTJHHDUIPBQTSLZOLTOJVSAA                 lu239  2018-09-22       2   \n",
       "4    AFNCTVOMQMNJDHTETJL4FZPYBXYQ                  Soad  2019-01-09       5   \n",
       "..                            ...                   ...         ...     ...   \n",
       "913  AHG7FJHEI64ATPJL54DNLPPR3DGQ             Nicola B.  2018-11-09       5   \n",
       "914  AGGWKX7W36FTINFEUKO52CXFTO6Q         argazzi marco  2018-10-04       4   \n",
       "915  AGKBQVN7HFJMOTF5WMX2OWQKSI6Q       Francesco Fibbi  2017-11-29       5   \n",
       "916  AEYABCRX3JNMAR644XQJJACWMBBQ    Edoardo Margheriti  2017-11-15       5   \n",
       "917  AET7N2C3SU3OHY5MUDOHOK3SWVAA                 Denis  2018-01-12       5   \n",
       "\n",
       "     helpful  verified                                               body  \\\n",
       "0        252      True                  Utile e funzionale, da acquistare   \n",
       "1        240      True  devo dire che questa piccola pennetta da attac...   \n",
       "2        447      True  Come nel titolo.\\r\\nTalmente entusiasta che gi...   \n",
       "3        144      True  Non c’è il tasto Search. Se scarichi qualcosa ...   \n",
       "4          1      True  Che dire, straconsigliata.\\r\\nCercherò di scri...   \n",
       "..       ...       ...                                                ...   \n",
       "913        1      True  Puoi scaricarci un mucchio di app, semplice e ...   \n",
       "914        1      True  molto soddisfatto per la possibilita' di avere...   \n",
       "915        1      True  Consigliatissimo, le serie Amazon sono veramen...   \n",
       "916        1      True  Funziona benissimo, è facile e intuitivo.. Ama...   \n",
       "917        1      True  Prodotto ottimo e semplice da utilizzare. Perm...   \n",
       "\n",
       "     polarity  \n",
       "0    0.273380  \n",
       "1   -0.016322  \n",
       "2    0.068274  \n",
       "3   -0.051793  \n",
       "4    0.091273  \n",
       "..        ...  \n",
       "913  0.060958  \n",
       "914  0.033922  \n",
       "915 -0.047088  \n",
       "916  0.007301  \n",
       "917  0.148847  \n",
       "\n",
       "[918 rows x 10 columns]"
      ]
     },
     "execution_count": 129,
     "metadata": {},
     "output_type": "execute_result"
    }
   ],
   "source": [
    "dataReviews_product_pol"
   ]
  },
  {
   "cell_type": "code",
   "execution_count": 130,
   "metadata": {},
   "outputs": [
    {
     "data": {
      "text/plain": [
       "<matplotlib.axes._subplots.AxesSubplot at 0x2a4912a1c40>"
      ]
     },
     "execution_count": 130,
     "metadata": {},
     "output_type": "execute_result"
    },
    {
     "data": {
      "image/png": "[encoded data removed]",
      "text/plain": [
       "<Figure size 432x288 with 1 Axes>"
      ]
     },
     "metadata": {
      "needs_background": "light"
     },
     "output_type": "display_data"
    }
   ],
   "source": [
    "dataReviews_product_pol['polarity'].plot()"
   ]
  },
  {
   "cell_type": "code",
   "execution_count": 105,
   "metadata": {},
   "outputs": [
    {
     "data": {
      "text/plain": [
       "<matplotlib.axes._subplots.AxesSubplot at 0x2a4a4605cd0>"
      ]
     },
     "execution_count": 105,
     "metadata": {},
     "output_type": "execute_result"
    },
    {
     "data": {
      "image/png": "[encoded data removed]",
      "text/plain": [
       "<Figure size 432x288 with 1 Axes>"
      ]
     },
     "metadata": {
      "needs_background": "light"
     },
     "output_type": "display_data"
    }
   ],
   "source": [
    "dataReviews_product_pol['rating'].plot()"
   ]
  },
  {
   "cell_type": "markdown",
   "metadata": {},
   "source": [
    "### Rating and polarity of a product in time"
   ]
  },
  {
   "cell_type": "code",
   "execution_count": null,
   "metadata": {},
   "outputs": [],
   "source": [
    "dataReviews_product_pol[\"date\"] = dataReviews_product_pol[\"date\"].progress_apply(lambda string: \\\n",
    "                                                                           datetime.strptime(string, '%Y-%m-%d')) "
   ]
  },
  {
   "cell_type": "code",
   "execution_count": 137,
   "metadata": {},
   "outputs": [],
   "source": [
    "dataReviews_product_pol=dataReviews_product_pol.assign(\n",
    "    period=dataReviews_product_pol.date.dt.to_period('M')\n",
    ")"
   ]
  },
  {
   "cell_type": "code",
   "execution_count": 140,
   "metadata": {},
   "outputs": [],
   "source": [
    "dataReviews_product_pol_month = dataReviews_product_pol.groupby('period').mean()"
   ]
  },
  {
   "cell_type": "code",
   "execution_count": 142,
   "metadata": {},
   "outputs": [
    {
     "data": {
      "text/plain": [
       "<matplotlib.axes._subplots.AxesSubplot at 0x2a4976b7a60>"
      ]
     },
     "execution_count": 142,
     "metadata": {},
     "output_type": "execute_result"
    },
    {
     "data": {
      "image/png": "[encoded data removed]",
      "text/plain": [
       "<Figure size 432x288 with 1 Axes>"
      ]
     },
     "metadata": {
      "needs_background": "light"
     },
     "output_type": "display_data"
    }
   ],
   "source": [
    "dataReviews_product_pol_month['polarity'].plot()"
   ]
  },
  {
   "cell_type": "code",
   "execution_count": null,
   "metadata": {},
   "outputs": [],
   "source": [
    "dataReviews_product_pol_month['polarity'].plot()"
   ]
  },
  {
   "cell_type": "markdown",
   "metadata": {},
   "source": [
    "### Sentix (DISCARD ALL FROM HERE TO THE END ?)"
   ]
  },
  {
   "cell_type": "code",
   "execution_count": null,
   "metadata": {},
   "outputs": [],
   "source": [
    "from nltk.stem.snowball import SnowballStemmer"
   ]
  },
  {
   "cell_type": "code",
   "execution_count": null,
   "metadata": {},
   "outputs": [],
   "source": [
    "stemmer = SnowballStemmer(\"italian\")\n",
    "def stemming_token(sentence,stemmer):\n",
    "    stem = []\n",
    "    for elem in sentence:\n",
    "        stem.append(stemmer.stem(elem))\n",
    "    return stem"
   ]
  },
  {
   "cell_type": "code",
   "execution_count": null,
   "metadata": {},
   "outputs": [],
   "source": [
    "sentix = pd.read_csv(\"../data/sentix.csv\", sep=\"\\t\", header=None)\n",
    "sentix.columns=[\"lemma\", \"POS\", \"synset_ID\", \"score_1\", \"score_2\", \"polarity\", \"intensity\"] \n",
    "sentix.head(1)"
   ]
  },
  {
   "cell_type": "code",
   "execution_count": null,
   "metadata": {},
   "outputs": [],
   "source": [
    "sentix[\"lemma\"] = sentix[\"lemma\"].astype(str)\n",
    "sentix[\"stemming\"] = sentix[\"lemma\"].apply(stemmer.stem)\n",
    "sentix.head(5)"
   ]
  },
  {
   "cell_type": "code",
   "execution_count": null,
   "metadata": {},
   "outputs": [],
   "source": [
    "sentix[\"polarity\"] = sentix[\"polarity\"]*5\n",
    "sentix.head(1)\n"
   ]
  },
  {
   "cell_type": "markdown",
   "metadata": {},
   "source": [
    "### Sentix for lexicon based sentiment analysis"
   ]
  },
  {
   "cell_type": "code",
   "execution_count": null,
   "metadata": {},
   "outputs": [],
   "source": [
    "sentix_agg = sentix.loc[sentix[\"POS\"]==\"a\"]\n",
    "\n",
    "# add extra words\n",
    "sentix_agg = sentix_agg.append({'stemming': stemmer.stem('reso'), 'polarity': -5, 'intensity': 1, 'synset_ID': '00048739'}, ignore_index = True)\n",
    "sentix_agg = sentix_agg.append({'stemming': stemmer.stem('restituito'), 'polarity': -5, 'intensity': 1, 'synset_ID': '00048739'}, ignore_index = True)\n",
    "sentix_agg = sentix_agg.append({'stemming': 'bel', 'polarity': 5, 'intensity': 1, 'synset_ID': '00217728'}, ignore_index = True)"
   ]
  },
  {
   "cell_type": "code",
   "execution_count": null,
   "metadata": {},
   "outputs": [],
   "source": [
    "sentix = sentix.append({'stemming': stemmer.stem('reso'), 'polarity': -5, 'intensity': 1, 'synset_ID': '00048739'}, ignore_index = True)\n",
    "sentix = sentix.append({'stemming': stemmer.stem('restituito'), 'polarity': -5, 'intensity': 1, 'synset_ID': '00048739'}, ignore_index = True)\n",
    "sentix = sentix.append({'stemming': 'bel', 'polarity': 5, 'intensity': 1, 'synset_ID': '00217728'}, ignore_index = True)"
   ]
  },
  {
   "cell_type": "code",
   "execution_count": null,
   "metadata": {},
   "outputs": [],
   "source": [
    "sentix_agg.iloc[len(sentix_agg)-1]"
   ]
  },
  {
   "cell_type": "code",
   "execution_count": null,
   "metadata": {},
   "outputs": [],
   "source": [
    "dataReviews_POS[\"token\"] = dataReviews_POS[\"body\"].apply(word_tokenize)\n",
    "dataReviews_POS[\"stemming\"] = [stemming_token(row[\"token\"], stemmer) for _, row in dataReviews_POS.iterrows()]\n",
    "dataReviews_NEG[\"token\"] = dataReviews_NEG[\"body\"].apply(word_tokenize)\n",
    "dataReviews_NEG[\"stemming\"] = [stemming_token(row[\"token\"], stemmer) for _, row in dataReviews_NEG.iterrows()]"
   ]
  },
  {
   "cell_type": "code",
   "execution_count": null,
   "metadata": {},
   "outputs": [],
   "source": [
    "dataReviews_POS.head(1)"
   ]
  },
  {
   "cell_type": "code",
   "execution_count": null,
   "metadata": {},
   "outputs": [],
   "source": [
    "dataReviews_NEG.head(1)"
   ]
  },
  {
   "cell_type": "code",
   "execution_count": null,
   "metadata": {},
   "outputs": [],
   "source": [
    "import statistics \n",
    "\n",
    "def lexicon_based_score(sentence,df_sentix):\n",
    "    sum_pol = 0\n",
    "    count=0\n",
    "    #print(sentence)\n",
    "    context = None\n",
    "    for elem in sentence:\n",
    "        #polarity = df_sentix[df_sentix.stemming  == elem]['polarity']\n",
    "        values = df_sentix[df_sentix.stemming  == elem][['polarity','intensity','synset_ID']]\n",
    "        if not(values.empty):\n",
    "            count += 1\n",
    "            #print(elem)\n",
    "            #print(polarity)\n",
    "            #print(sum_pol)\n",
    "            #if len(polarity >1):\n",
    "                #print(type(polarity.iloc[0]))\n",
    "                #print(\"polarity\",polarity.value_counts())\n",
    "            #sum_pol += polarity.value_counts().index[0]#statistics.mean(polarity)\n",
    "            synset_values = values[values.synset_ID == context]           \n",
    "            if synset_values.empty:\n",
    "                synset_values = values.iloc[0]\n",
    "                context = synset_values['synset_ID']\n",
    "            else:\n",
    "                synset_values =  synset_values.iloc[0]\n",
    "            sum_pol += synset_values['polarity']*synset_values['intensity']\n",
    "            \n",
    "            #print(polarity)\n",
    "            #print(statistics.mean(polarity))\n",
    "            #else:\n",
    "            #    sum_pol += polarity\n",
    "    #print(sum_pol)\n",
    "    #print(\"_________________________________________________________\")\n",
    "    if count != 0:\n",
    "        return sum_pol/count\n",
    "    return 0"
   ]
  },
  {
   "cell_type": "code",
   "execution_count": null,
   "metadata": {},
   "outputs": [],
   "source": [
    "polarity = sentix[sentix.stemming  == stemmer.stem('subito')][['polarity','intensity','synset_ID']]\n",
    "polarity.iloc[0]['polarity']*polarity.iloc[0]['intensity']"
   ]
  },
  {
   "cell_type": "code",
   "execution_count": null,
   "metadata": {},
   "outputs": [],
   "source": []
  },
  {
   "cell_type": "markdown",
   "metadata": {},
   "source": [
    "#### Sentix on positive reviews"
   ]
  },
  {
   "cell_type": "code",
   "execution_count": null,
   "metadata": {},
   "outputs": [],
   "source": [
    "dataReviews_POS[\"pol\"] = dataReviews_POS[\"stemming\"].progress_apply(lambda x: lexicon_based_score(x,sentix_agg))\n"
   ]
  },
  {
   "cell_type": "code",
   "execution_count": null,
   "metadata": {},
   "outputs": [],
   "source": [
    "dataReviews_NEG[\"pol\"] = dataReviews_NEG[\"stemming\"].progress_apply(lambda x: lexicon_based_score(x,sentix_agg))\n"
   ]
  },
  {
   "cell_type": "code",
   "execution_count": null,
   "metadata": {},
   "outputs": [],
   "source": [
    "print(\"% accuracy POS: \", len(dataReviews_POS.loc[dataReviews_POS.pol > 0])/len(dataReviews_POS)*100)"
   ]
  },
  {
   "cell_type": "code",
   "execution_count": null,
   "metadata": {
    "scrolled": true
   },
   "outputs": [],
   "source": [
    "print(\"% accuracy NEG: \", len(dataReviews_NEG.loc[dataReviews_NEG.pol < 0])/len(dataReviews_NEG)*100)"
   ]
  },
  {
   "cell_type": "code",
   "execution_count": null,
   "metadata": {},
   "outputs": [],
   "source": [
    "dataReviews_NEG[dataReviews_NEG.pol > 0]['body'].values[0]"
   ]
  },
  {
   "cell_type": "code",
   "execution_count": null,
   "metadata": {},
   "outputs": [],
   "source": [
    "stemmer.stem('pessim')"
   ]
  },
  {
   "cell_type": "markdown",
   "metadata": {},
   "source": [
    "### Prodotti nel tempo"
   ]
  },
  {
   "cell_type": "code",
   "execution_count": null,
   "metadata": {},
   "outputs": [],
   "source": [
    "dataReviews[\"product\"]"
   ]
  },
  {
   "cell_type": "code",
   "execution_count": null,
   "metadata": {
    "scrolled": true
   },
   "outputs": [],
   "source": [
    "prod = \"B00DDPI5NS\"\n",
    "#prod = \"B07DMJPV31\"\n",
    "df_product = dataReviews[dataReviews[\"product\"]  == prod]\n",
    "df_product"
   ]
  },
  {
   "cell_type": "code",
   "execution_count": null,
   "metadata": {
    "scrolled": true
   },
   "outputs": [],
   "source": [
    "#delete day\n",
    "df_product=df_product.assign(\n",
    "    Period=df_product.date.dt.to_period('M')\n",
    ")\n",
    "df_product"
   ]
  },
  {
   "cell_type": "code",
   "execution_count": null,
   "metadata": {},
   "outputs": [],
   "source": [
    "df_product['token']=df_product['body'].progress_apply(word_tokenize)"
   ]
  },
  {
   "cell_type": "code",
   "execution_count": null,
   "metadata": {
    "scrolled": true
   },
   "outputs": [],
   "source": [
    "df_product"
   ]
  },
  {
   "cell_type": "code",
   "execution_count": null,
   "metadata": {},
   "outputs": [],
   "source": [
    "sub_data"
   ]
  },
  {
   "cell_type": "code",
   "execution_count": null,
   "metadata": {},
   "outputs": [],
   "source": [
    "sub_data[\"stemming\"]=[stemming_token(row[\"token\"], stemmer) for _, row in sub_data.iterrows()]\n",
    "df_product[\"stemming\"] = [stemming_token(df_product[\"token\"], stemmer) for _, row in df_product.iterrows()]"
   ]
  },
  {
   "cell_type": "code",
   "execution_count": null,
   "metadata": {},
   "outputs": [],
   "source": [
    "df_product['lexicon_score_sentix']= df_product[\"stemming\"].progress_apply(lambda x: lexicon_based_score(x,sentix_agg))"
   ]
  },
  {
   "cell_type": "code",
   "execution_count": null,
   "metadata": {},
   "outputs": [],
   "source": [
    "#dataReviews[\"product\"]\n",
    "df_month = df_product[['Period','rating']].groupby(['Period']).mean()\n",
    "df_month"
   ]
  },
  {
   "cell_type": "code",
   "execution_count": null,
   "metadata": {},
   "outputs": [],
   "source": [
    "df_month.plot(style='.-')"
   ]
  },
  {
   "cell_type": "code",
   "execution_count": null,
   "metadata": {},
   "outputs": [],
   "source": [
    "df_product [df_product[\"Period\"]  == \"2019-03\"]"
   ]
  },
  {
   "cell_type": "code",
   "execution_count": null,
   "metadata": {},
   "outputs": [],
   "source": [
    "# manage_date(df_product[\"Period\"].iloc[0])\n",
    "df_product[\"new_period\"] = df_product[\"Period\"].apply(manage_date)\n",
    "df_product"
   ]
  },
  {
   "cell_type": "code",
   "execution_count": null,
   "metadata": {},
   "outputs": [],
   "source": [
    "final_product_df = df_product[['new_period','rating']].groupby(['new_period']).mean()\n",
    "final_product_df"
   ]
  },
  {
   "cell_type": "code",
   "execution_count": null,
   "metadata": {},
   "outputs": [],
   "source": [
    "final_product_df.plot(style='.-')"
   ]
  }
 ],
 "metadata": {
  "kernelspec": {
   "display_name": "Python 3",
   "language": "python",
   "name": "python3"
  },
  "language_info": {
   "codemirror_mode": {
    "name": "ipython",
    "version": 3
   },
   "file_extension": ".py",
   "mimetype": "text/x-python",
   "name": "python",
   "nbconvert_exporter": "python",
   "pygments_lexer": "ipython3",
   "version": "3.8.3"
  }
 },
 "nbformat": 4,
 "nbformat_minor": 4
}
