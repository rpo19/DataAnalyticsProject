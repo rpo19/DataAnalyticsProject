{
 "cells": [
  {
   "cell_type": "code",
   "execution_count": 3,
   "metadata": {},
   "outputs": [
    {
     "name": "stderr",
     "output_type": "stream",
     "text": [
      "/home/rpo/workspace/git/dataanalyticsproject/src/venv/lib/python3.8/site-packages/tqdm/std.py:668: FutureWarning: The Panel class is removed from pandas. Accessing it from the top-level namespace will also be removed in the next version\n",
      "  from pandas import Panel\n"
     ]
    }
   ],
   "source": [
    "import pandas as pd\n",
    "import matplotlib.pyplot as plt\n",
    "import seaborn as sns\n",
    "from nltk.tokenize import word_tokenize\n",
    "import itertools\n",
    "from collections import Counter\n",
    "import nltk\n",
    "from nltk.stem.snowball import SnowballStemmer\n",
    "\n",
    "import string\n",
    "from nltk import wordpunct_tokenize\n",
    "\n",
    "from wordcloud import WordCloud\n",
    "from datetime import datetime\n",
    "import pickle\n",
    "import re\n",
    "\n",
    "#progress bar\n",
    "from tqdm import tqdm, tqdm_notebook\n",
    "\n",
    "# instantiate\n",
    "tqdm.pandas(tqdm_notebook)\n",
    "\n",
    "from sklearn.feature_extraction.text import CountVectorizer\n",
    "from sklearn.model_selection import train_test_split\n",
    "from sklearn.linear_model import LogisticRegression"
   ]
  },
  {
   "cell_type": "markdown",
   "metadata": {},
   "source": [
    "### Scommentare se si usano i dati iniziali"
   ]
  },
  {
   "cell_type": "code",
   "execution_count": 5,
   "metadata": {},
   "outputs": [],
   "source": [
    "dataReviewsChunk = pd.read_json('../data/reviews.json', lines=True, chunksize=10000)"
   ]
  },
  {
   "cell_type": "code",
   "execution_count": 6,
   "metadata": {},
   "outputs": [
    {
     "data": {
      "text/plain": [
       "<pandas.io.json._json.JsonReader at 0x7f402d4e4040>"
      ]
     },
     "execution_count": 6,
     "metadata": {},
     "output_type": "execute_result"
    }
   ],
   "source": [
    "dataReviewsChunk"
   ]
  },
  {
   "cell_type": "code",
   "execution_count": 7,
   "metadata": {},
   "outputs": [],
   "source": [
    "\n",
    "chunk_list = []  # append each chunk df here \n",
    "\n",
    "# Each chunk is in df format\n",
    "for chunk in dataReviewsChunk:\n",
    "\n",
    "    chunk_list.append(chunk)"
   ]
  },
  {
   "cell_type": "code",
   "execution_count": 8,
   "metadata": {},
   "outputs": [],
   "source": [
    "dataReviews = pd.concat(chunk_list)"
   ]
  },
  {
   "cell_type": "code",
   "execution_count": null,
   "metadata": {},
   "outputs": [],
   "source": [
    "## elimino recensioni non verificate e quelli con helpfull == 0"
   ]
  },
  {
   "cell_type": "code",
   "execution_count": 13,
   "metadata": {},
   "outputs": [],
   "source": [
    "def convert_to_int(field):\n",
    "    return field[\"$numberInt\"]"
   ]
  },
  {
   "cell_type": "code",
   "execution_count": 14,
   "metadata": {},
   "outputs": [],
   "source": [
    "dataReviews[\"rating\"]=dataReviews[\"rating\"].apply(convert_to_int).astype(int)"
   ]
  },
  {
   "cell_type": "code",
   "execution_count": 17,
   "metadata": {},
   "outputs": [],
   "source": [
    "dataReviews[\"helpful\"]=dataReviews[\"helpful\"].apply(convert_to_int).astype(int)"
   ]
  },
  {
   "cell_type": "code",
   "execution_count": null,
   "metadata": {},
   "outputs": [],
   "source": [
    "'''dataReviews = dataReviews.loc[dataReviews[\"verified\"] == True]'''"
   ]
  },
  {
   "cell_type": "code",
   "execution_count": null,
   "metadata": {},
   "outputs": [],
   "source": [
    "'''len(dataReviews.loc[dataReviews[\"verified\"] == False])'''"
   ]
  },
  {
   "cell_type": "code",
   "execution_count": null,
   "metadata": {},
   "outputs": [],
   "source": [
    "'''len(dataReviews.loc[dataReviews[\"helpful\"] == 0]) - len(dataReviews.loc[dataReviews[\"helpful\"] != 0])'''"
   ]
  },
  {
   "cell_type": "code",
   "execution_count": null,
   "metadata": {
    "scrolled": true
   },
   "outputs": [],
   "source": [
    "'''dataReviews = dataReviews.loc[dataReviews[\"helpful\"] != 0]\n",
    "dataReviews'''"
   ]
  },
  {
   "cell_type": "markdown",
   "metadata": {},
   "source": [
    "### Dati filtrati (vedi sopra)"
   ]
  },
  {
   "cell_type": "code",
   "execution_count": null,
   "metadata": {},
   "outputs": [],
   "source": [
    "dataReviews = pd.read_csv(\"../data/dati_ridotti.csv\", sep=\",\", index_col=0)"
   ]
  },
  {
   "cell_type": "code",
   "execution_count": null,
   "metadata": {},
   "outputs": [],
   "source": [
    "dataReviews"
   ]
  },
  {
   "cell_type": "code",
   "execution_count": null,
   "metadata": {},
   "outputs": [],
   "source": [
    "counts = dataReviews[\"rating\"].value_counts()"
   ]
  },
  {
   "cell_type": "code",
   "execution_count": null,
   "metadata": {},
   "outputs": [],
   "source": [
    "counts.values"
   ]
  },
  {
   "cell_type": "code",
   "execution_count": null,
   "metadata": {},
   "outputs": [],
   "source": [
    "x = counts._index\n",
    "print(x)\n",
    "y = counts.values\n",
    "print(y)"
   ]
  },
  {
   "cell_type": "code",
   "execution_count": null,
   "metadata": {},
   "outputs": [],
   "source": [
    "fig = plt.figure(figsize=(18,6))\n",
    "sns.barplot(x=counts._index, y=counts.values)\n",
    "plt.title(\"Rating distribution\")\n",
    "plt.show()"
   ]
  },
  {
   "cell_type": "code",
   "execution_count": null,
   "metadata": {},
   "outputs": [],
   "source": [
    "print(\"Proportion of review with score=1: {}%\".format(len(dataReviews[dataReviews.rating == 1]) / len(dataReviews)*100))\n",
    "print(\"Proportion of review with score=2: {}%\".format(len(dataReviews[dataReviews.rating == 2]) / len(dataReviews)*100))\n",
    "print(\"Proportion of review with score=3: {}%\".format(len(dataReviews[dataReviews.rating == 3]) / len(dataReviews)*100))\n",
    "print(\"Proportion of review with score=4: {}%\".format(len(dataReviews[dataReviews.rating == 4]) / len(dataReviews)*100))\n",
    "print(\"Proportion of review with score=5: {}%\".format(len(dataReviews[dataReviews.rating == 5]) / len(dataReviews)*100))"
   ]
  },
  {
   "cell_type": "code",
   "execution_count": null,
   "metadata": {},
   "outputs": [],
   "source": [
    "# recensioni vuote\n",
    "dataReviews[dataReviews[\"body\"].str.len() == 0]"
   ]
  },
  {
   "cell_type": "code",
   "execution_count": null,
   "metadata": {},
   "outputs": [],
   "source": [
    "dataReviews.loc[dataReviews['rating'] == 3 , 'polarity'] = 'neutral'\n",
    "dataReviews.loc[dataReviews['rating'] > 3 , 'polarity'] = 'positive'\n",
    "dataReviews.loc[dataReviews['rating'] < 3 , 'polarity'] = 'negative'"
   ]
  },
  {
   "cell_type": "code",
   "execution_count": null,
   "metadata": {},
   "outputs": [],
   "source": [
    "counts = dataReviews[\"polarity\"].value_counts()\n",
    "fig = plt.figure(figsize=(18,6))\n",
    "sns.barplot(x=counts._index, y=counts.values)\n",
    "plt.title(\"Rating distribution\")\n",
    "plt.show()"
   ]
  },
  {
   "cell_type": "code",
   "execution_count": null,
   "metadata": {},
   "outputs": [],
   "source": [
    "def undersampling(df):\n",
    "    positive, negative, _ = df.polarity.value_counts()\n",
    "    df_positive = df[df.polarity == 'positive']\n",
    "    df_positive = df_positive.sample(negative, random_state=1)\n",
    "    df_negative = df[df.polarity == 'negative']\n",
    "    df = pd.concat([df_positive, df_negative])\n",
    "    #df = df.sample(frac=1)\n",
    "    return df"
   ]
  },
  {
   "cell_type": "code",
   "execution_count": null,
   "metadata": {},
   "outputs": [],
   "source": [
    "new_dataReviews = undersampling(dataReviews)"
   ]
  },
  {
   "cell_type": "code",
   "execution_count": null,
   "metadata": {},
   "outputs": [],
   "source": [
    "counts = new_dataReviews[\"polarity\"].value_counts()\n",
    "fig = plt.figure(figsize=(18,6))\n",
    "sns.barplot(x=counts._index, y=counts.values)\n",
    "plt.title(\"Rating distribution\")\n",
    "plt.show()"
   ]
  },
  {
   "cell_type": "markdown",
   "metadata": {},
   "source": [
    "### Funzioni varie"
   ]
  },
  {
   "cell_type": "code",
   "execution_count": null,
   "metadata": {},
   "outputs": [],
   "source": [
    "def flat_list(l):\n",
    "    return  [item for sublist in l for item in sublist]"
   ]
  },
  {
   "cell_type": "code",
   "execution_count": null,
   "metadata": {},
   "outputs": [],
   "source": [
    "def plot_common_tokens(tokens, title, n=20):\n",
    "    sentences = (list(itertools.chain(tokens)))\n",
    "    flat_sentences = flat_list(sentences)\n",
    "    counts = Counter(flat_sentences)\n",
    "    #print(counts.most_common(30))\n",
    "    common_words = [word[0] for word in counts.most_common(n)]\n",
    "    common_counts = [word[1] for word in counts.most_common(n)]\n",
    "    fig = plt.figure(figsize=(18,6))\n",
    "    sns.barplot(x=common_words, y=common_counts)\n",
    "    plt.title(title)\n",
    "    plt.show()"
   ]
  },
  {
   "cell_type": "code",
   "execution_count": null,
   "metadata": {},
   "outputs": [],
   "source": [
    "def word_Cloud(sentences):\n",
    "    flat_sentences = flat_list(sentences)\n",
    "    unique_string=(\" \").join(flat_sentences)\n",
    "\n",
    "    wordcloud = WordCloud(background_color=\"white\").generate(unique_string)\n",
    "    plt.figure(figsize = (10, 8), facecolor = None) \n",
    "    plt.imshow(wordcloud, interpolation='bilinear')\n",
    "    plt.axis(\"off\")\n",
    "    plt.show()"
   ]
  },
  {
   "cell_type": "markdown",
   "metadata": {},
   "source": [
    "### Tokenizzazione"
   ]
  },
  {
   "cell_type": "code",
   "execution_count": null,
   "metadata": {
    "scrolled": true
   },
   "outputs": [],
   "source": [
    "new_dataReviews['token']=new_dataReviews['body'].progress_apply(word_tokenize)"
   ]
  },
  {
   "cell_type": "code",
   "execution_count": null,
   "metadata": {},
   "outputs": [],
   "source": [
    "#new_dataReviews['token'] #Name: token, Length: 130648, dtype: object"
   ]
  },
  {
   "cell_type": "markdown",
   "metadata": {},
   "source": [
    "### Stopwords"
   ]
  },
  {
   "cell_type": "code",
   "execution_count": 68,
   "metadata": {},
   "outputs": [
    {
     "data": {
      "text/plain": [
       "['ad',\n",
       " 'al',\n",
       " 'allo',\n",
       " 'ai',\n",
       " 'agli',\n",
       " 'all',\n",
       " 'agl',\n",
       " 'alla',\n",
       " 'alle',\n",
       " 'con',\n",
       " 'col',\n",
       " 'coi',\n",
       " 'da',\n",
       " 'dal',\n",
       " 'dallo',\n",
       " 'dai',\n",
       " 'dagli',\n",
       " 'dall',\n",
       " 'dagl',\n",
       " 'dalla',\n",
       " 'dalle',\n",
       " 'di',\n",
       " 'del',\n",
       " 'dello',\n",
       " 'dei',\n",
       " 'degli',\n",
       " 'dell',\n",
       " 'degl',\n",
       " 'della',\n",
       " 'delle',\n",
       " 'in',\n",
       " 'nel',\n",
       " 'nello',\n",
       " 'nei',\n",
       " 'negli',\n",
       " 'nell',\n",
       " 'negl',\n",
       " 'nella',\n",
       " 'nelle',\n",
       " 'su',\n",
       " 'sul',\n",
       " 'sullo',\n",
       " 'sui',\n",
       " 'sugli',\n",
       " 'sull',\n",
       " 'sugl',\n",
       " 'sulla',\n",
       " 'sulle',\n",
       " 'per',\n",
       " 'tra',\n",
       " 'contro',\n",
       " 'io',\n",
       " 'tu',\n",
       " 'lui',\n",
       " 'lei',\n",
       " 'noi',\n",
       " 'voi',\n",
       " 'loro',\n",
       " 'mio',\n",
       " 'mia',\n",
       " 'miei',\n",
       " 'mie',\n",
       " 'tuo',\n",
       " 'tua',\n",
       " 'tuoi',\n",
       " 'tue',\n",
       " 'suo',\n",
       " 'sua',\n",
       " 'suoi',\n",
       " 'sue',\n",
       " 'nostro',\n",
       " 'nostra',\n",
       " 'nostri',\n",
       " 'nostre',\n",
       " 'vostro',\n",
       " 'vostra',\n",
       " 'vostri',\n",
       " 'vostre',\n",
       " 'mi',\n",
       " 'ti',\n",
       " 'ci',\n",
       " 'vi',\n",
       " 'lo',\n",
       " 'la',\n",
       " 'li',\n",
       " 'le',\n",
       " 'gli',\n",
       " 'ne',\n",
       " 'il',\n",
       " 'un',\n",
       " 'uno',\n",
       " 'una',\n",
       " 'ma',\n",
       " 'ed',\n",
       " 'se',\n",
       " 'perché',\n",
       " 'anche',\n",
       " 'come',\n",
       " 'dov',\n",
       " 'dove',\n",
       " 'che',\n",
       " 'chi',\n",
       " 'cui',\n",
       " 'non',\n",
       " 'più',\n",
       " 'quale',\n",
       " 'quanto',\n",
       " 'quanti',\n",
       " 'quanta',\n",
       " 'quante',\n",
       " 'quello',\n",
       " 'quelli',\n",
       " 'quella',\n",
       " 'quelle',\n",
       " 'questo',\n",
       " 'questi',\n",
       " 'questa',\n",
       " 'queste',\n",
       " 'si',\n",
       " 'tutto',\n",
       " 'tutti',\n",
       " 'a',\n",
       " 'c',\n",
       " 'e',\n",
       " 'i',\n",
       " 'l',\n",
       " 'o',\n",
       " 'ho',\n",
       " 'hai',\n",
       " 'ha',\n",
       " 'abbiamo',\n",
       " 'avete',\n",
       " 'hanno',\n",
       " 'abbia',\n",
       " 'abbiate',\n",
       " 'abbiano',\n",
       " 'avrò',\n",
       " 'avrai',\n",
       " 'avrà',\n",
       " 'avremo',\n",
       " 'avrete',\n",
       " 'avranno',\n",
       " 'avrei',\n",
       " 'avresti',\n",
       " 'avrebbe',\n",
       " 'avremmo',\n",
       " 'avreste',\n",
       " 'avrebbero',\n",
       " 'avevo',\n",
       " 'avevi',\n",
       " 'aveva',\n",
       " 'avevamo',\n",
       " 'avevate',\n",
       " 'avevano',\n",
       " 'ebbi',\n",
       " 'avesti',\n",
       " 'ebbe',\n",
       " 'avemmo',\n",
       " 'aveste',\n",
       " 'ebbero',\n",
       " 'avessi',\n",
       " 'avesse',\n",
       " 'avessimo',\n",
       " 'avessero',\n",
       " 'avendo',\n",
       " 'avuto',\n",
       " 'avuta',\n",
       " 'avuti',\n",
       " 'avute',\n",
       " 'sono',\n",
       " 'sei',\n",
       " 'è',\n",
       " 'siamo',\n",
       " 'siete',\n",
       " 'sia',\n",
       " 'siate',\n",
       " 'siano',\n",
       " 'sarò',\n",
       " 'sarai',\n",
       " 'sarà',\n",
       " 'saremo',\n",
       " 'sarete',\n",
       " 'saranno',\n",
       " 'sarei',\n",
       " 'saresti',\n",
       " 'sarebbe',\n",
       " 'saremmo',\n",
       " 'sareste',\n",
       " 'sarebbero',\n",
       " 'ero',\n",
       " 'eri',\n",
       " 'era',\n",
       " 'eravamo',\n",
       " 'eravate',\n",
       " 'erano',\n",
       " 'fui',\n",
       " 'fosti',\n",
       " 'fu',\n",
       " 'fummo',\n",
       " 'foste',\n",
       " 'furono',\n",
       " 'fossi',\n",
       " 'fosse',\n",
       " 'fossimo',\n",
       " 'fossero',\n",
       " 'essendo',\n",
       " 'faccio',\n",
       " 'fai',\n",
       " 'facciamo',\n",
       " 'fanno',\n",
       " 'faccia',\n",
       " 'facciate',\n",
       " 'facciano',\n",
       " 'farò',\n",
       " 'farai',\n",
       " 'farà',\n",
       " 'faremo',\n",
       " 'farete',\n",
       " 'faranno',\n",
       " 'farei',\n",
       " 'faresti',\n",
       " 'farebbe',\n",
       " 'faremmo',\n",
       " 'fareste',\n",
       " 'farebbero',\n",
       " 'facevo',\n",
       " 'facevi',\n",
       " 'faceva',\n",
       " 'facevamo',\n",
       " 'facevate',\n",
       " 'facevano',\n",
       " 'feci',\n",
       " 'facesti',\n",
       " 'fece',\n",
       " 'facemmo',\n",
       " 'faceste',\n",
       " 'fecero',\n",
       " 'facessi',\n",
       " 'facesse',\n",
       " 'facessimo',\n",
       " 'facessero',\n",
       " 'facendo',\n",
       " 'sto',\n",
       " 'stai',\n",
       " 'sta',\n",
       " 'stiamo',\n",
       " 'stanno',\n",
       " 'stia',\n",
       " 'stiate',\n",
       " 'stiano',\n",
       " 'starò',\n",
       " 'starai',\n",
       " 'starà',\n",
       " 'staremo',\n",
       " 'starete',\n",
       " 'staranno',\n",
       " 'starei',\n",
       " 'staresti',\n",
       " 'starebbe',\n",
       " 'staremmo',\n",
       " 'stareste',\n",
       " 'starebbero',\n",
       " 'stavo',\n",
       " 'stavi',\n",
       " 'stava',\n",
       " 'stavamo',\n",
       " 'stavate',\n",
       " 'stavano',\n",
       " 'stetti',\n",
       " 'stesti',\n",
       " 'stette',\n",
       " 'stemmo',\n",
       " 'steste',\n",
       " 'stettero',\n",
       " 'stessi',\n",
       " 'stesse',\n",
       " 'stessimo',\n",
       " 'stessero',\n",
       " 'stando']"
      ]
     },
     "execution_count": 68,
     "metadata": {},
     "output_type": "execute_result"
    }
   ],
   "source": [
    "stop_words=nltk.corpus.stopwords.words('italian')\n",
    "stop_words"
   ]
  },
  {
   "cell_type": "code",
   "execution_count": null,
   "metadata": {
    "scrolled": true
   },
   "outputs": [],
   "source": [
    "new_dataReviews[\"cleaned\"] = new_dataReviews[\"token\"].progress_apply(lambda sentence : [word for word in sentence if word.lower() not in stop_words])"
   ]
  },
  {
   "cell_type": "markdown",
   "metadata": {},
   "source": [
    "### Punctuation"
   ]
  },
  {
   "cell_type": "code",
   "execution_count": 70,
   "metadata": {},
   "outputs": [
    {
     "name": "stdout",
     "output_type": "stream",
     "text": [
      "!\"#$%&'()*+,-./:;<=>?@[\\]^_`{|}~...''``--..\n"
     ]
    }
   ],
   "source": [
    "punctuation = string.punctuation\n",
    "punctuation = punctuation + \"...\"+ \"''\" + \"``\" + \"--\"+ \"..\"\n",
    "print(punctuation)"
   ]
  },
  {
   "cell_type": "code",
   "execution_count": null,
   "metadata": {},
   "outputs": [],
   "source": [
    "new_dataReviews[\"cleaned\"] = new_dataReviews[\"cleaned\"].progress_apply(lambda sentence : [word for word in sentence if word not in punctuation])"
   ]
  },
  {
   "cell_type": "markdown",
   "metadata": {},
   "source": [
    "### Numbers"
   ]
  },
  {
   "cell_type": "code",
   "execution_count": null,
   "metadata": {},
   "outputs": [],
   "source": [
    "regex_numbers = r'(?:(?:\\d+,?)+(?:\\.?\\d+)?)'"
   ]
  },
  {
   "cell_type": "code",
   "execution_count": null,
   "metadata": {},
   "outputs": [],
   "source": [
    "new_dataReviews[\"cleaned\"] = new_dataReviews[\"cleaned\"].progress_apply(lambda sentence : [re.sub(regex_numbers,\"\",word) for word in sentence if re.sub(regex_numbers,\"\",word) != \"\"])"
   ]
  },
  {
   "cell_type": "markdown",
   "metadata": {},
   "source": [
    "### Eliminazione token di lunghezza 1"
   ]
  },
  {
   "cell_type": "code",
   "execution_count": null,
   "metadata": {},
   "outputs": [],
   "source": [
    "new_dataReviews[\"cleaned\"] = new_dataReviews[\"cleaned\"].progress_apply(lambda sentence : [word for word in sentence if len(word)> 1])"
   ]
  },
  {
   "cell_type": "code",
   "execution_count": null,
   "metadata": {},
   "outputs": [],
   "source": [
    "new_dataReviews.to_csv(\"dati_puliti.csv\")"
   ]
  },
  {
   "cell_type": "code",
   "execution_count": null,
   "metadata": {},
   "outputs": [],
   "source": [
    "plot_common_tokens(new_dataReviews['cleaned'],'Most Common Tokens used in Reviews')"
   ]
  },
  {
   "cell_type": "code",
   "execution_count": null,
   "metadata": {},
   "outputs": [],
   "source": [
    "word_Cloud(new_dataReviews[\"cleaned\"])"
   ]
  },
  {
   "cell_type": "code",
   "execution_count": null,
   "metadata": {},
   "outputs": [],
   "source": [
    "sentences = (list(itertools.chain(new_dataReviews[\"cleaned\"])))\n",
    "flat_sentences = flat_list(sentences)\n",
    "counts = Counter(flat_sentences)\n",
    "counts.most_common()"
   ]
  },
  {
   "cell_type": "markdown",
   "metadata": {},
   "source": [
    "### Stemming"
   ]
  },
  {
   "cell_type": "code",
   "execution_count": 71,
   "metadata": {},
   "outputs": [],
   "source": [
    "stemmer = SnowballStemmer(\"italian\")\n",
    "def stemming_token(sentence,stemmer):\n",
    "    stem = []\n",
    "    for elem in sentence:\n",
    "        stem.append(stemmer.stem(elem))\n",
    "    return stem"
   ]
  },
  {
   "cell_type": "code",
   "execution_count": null,
   "metadata": {
    "scrolled": true
   },
   "outputs": [],
   "source": [
    "new_dataReviews[\"stemming\"]=[stemming_token(row[\"cleaned\"], stemmer) for _, row in tqdm(new_dataReviews.iterrows())]"
   ]
  },
  {
   "cell_type": "code",
   "execution_count": null,
   "metadata": {},
   "outputs": [],
   "source": [
    "#new_dataReviews = pd.read_csv(\"../data/dati_finali.csv\", sep=\",\", index_col=0)"
   ]
  },
  {
   "cell_type": "code",
   "execution_count": null,
   "metadata": {},
   "outputs": [],
   "source": [
    "### da fare solo se si legge il csv finale"
   ]
  },
  {
   "cell_type": "code",
   "execution_count": null,
   "metadata": {},
   "outputs": [],
   "source": [
    "#def str_to_list(sentence):\n",
    "#   return ast.literal_eval(sentence)"
   ]
  },
  {
   "cell_type": "code",
   "execution_count": null,
   "metadata": {},
   "outputs": [],
   "source": [
    "#import ast\n",
    "\n",
    "#new_dataReviews[\"stemming\"] = new_dataReviews[\"stemming\"].progress_apply(str_to_list)"
   ]
  },
  {
   "cell_type": "code",
   "execution_count": null,
   "metadata": {},
   "outputs": [],
   "source": [
    "len(new_dataReviews)"
   ]
  },
  {
   "cell_type": "markdown",
   "metadata": {},
   "source": [
    "### CountVectorizer"
   ]
  },
  {
   "cell_type": "code",
   "execution_count": null,
   "metadata": {},
   "outputs": [],
   "source": [
    "from sklearn.feature_extraction.text import CountVectorizer\n",
    "from sklearn.model_selection import train_test_split\n",
    "from sklearn.linear_model import LogisticRegression"
   ]
  },
  {
   "cell_type": "code",
   "execution_count": null,
   "metadata": {},
   "outputs": [],
   "source": [
    "count_vect = CountVectorizer(stop_words=None, lowercase=True)\n",
    "#lowercase = true -> Convert all characters to lowercase before tokenizing.\n",
    "#stop_words = None -> If None, no stop words will be used\n",
    "bow = count_vect.fit(new_dataReviews['stemming'].apply(lambda x: \" \".join(x)))"
   ]
  },
  {
   "cell_type": "code",
   "execution_count": null,
   "metadata": {},
   "outputs": [],
   "source": [
    "import pickle\n",
    "with open('../model/bow.bin', 'wb') as f:\n",
    "    pickle.dump(bow, f, pickle.HIGHEST_PROTOCOL)\n",
    "#s = pickle.dumps(model)"
   ]
  },
  {
   "cell_type": "code",
   "execution_count": 64,
   "metadata": {},
   "outputs": [
    {
     "name": "stderr",
     "output_type": "stream",
     "text": [
      "/home/rpo/workspace/git/dataanalyticsproject/src/venv/lib/python3.8/site-packages/sklearn/base.py:329: UserWarning: Trying to unpickle estimator CountVectorizer from version 0.21.3 when using version 0.23.1. This might lead to breaking code or invalid results. Use at your own risk.\n",
      "  warnings.warn(\n"
     ]
    }
   ],
   "source": [
    "with open('../model/bow.bin', 'rb') as f:\n",
    "    # The protocol version used is detected automatically, so we do not\n",
    "    # have to specify it.\n",
    "    bow = pickle.load(f)"
   ]
  },
  {
   "cell_type": "code",
   "execution_count": null,
   "metadata": {},
   "outputs": [],
   "source": [
    "count_vect"
   ]
  },
  {
   "cell_type": "code",
   "execution_count": null,
   "metadata": {},
   "outputs": [],
   "source": [
    "bow.get_feature_names()[::2000]"
   ]
  },
  {
   "cell_type": "code",
   "execution_count": null,
   "metadata": {},
   "outputs": [],
   "source": [
    "#X_train, X_test, y_train, y_test = train_test_split(bow, new_dataReviews['polarity'], test_size=0.2, random_state=1)\n",
    "X_train, X_test, y_train, y_test = train_test_split(new_dataReviews['stemming'].apply(lambda x: \" \".join(x)), new_dataReviews['polarity'], test_size=0.2, random_state=1)    "
   ]
  },
  {
   "cell_type": "code",
   "execution_count": null,
   "metadata": {
    "scrolled": true
   },
   "outputs": [],
   "source": [
    "print(\"train size: \",len(X_train))\n",
    "print(\"test size:\",len(X_test))"
   ]
  },
  {
   "cell_type": "code",
   "execution_count": null,
   "metadata": {},
   "outputs": [],
   "source": [
    "print(\"y train distribution:\\n\",y_train.value_counts())\n",
    "print(\"y train distribution:\\n\",y_test.value_counts())"
   ]
  },
  {
   "cell_type": "code",
   "execution_count": null,
   "metadata": {},
   "outputs": [],
   "source": [
    "model = LogisticRegression()\n",
    "model.fit(bow.transform(X_train), y_train)"
   ]
  },
  {
   "cell_type": "code",
   "execution_count": null,
   "metadata": {},
   "outputs": [],
   "source": [
    "predictions = model.predict(bow.transform(X_test))"
   ]
  },
  {
   "cell_type": "code",
   "execution_count": null,
   "metadata": {},
   "outputs": [],
   "source": [
    "predictions"
   ]
  },
  {
   "cell_type": "code",
   "execution_count": null,
   "metadata": {},
   "outputs": [],
   "source": [
    "from sklearn.metrics import accuracy_score, confusion_matrix\n",
    "accuracy_score(y_test, predictions)"
   ]
  },
  {
   "cell_type": "code",
   "execution_count": null,
   "metadata": {},
   "outputs": [],
   "source": [
    "confusion_matrix(y_test, predictions)"
   ]
  },
  {
   "cell_type": "code",
   "execution_count": 66,
   "metadata": {},
   "outputs": [],
   "source": [
    "def clean_sentence(sentence):\n",
    "    tokens = word_tokenize(sentence)\n",
    "    tokens_clean = []\n",
    "    for word in tokens:\n",
    "        if word.lower() not in stop_words and word.lower() not in punctuation and not word.isnumeric() and len(word)> 1:\n",
    "            \n",
    "            tokens_clean.append(stemmer.stem(word))\n",
    "    return ' '.join(tokens_clean)"
   ]
  },
  {
   "cell_type": "code",
   "execution_count": null,
   "metadata": {},
   "outputs": [],
   "source": [
    "sentence=\"belle le scarpe e le stringhe per il colore , però sono comode\""
   ]
  },
  {
   "cell_type": "code",
   "execution_count": null,
   "metadata": {},
   "outputs": [],
   "source": [
    "clean_sentence(sentence)"
   ]
  },
  {
   "cell_type": "code",
   "execution_count": null,
   "metadata": {},
   "outputs": [],
   "source": [
    "print(bow.transform([clean_sentence(sentence)]))"
   ]
  },
  {
   "cell_type": "code",
   "execution_count": null,
   "metadata": {},
   "outputs": [],
   "source": [
    "model.predict(bow.transform([clean_sentence(sentence)]))"
   ]
  },
  {
   "cell_type": "code",
   "execution_count": null,
   "metadata": {},
   "outputs": [],
   "source": [
    "\n",
    "with open('../model/model.bin', 'wb') as f:\n",
    "    pickle.dump(model, f, pickle.HIGHEST_PROTOCOL)\n",
    "#s = pickle.dumps(model)"
   ]
  },
  {
   "cell_type": "code",
   "execution_count": 62,
   "metadata": {},
   "outputs": [
    {
     "name": "stderr",
     "output_type": "stream",
     "text": [
      "/home/rpo/workspace/git/dataanalyticsproject/src/venv/lib/python3.8/site-packages/sklearn/utils/deprecation.py:143: FutureWarning: The sklearn.linear_model.logistic module is  deprecated in version 0.22 and will be removed in version 0.24. The corresponding classes / functions should instead be imported from sklearn.linear_model. Anything that cannot be imported from sklearn.linear_model is now part of the private API.\n",
      "  warnings.warn(message, FutureWarning)\n",
      "/home/rpo/workspace/git/dataanalyticsproject/src/venv/lib/python3.8/site-packages/sklearn/base.py:329: UserWarning: Trying to unpickle estimator LogisticRegression from version 0.21.3 when using version 0.23.1. This might lead to breaking code or invalid results. Use at your own risk.\n",
      "  warnings.warn(\n"
     ]
    }
   ],
   "source": [
    "with open('../model/model.bin', 'rb') as f:\n",
    "    # The protocol version used is detected automatically, so we do not\n",
    "    # have to specify it.\n",
    "    model = pickle.load(f)"
   ]
  },
  {
   "cell_type": "code",
   "execution_count": null,
   "metadata": {},
   "outputs": [],
   "source": [
    "model.predict(bow.transform([clean_sentence(sentence)]))"
   ]
  },
  {
   "cell_type": "markdown",
   "metadata": {},
   "source": [
    "### Sentimenti recensioni neutre"
   ]
  },
  {
   "cell_type": "code",
   "execution_count": null,
   "metadata": {},
   "outputs": [],
   "source": [
    "#dataReviews_neutre = pd.read_csv(\"../data/dati_ridotti.csv\", sep=\",\", index_col=0)"
   ]
  },
  {
   "cell_type": "code",
   "execution_count": 73,
   "metadata": {},
   "outputs": [],
   "source": [
    "dataReviews_neutre = dataReviews.loc[dataReviews[\"rating\"]==3]"
   ]
  },
  {
   "cell_type": "code",
   "execution_count": null,
   "metadata": {},
   "outputs": [],
   "source": [
    "dataReviews_neutre"
   ]
  },
  {
   "cell_type": "code",
   "execution_count": null,
   "metadata": {},
   "outputs": [],
   "source": [
    "dataReviews_neutre[\"polarity\"] = dataReviews_neutre[\"body\"].progress_apply(lambda sentence: model.predict(bow.transform([clean_sentence(sentence)])))"
   ]
  },
  {
   "cell_type": "code",
   "execution_count": null,
   "metadata": {},
   "outputs": [],
   "source": [
    "dataReviews_neutre[\"polarity\"]"
   ]
  },
  {
   "cell_type": "code",
   "execution_count": null,
   "metadata": {},
   "outputs": [],
   "source": [
    "print(\"Proportion of review with score=3 that is positive: {}%\".format(len(dataReviews_neutre[dataReviews_neutre.polarity == \"positive\"]) / len(dataReviews_neutre)*100))\n",
    "print(\"Proportion of review with score=3 that is negative: {}%\".format(len(dataReviews_neutre[dataReviews_neutre.polarity == \"negative\"]) / len(dataReviews_neutre)*100))"
   ]
  },
  {
   "cell_type": "code",
   "execution_count": null,
   "metadata": {},
   "outputs": [],
   "source": [
    "dataReviews_neutre[\"polarity\"].value_counts().plot(kind=\"bar\")\n"
   ]
  },
  {
   "cell_type": "markdown",
   "metadata": {},
   "source": [
    "### Prodotti nel tempo"
   ]
  },
  {
   "cell_type": "code",
   "execution_count": 4,
   "metadata": {},
   "outputs": [
    {
     "ename": "FileNotFoundError",
     "evalue": "[Errno 2] File ../data/dati_ridotti.csv does not exist: '../data/dati_ridotti.csv'",
     "output_type": "error",
     "traceback": [
      "\u001b[0;31m---------------------------------------------------------------------------\u001b[0m",
      "\u001b[0;31mFileNotFoundError\u001b[0m                         Traceback (most recent call last)",
      "\u001b[0;32m<ipython-input-4-6899e79ba2f7>\u001b[0m in \u001b[0;36m<module>\u001b[0;34m\u001b[0m\n\u001b[0;32m----> 1\u001b[0;31m \u001b[0mdataReviews\u001b[0m \u001b[0;34m=\u001b[0m \u001b[0mpd\u001b[0m\u001b[0;34m.\u001b[0m\u001b[0mread_csv\u001b[0m\u001b[0;34m(\u001b[0m\u001b[0;34m\"../data/dati_ridotti.csv\"\u001b[0m\u001b[0;34m,\u001b[0m \u001b[0msep\u001b[0m\u001b[0;34m=\u001b[0m\u001b[0;34m\",\"\u001b[0m\u001b[0;34m,\u001b[0m \u001b[0mindex_col\u001b[0m\u001b[0;34m=\u001b[0m\u001b[0;36m0\u001b[0m\u001b[0;34m)\u001b[0m\u001b[0;34m\u001b[0m\u001b[0;34m\u001b[0m\u001b[0m\n\u001b[0m",
      "\u001b[0;32m~/workspace/git/dataanalyticsproject/src/venv/lib/python3.8/site-packages/pandas/io/parsers.py\u001b[0m in \u001b[0;36mparser_f\u001b[0;34m(filepath_or_buffer, sep, delimiter, header, names, index_col, usecols, squeeze, prefix, mangle_dupe_cols, dtype, engine, converters, true_values, false_values, skipinitialspace, skiprows, skipfooter, nrows, na_values, keep_default_na, na_filter, verbose, skip_blank_lines, parse_dates, infer_datetime_format, keep_date_col, date_parser, dayfirst, cache_dates, iterator, chunksize, compression, thousands, decimal, lineterminator, quotechar, quoting, doublequote, escapechar, comment, encoding, dialect, error_bad_lines, warn_bad_lines, delim_whitespace, low_memory, memory_map, float_precision)\u001b[0m\n\u001b[1;32m    674\u001b[0m         )\n\u001b[1;32m    675\u001b[0m \u001b[0;34m\u001b[0m\u001b[0m\n\u001b[0;32m--> 676\u001b[0;31m         \u001b[0;32mreturn\u001b[0m \u001b[0m_read\u001b[0m\u001b[0;34m(\u001b[0m\u001b[0mfilepath_or_buffer\u001b[0m\u001b[0;34m,\u001b[0m \u001b[0mkwds\u001b[0m\u001b[0;34m)\u001b[0m\u001b[0;34m\u001b[0m\u001b[0;34m\u001b[0m\u001b[0m\n\u001b[0m\u001b[1;32m    677\u001b[0m \u001b[0;34m\u001b[0m\u001b[0m\n\u001b[1;32m    678\u001b[0m     \u001b[0mparser_f\u001b[0m\u001b[0;34m.\u001b[0m\u001b[0m__name__\u001b[0m \u001b[0;34m=\u001b[0m \u001b[0mname\u001b[0m\u001b[0;34m\u001b[0m\u001b[0;34m\u001b[0m\u001b[0m\n",
      "\u001b[0;32m~/workspace/git/dataanalyticsproject/src/venv/lib/python3.8/site-packages/pandas/io/parsers.py\u001b[0m in \u001b[0;36m_read\u001b[0;34m(filepath_or_buffer, kwds)\u001b[0m\n\u001b[1;32m    446\u001b[0m \u001b[0;34m\u001b[0m\u001b[0m\n\u001b[1;32m    447\u001b[0m     \u001b[0;31m# Create the parser.\u001b[0m\u001b[0;34m\u001b[0m\u001b[0;34m\u001b[0m\u001b[0;34m\u001b[0m\u001b[0m\n\u001b[0;32m--> 448\u001b[0;31m     \u001b[0mparser\u001b[0m \u001b[0;34m=\u001b[0m \u001b[0mTextFileReader\u001b[0m\u001b[0;34m(\u001b[0m\u001b[0mfp_or_buf\u001b[0m\u001b[0;34m,\u001b[0m \u001b[0;34m**\u001b[0m\u001b[0mkwds\u001b[0m\u001b[0;34m)\u001b[0m\u001b[0;34m\u001b[0m\u001b[0;34m\u001b[0m\u001b[0m\n\u001b[0m\u001b[1;32m    449\u001b[0m \u001b[0;34m\u001b[0m\u001b[0m\n\u001b[1;32m    450\u001b[0m     \u001b[0;32mif\u001b[0m \u001b[0mchunksize\u001b[0m \u001b[0;32mor\u001b[0m \u001b[0miterator\u001b[0m\u001b[0;34m:\u001b[0m\u001b[0;34m\u001b[0m\u001b[0;34m\u001b[0m\u001b[0m\n",
      "\u001b[0;32m~/workspace/git/dataanalyticsproject/src/venv/lib/python3.8/site-packages/pandas/io/parsers.py\u001b[0m in \u001b[0;36m__init__\u001b[0;34m(self, f, engine, **kwds)\u001b[0m\n\u001b[1;32m    878\u001b[0m             \u001b[0mself\u001b[0m\u001b[0;34m.\u001b[0m\u001b[0moptions\u001b[0m\u001b[0;34m[\u001b[0m\u001b[0;34m\"has_index_names\"\u001b[0m\u001b[0;34m]\u001b[0m \u001b[0;34m=\u001b[0m \u001b[0mkwds\u001b[0m\u001b[0;34m[\u001b[0m\u001b[0;34m\"has_index_names\"\u001b[0m\u001b[0;34m]\u001b[0m\u001b[0;34m\u001b[0m\u001b[0;34m\u001b[0m\u001b[0m\n\u001b[1;32m    879\u001b[0m \u001b[0;34m\u001b[0m\u001b[0m\n\u001b[0;32m--> 880\u001b[0;31m         \u001b[0mself\u001b[0m\u001b[0;34m.\u001b[0m\u001b[0m_make_engine\u001b[0m\u001b[0;34m(\u001b[0m\u001b[0mself\u001b[0m\u001b[0;34m.\u001b[0m\u001b[0mengine\u001b[0m\u001b[0;34m)\u001b[0m\u001b[0;34m\u001b[0m\u001b[0;34m\u001b[0m\u001b[0m\n\u001b[0m\u001b[1;32m    881\u001b[0m \u001b[0;34m\u001b[0m\u001b[0m\n\u001b[1;32m    882\u001b[0m     \u001b[0;32mdef\u001b[0m \u001b[0mclose\u001b[0m\u001b[0;34m(\u001b[0m\u001b[0mself\u001b[0m\u001b[0;34m)\u001b[0m\u001b[0;34m:\u001b[0m\u001b[0;34m\u001b[0m\u001b[0;34m\u001b[0m\u001b[0m\n",
      "\u001b[0;32m~/workspace/git/dataanalyticsproject/src/venv/lib/python3.8/site-packages/pandas/io/parsers.py\u001b[0m in \u001b[0;36m_make_engine\u001b[0;34m(self, engine)\u001b[0m\n\u001b[1;32m   1112\u001b[0m     \u001b[0;32mdef\u001b[0m \u001b[0m_make_engine\u001b[0m\u001b[0;34m(\u001b[0m\u001b[0mself\u001b[0m\u001b[0;34m,\u001b[0m \u001b[0mengine\u001b[0m\u001b[0;34m=\u001b[0m\u001b[0;34m\"c\"\u001b[0m\u001b[0;34m)\u001b[0m\u001b[0;34m:\u001b[0m\u001b[0;34m\u001b[0m\u001b[0;34m\u001b[0m\u001b[0m\n\u001b[1;32m   1113\u001b[0m         \u001b[0;32mif\u001b[0m \u001b[0mengine\u001b[0m \u001b[0;34m==\u001b[0m \u001b[0;34m\"c\"\u001b[0m\u001b[0;34m:\u001b[0m\u001b[0;34m\u001b[0m\u001b[0;34m\u001b[0m\u001b[0m\n\u001b[0;32m-> 1114\u001b[0;31m             \u001b[0mself\u001b[0m\u001b[0;34m.\u001b[0m\u001b[0m_engine\u001b[0m \u001b[0;34m=\u001b[0m \u001b[0mCParserWrapper\u001b[0m\u001b[0;34m(\u001b[0m\u001b[0mself\u001b[0m\u001b[0;34m.\u001b[0m\u001b[0mf\u001b[0m\u001b[0;34m,\u001b[0m \u001b[0;34m**\u001b[0m\u001b[0mself\u001b[0m\u001b[0;34m.\u001b[0m\u001b[0moptions\u001b[0m\u001b[0;34m)\u001b[0m\u001b[0;34m\u001b[0m\u001b[0;34m\u001b[0m\u001b[0m\n\u001b[0m\u001b[1;32m   1115\u001b[0m         \u001b[0;32melse\u001b[0m\u001b[0;34m:\u001b[0m\u001b[0;34m\u001b[0m\u001b[0;34m\u001b[0m\u001b[0m\n\u001b[1;32m   1116\u001b[0m             \u001b[0;32mif\u001b[0m \u001b[0mengine\u001b[0m \u001b[0;34m==\u001b[0m \u001b[0;34m\"python\"\u001b[0m\u001b[0;34m:\u001b[0m\u001b[0;34m\u001b[0m\u001b[0;34m\u001b[0m\u001b[0m\n",
      "\u001b[0;32m~/workspace/git/dataanalyticsproject/src/venv/lib/python3.8/site-packages/pandas/io/parsers.py\u001b[0m in \u001b[0;36m__init__\u001b[0;34m(self, src, **kwds)\u001b[0m\n\u001b[1;32m   1889\u001b[0m         \u001b[0mkwds\u001b[0m\u001b[0;34m[\u001b[0m\u001b[0;34m\"usecols\"\u001b[0m\u001b[0;34m]\u001b[0m \u001b[0;34m=\u001b[0m \u001b[0mself\u001b[0m\u001b[0;34m.\u001b[0m\u001b[0musecols\u001b[0m\u001b[0;34m\u001b[0m\u001b[0;34m\u001b[0m\u001b[0m\n\u001b[1;32m   1890\u001b[0m \u001b[0;34m\u001b[0m\u001b[0m\n\u001b[0;32m-> 1891\u001b[0;31m         \u001b[0mself\u001b[0m\u001b[0;34m.\u001b[0m\u001b[0m_reader\u001b[0m \u001b[0;34m=\u001b[0m \u001b[0mparsers\u001b[0m\u001b[0;34m.\u001b[0m\u001b[0mTextReader\u001b[0m\u001b[0;34m(\u001b[0m\u001b[0msrc\u001b[0m\u001b[0;34m,\u001b[0m \u001b[0;34m**\u001b[0m\u001b[0mkwds\u001b[0m\u001b[0;34m)\u001b[0m\u001b[0;34m\u001b[0m\u001b[0;34m\u001b[0m\u001b[0m\n\u001b[0m\u001b[1;32m   1892\u001b[0m         \u001b[0mself\u001b[0m\u001b[0;34m.\u001b[0m\u001b[0munnamed_cols\u001b[0m \u001b[0;34m=\u001b[0m \u001b[0mself\u001b[0m\u001b[0;34m.\u001b[0m\u001b[0m_reader\u001b[0m\u001b[0;34m.\u001b[0m\u001b[0munnamed_cols\u001b[0m\u001b[0;34m\u001b[0m\u001b[0;34m\u001b[0m\u001b[0m\n\u001b[1;32m   1893\u001b[0m \u001b[0;34m\u001b[0m\u001b[0m\n",
      "\u001b[0;32mpandas/_libs/parsers.pyx\u001b[0m in \u001b[0;36mpandas._libs.parsers.TextReader.__cinit__\u001b[0;34m()\u001b[0m\n",
      "\u001b[0;32mpandas/_libs/parsers.pyx\u001b[0m in \u001b[0;36mpandas._libs.parsers.TextReader._setup_parser_source\u001b[0;34m()\u001b[0m\n",
      "\u001b[0;31mFileNotFoundError\u001b[0m: [Errno 2] File ../data/dati_ridotti.csv does not exist: '../data/dati_ridotti.csv'"
     ]
    }
   ],
   "source": [
    "dataReviewsReduced = pd.read_csv(\"../data/dati_ridotti.csv\", sep=\",\", index_col=0)"
   ]
  },
  {
   "cell_type": "code",
   "execution_count": 99,
   "metadata": {},
   "outputs": [],
   "source": [
    "# look for good examples\n",
    "top_prods = dataReviews.groupby('product').count().sort_values('_id', ascending=False).head(4)"
   ]
  },
  {
   "cell_type": "code",
   "execution_count": 105,
   "metadata": {},
   "outputs": [
    {
     "data": {
      "text/plain": [
       "True"
      ]
     },
     "execution_count": 105,
     "metadata": {},
     "output_type": "execute_result"
    }
   ],
   "source": [
    "\"B01ETRGE7M\" in top_prods.index"
   ]
  },
  {
   "cell_type": "code",
   "execution_count": 106,
   "metadata": {},
   "outputs": [
    {
     "data": {
      "text/plain": [
       "5000"
      ]
     },
     "execution_count": 106,
     "metadata": {},
     "output_type": "execute_result"
    }
   ],
   "source": [
    "# GOOD EXAMPLES:\n",
    "# B01ETRGE7M bello\n",
    "# B00LPHUTOO altalena\n",
    "# B01EWQ10D8 non male\n",
    "# B0058BXHWE resegono\n",
    "# ... non ne ho piu provati di quelli del box sopra\n",
    "prod = \"B01ETRGE7M\" \n",
    "dataReviews_prodotti = dataReviews[dataReviews[\"product\"].isin(top_prods.index)]"
   ]
  },
  {
   "cell_type": "code",
   "execution_count": 107,
   "metadata": {},
   "outputs": [
    {
     "data": {
      "text/html": [
       "<div>\n",
       "<style scoped>\n",
       "    .dataframe tbody tr th:only-of-type {\n",
       "        vertical-align: middle;\n",
       "    }\n",
       "\n",
       "    .dataframe tbody tr th {\n",
       "        vertical-align: top;\n",
       "    }\n",
       "\n",
       "    .dataframe thead th {\n",
       "        text-align: right;\n",
       "    }\n",
       "</style>\n",
       "<table border=\"1\" class=\"dataframe\">\n",
       "  <thead>\n",
       "    <tr style=\"text-align: right;\">\n",
       "      <th></th>\n",
       "      <th>_id</th>\n",
       "      <th>product</th>\n",
       "      <th>title</th>\n",
       "      <th>author-id</th>\n",
       "      <th>author-name</th>\n",
       "      <th>date</th>\n",
       "      <th>rating</th>\n",
       "      <th>helpful</th>\n",
       "      <th>verified</th>\n",
       "      <th>body</th>\n",
       "    </tr>\n",
       "  </thead>\n",
       "  <tbody>\n",
       "    <tr>\n",
       "      <th>15374</th>\n",
       "      <td>R1JWRYRD2QJBPU</td>\n",
       "      <td>B01ETRGE7M</td>\n",
       "      <td>very good</td>\n",
       "      <td>AFFXBJ3HLCETFAMKAWAX2STT2NCA</td>\n",
       "      <td>Xxxx</td>\n",
       "      <td>2019-01-14</td>\n",
       "      <td>5</td>\n",
       "      <td>252</td>\n",
       "      <td>True</td>\n",
       "      <td>Utile e funzionale, da acquistare</td>\n",
       "    </tr>\n",
       "    <tr>\n",
       "      <th>15375</th>\n",
       "      <td>R2YNQPDQNTKRW7</td>\n",
       "      <td>B01ETRGE7M</td>\n",
       "      <td>inmancabile</td>\n",
       "      <td>AFADQ5CXWECICH4PZQKY5KJ63YTQ</td>\n",
       "      <td>sebastiano</td>\n",
       "      <td>2017-12-31</td>\n",
       "      <td>5</td>\n",
       "      <td>240</td>\n",
       "      <td>True</td>\n",
       "      <td>devo dire che questa piccola pennetta da attac...</td>\n",
       "    </tr>\n",
       "    <tr>\n",
       "      <th>15376</th>\n",
       "      <td>R1YM94DSZI7K7R</td>\n",
       "      <td>B01ETRGE7M</td>\n",
       "      <td>Talmente entusiasta che già l'ho consigliato a...</td>\n",
       "      <td>AGSGI4XBH46OAS46EATYOVDKTPEA</td>\n",
       "      <td>Spiaggia dei Maronti</td>\n",
       "      <td>2018-10-13</td>\n",
       "      <td>4</td>\n",
       "      <td>447</td>\n",
       "      <td>True</td>\n",
       "      <td>Come nel titolo.\\nTalmente entusiasta che già ...</td>\n",
       "    </tr>\n",
       "    <tr>\n",
       "      <th>15377</th>\n",
       "      <td>R37AGG061VEJIA</td>\n",
       "      <td>B01ETRGE7M</td>\n",
       "      <td>Non c’è il tasto Search! Assurdo. Devi cercare...</td>\n",
       "      <td>AGQNCTJHHDUIPBQTSLZOLTOJVSAA</td>\n",
       "      <td>lu239</td>\n",
       "      <td>2018-09-22</td>\n",
       "      <td>2</td>\n",
       "      <td>144</td>\n",
       "      <td>True</td>\n",
       "      <td>Non c’è il tasto Search. Se scarichi qualcosa ...</td>\n",
       "    </tr>\n",
       "    <tr>\n",
       "      <th>15378</th>\n",
       "      <td>R1CV0GOGENYYX8</td>\n",
       "      <td>B01ETRGE7M</td>\n",
       "      <td>Staconsigliata! NETFLIX - INFINITY - AMAZON PR...</td>\n",
       "      <td>AFNCTVOMQMNJDHTETJL4FZPYBXYQ</td>\n",
       "      <td>Soad</td>\n",
       "      <td>2019-01-09</td>\n",
       "      <td>5</td>\n",
       "      <td>1</td>\n",
       "      <td>True</td>\n",
       "      <td>Che dire, straconsigliata.\\nCercherò di scrive...</td>\n",
       "    </tr>\n",
       "    <tr>\n",
       "      <th>...</th>\n",
       "      <td>...</td>\n",
       "      <td>...</td>\n",
       "      <td>...</td>\n",
       "      <td>...</td>\n",
       "      <td>...</td>\n",
       "      <td>...</td>\n",
       "      <td>...</td>\n",
       "      <td>...</td>\n",
       "      <td>...</td>\n",
       "      <td>...</td>\n",
       "    </tr>\n",
       "    <tr>\n",
       "      <th>246882</th>\n",
       "      <td>R3K6TXOFBONGP9</td>\n",
       "      <td>B00G9WHN12</td>\n",
       "      <td>Ottima pennetta usb</td>\n",
       "      <td>AHR4OIXCRNLD2WYSASUSRGSOQGIA</td>\n",
       "      <td>Alfredo Pagano</td>\n",
       "      <td>2016-06-21</td>\n",
       "      <td>5</td>\n",
       "      <td>0</td>\n",
       "      <td>False</td>\n",
       "      <td>Pennetta arrivata nei tempi previsti, ottima v...</td>\n",
       "    </tr>\n",
       "    <tr>\n",
       "      <th>246883</th>\n",
       "      <td>R2W3AULQWTD061</td>\n",
       "      <td>B00G9WHN12</td>\n",
       "      <td>Ottimo pen drive.</td>\n",
       "      <td>AESM5FJ4MINHNU24WSKW43OY6WAA</td>\n",
       "      <td>Nicola</td>\n",
       "      <td>2015-02-11</td>\n",
       "      <td>5</td>\n",
       "      <td>0</td>\n",
       "      <td>False</td>\n",
       "      <td>Da quello che hanno scritto altri utenti mi as...</td>\n",
       "    </tr>\n",
       "    <tr>\n",
       "      <th>246884</th>\n",
       "      <td>R2MX0XOQD25ZEV</td>\n",
       "      <td>B00G9WHN12</td>\n",
       "      <td>Dopo 2 anni ancora perfetta</td>\n",
       "      <td>AEBELCAJVI2Z4DJZKDAKQQRVFSWQ</td>\n",
       "      <td>Massimiliano B.</td>\n",
       "      <td>2015-06-20</td>\n",
       "      <td>4</td>\n",
       "      <td>1</td>\n",
       "      <td>False</td>\n",
       "      <td>Questa pendrive \"G4\" ovvero di quarta generazi...</td>\n",
       "    </tr>\n",
       "    <tr>\n",
       "      <th>246885</th>\n",
       "      <td>R187UZY6HS5O47</td>\n",
       "      <td>B00G9WHN12</td>\n",
       "      <td>Arriva nel blister originale e non scalda</td>\n",
       "      <td>AH2VTYB5VICOIVE6BYYPLYKPL7IQ</td>\n",
       "      <td>Cristian Bregant</td>\n",
       "      <td>2019-02-01</td>\n",
       "      <td>5</td>\n",
       "      <td>0</td>\n",
       "      <td>True</td>\n",
       "      <td>La marca mi ha aiutato nella scelta , avevo gi...</td>\n",
       "    </tr>\n",
       "    <tr>\n",
       "      <th>246886</th>\n",
       "      <td>R1JM78L8XNAU27</td>\n",
       "      <td>B00G9WHN12</td>\n",
       "      <td>ottimo rapporto qualità prezzo</td>\n",
       "      <td>AH6IRFWVYYUNFSTYIV3GM6454YPQ</td>\n",
       "      <td>Antonio</td>\n",
       "      <td>2018-12-20</td>\n",
       "      <td>5</td>\n",
       "      <td>0</td>\n",
       "      <td>True</td>\n",
       "      <td>ottimo rapporto qualità prezzo</td>\n",
       "    </tr>\n",
       "  </tbody>\n",
       "</table>\n",
       "<p>17910 rows × 10 columns</p>\n",
       "</div>"
      ],
      "text/plain": [
       "                   _id     product  \\\n",
       "15374   R1JWRYRD2QJBPU  B01ETRGE7M   \n",
       "15375   R2YNQPDQNTKRW7  B01ETRGE7M   \n",
       "15376   R1YM94DSZI7K7R  B01ETRGE7M   \n",
       "15377   R37AGG061VEJIA  B01ETRGE7M   \n",
       "15378   R1CV0GOGENYYX8  B01ETRGE7M   \n",
       "...                ...         ...   \n",
       "246882  R3K6TXOFBONGP9  B00G9WHN12   \n",
       "246883  R2W3AULQWTD061  B00G9WHN12   \n",
       "246884  R2MX0XOQD25ZEV  B00G9WHN12   \n",
       "246885  R187UZY6HS5O47  B00G9WHN12   \n",
       "246886  R1JM78L8XNAU27  B00G9WHN12   \n",
       "\n",
       "                                                    title  \\\n",
       "15374                                           very good   \n",
       "15375                                         inmancabile   \n",
       "15376   Talmente entusiasta che già l'ho consigliato a...   \n",
       "15377   Non c’è il tasto Search! Assurdo. Devi cercare...   \n",
       "15378   Staconsigliata! NETFLIX - INFINITY - AMAZON PR...   \n",
       "...                                                   ...   \n",
       "246882                                Ottima pennetta usb   \n",
       "246883                                  Ottimo pen drive.   \n",
       "246884                        Dopo 2 anni ancora perfetta   \n",
       "246885          Arriva nel blister originale e non scalda   \n",
       "246886                     ottimo rapporto qualità prezzo   \n",
       "\n",
       "                           author-id           author-name       date  rating  \\\n",
       "15374   AFFXBJ3HLCETFAMKAWAX2STT2NCA                  Xxxx 2019-01-14       5   \n",
       "15375   AFADQ5CXWECICH4PZQKY5KJ63YTQ            sebastiano 2017-12-31       5   \n",
       "15376   AGSGI4XBH46OAS46EATYOVDKTPEA  Spiaggia dei Maronti 2018-10-13       4   \n",
       "15377   AGQNCTJHHDUIPBQTSLZOLTOJVSAA                 lu239 2018-09-22       2   \n",
       "15378   AFNCTVOMQMNJDHTETJL4FZPYBXYQ                  Soad 2019-01-09       5   \n",
       "...                              ...                   ...        ...     ...   \n",
       "246882  AHR4OIXCRNLD2WYSASUSRGSOQGIA        Alfredo Pagano 2016-06-21       5   \n",
       "246883  AESM5FJ4MINHNU24WSKW43OY6WAA                Nicola 2015-02-11       5   \n",
       "246884  AEBELCAJVI2Z4DJZKDAKQQRVFSWQ       Massimiliano B. 2015-06-20       4   \n",
       "246885  AH2VTYB5VICOIVE6BYYPLYKPL7IQ      Cristian Bregant 2019-02-01       5   \n",
       "246886  AH6IRFWVYYUNFSTYIV3GM6454YPQ               Antonio 2018-12-20       5   \n",
       "\n",
       "        helpful  verified                                               body  \n",
       "15374       252      True                  Utile e funzionale, da acquistare  \n",
       "15375       240      True  devo dire che questa piccola pennetta da attac...  \n",
       "15376       447      True  Come nel titolo.\\nTalmente entusiasta che già ...  \n",
       "15377       144      True  Non c’è il tasto Search. Se scarichi qualcosa ...  \n",
       "15378         1      True  Che dire, straconsigliata.\\nCercherò di scrive...  \n",
       "...         ...       ...                                                ...  \n",
       "246882        0     False  Pennetta arrivata nei tempi previsti, ottima v...  \n",
       "246883        0     False  Da quello che hanno scritto altri utenti mi as...  \n",
       "246884        1     False  Questa pendrive \"G4\" ovvero di quarta generazi...  \n",
       "246885        0      True  La marca mi ha aiutato nella scelta , avevo gi...  \n",
       "246886        0      True                     ottimo rapporto qualità prezzo  \n",
       "\n",
       "[17910 rows x 10 columns]"
      ]
     },
     "execution_count": 107,
     "metadata": {},
     "output_type": "execute_result"
    }
   ],
   "source": [
    "dataReviews_prodotti"
   ]
  },
  {
   "cell_type": "code",
   "execution_count": 108,
   "metadata": {},
   "outputs": [
    {
     "name": "stderr",
     "output_type": "stream",
     "text": [
      "<ipython-input-108-46433dd61d82>:1: SettingWithCopyWarning: \n",
      "A value is trying to be set on a copy of a slice from a DataFrame.\n",
      "Try using .loc[row_indexer,col_indexer] = value instead\n",
      "\n",
      "See the caveats in the documentation: https://pandas.pydata.org/pandas-docs/stable/user_guide/indexing.html#returning-a-view-versus-a-copy\n",
      "  dataReviews_prodotti[\"Period\"] = dataReviews_prodotti[\"date\"].apply(lambda x: x.strftime('%Y-%m'))\n"
     ]
    }
   ],
   "source": [
    "dataReviews_prodotti[\"Period\"] = dataReviews_prodotti[\"date\"].apply(lambda x: x.strftime('%Y-%m'))"
   ]
  },
  {
   "cell_type": "code",
   "execution_count": 109,
   "metadata": {},
   "outputs": [
    {
     "data": {
      "text/plain": [
       "'2019-01'"
      ]
     },
     "execution_count": 109,
     "metadata": {},
     "output_type": "execute_result"
    }
   ],
   "source": [
    "dataReviews_prodotti[\"Period\"].iloc[0]"
   ]
  },
  {
   "cell_type": "code",
   "execution_count": 110,
   "metadata": {},
   "outputs": [
    {
     "data": {
      "text/html": [
       "<div>\n",
       "<style scoped>\n",
       "    .dataframe tbody tr th:only-of-type {\n",
       "        vertical-align: middle;\n",
       "    }\n",
       "\n",
       "    .dataframe tbody tr th {\n",
       "        vertical-align: top;\n",
       "    }\n",
       "\n",
       "    .dataframe thead th {\n",
       "        text-align: right;\n",
       "    }\n",
       "</style>\n",
       "<table border=\"1\" class=\"dataframe\">\n",
       "  <thead>\n",
       "    <tr style=\"text-align: right;\">\n",
       "      <th></th>\n",
       "      <th>_id</th>\n",
       "      <th>product</th>\n",
       "      <th>title</th>\n",
       "      <th>author-id</th>\n",
       "      <th>author-name</th>\n",
       "      <th>date</th>\n",
       "      <th>rating</th>\n",
       "      <th>helpful</th>\n",
       "      <th>verified</th>\n",
       "      <th>body</th>\n",
       "      <th>Period</th>\n",
       "    </tr>\n",
       "  </thead>\n",
       "  <tbody>\n",
       "    <tr>\n",
       "      <th>15374</th>\n",
       "      <td>R1JWRYRD2QJBPU</td>\n",
       "      <td>B01ETRGE7M</td>\n",
       "      <td>very good</td>\n",
       "      <td>AFFXBJ3HLCETFAMKAWAX2STT2NCA</td>\n",
       "      <td>Xxxx</td>\n",
       "      <td>2019-01-14</td>\n",
       "      <td>5</td>\n",
       "      <td>252</td>\n",
       "      <td>True</td>\n",
       "      <td>Utile e funzionale, da acquistare</td>\n",
       "      <td>2019-01</td>\n",
       "    </tr>\n",
       "    <tr>\n",
       "      <th>15375</th>\n",
       "      <td>R2YNQPDQNTKRW7</td>\n",
       "      <td>B01ETRGE7M</td>\n",
       "      <td>inmancabile</td>\n",
       "      <td>AFADQ5CXWECICH4PZQKY5KJ63YTQ</td>\n",
       "      <td>sebastiano</td>\n",
       "      <td>2017-12-31</td>\n",
       "      <td>5</td>\n",
       "      <td>240</td>\n",
       "      <td>True</td>\n",
       "      <td>devo dire che questa piccola pennetta da attac...</td>\n",
       "      <td>2017-12</td>\n",
       "    </tr>\n",
       "    <tr>\n",
       "      <th>15376</th>\n",
       "      <td>R1YM94DSZI7K7R</td>\n",
       "      <td>B01ETRGE7M</td>\n",
       "      <td>Talmente entusiasta che già l'ho consigliato a...</td>\n",
       "      <td>AGSGI4XBH46OAS46EATYOVDKTPEA</td>\n",
       "      <td>Spiaggia dei Maronti</td>\n",
       "      <td>2018-10-13</td>\n",
       "      <td>4</td>\n",
       "      <td>447</td>\n",
       "      <td>True</td>\n",
       "      <td>Come nel titolo.\\nTalmente entusiasta che già ...</td>\n",
       "      <td>2018-10</td>\n",
       "    </tr>\n",
       "    <tr>\n",
       "      <th>15377</th>\n",
       "      <td>R37AGG061VEJIA</td>\n",
       "      <td>B01ETRGE7M</td>\n",
       "      <td>Non c’è il tasto Search! Assurdo. Devi cercare...</td>\n",
       "      <td>AGQNCTJHHDUIPBQTSLZOLTOJVSAA</td>\n",
       "      <td>lu239</td>\n",
       "      <td>2018-09-22</td>\n",
       "      <td>2</td>\n",
       "      <td>144</td>\n",
       "      <td>True</td>\n",
       "      <td>Non c’è il tasto Search. Se scarichi qualcosa ...</td>\n",
       "      <td>2018-09</td>\n",
       "    </tr>\n",
       "    <tr>\n",
       "      <th>15378</th>\n",
       "      <td>R1CV0GOGENYYX8</td>\n",
       "      <td>B01ETRGE7M</td>\n",
       "      <td>Staconsigliata! NETFLIX - INFINITY - AMAZON PR...</td>\n",
       "      <td>AFNCTVOMQMNJDHTETJL4FZPYBXYQ</td>\n",
       "      <td>Soad</td>\n",
       "      <td>2019-01-09</td>\n",
       "      <td>5</td>\n",
       "      <td>1</td>\n",
       "      <td>True</td>\n",
       "      <td>Che dire, straconsigliata.\\nCercherò di scrive...</td>\n",
       "      <td>2019-01</td>\n",
       "    </tr>\n",
       "    <tr>\n",
       "      <th>...</th>\n",
       "      <td>...</td>\n",
       "      <td>...</td>\n",
       "      <td>...</td>\n",
       "      <td>...</td>\n",
       "      <td>...</td>\n",
       "      <td>...</td>\n",
       "      <td>...</td>\n",
       "      <td>...</td>\n",
       "      <td>...</td>\n",
       "      <td>...</td>\n",
       "      <td>...</td>\n",
       "    </tr>\n",
       "    <tr>\n",
       "      <th>246882</th>\n",
       "      <td>R3K6TXOFBONGP9</td>\n",
       "      <td>B00G9WHN12</td>\n",
       "      <td>Ottima pennetta usb</td>\n",
       "      <td>AHR4OIXCRNLD2WYSASUSRGSOQGIA</td>\n",
       "      <td>Alfredo Pagano</td>\n",
       "      <td>2016-06-21</td>\n",
       "      <td>5</td>\n",
       "      <td>0</td>\n",
       "      <td>False</td>\n",
       "      <td>Pennetta arrivata nei tempi previsti, ottima v...</td>\n",
       "      <td>2016-06</td>\n",
       "    </tr>\n",
       "    <tr>\n",
       "      <th>246883</th>\n",
       "      <td>R2W3AULQWTD061</td>\n",
       "      <td>B00G9WHN12</td>\n",
       "      <td>Ottimo pen drive.</td>\n",
       "      <td>AESM5FJ4MINHNU24WSKW43OY6WAA</td>\n",
       "      <td>Nicola</td>\n",
       "      <td>2015-02-11</td>\n",
       "      <td>5</td>\n",
       "      <td>0</td>\n",
       "      <td>False</td>\n",
       "      <td>Da quello che hanno scritto altri utenti mi as...</td>\n",
       "      <td>2015-02</td>\n",
       "    </tr>\n",
       "    <tr>\n",
       "      <th>246884</th>\n",
       "      <td>R2MX0XOQD25ZEV</td>\n",
       "      <td>B00G9WHN12</td>\n",
       "      <td>Dopo 2 anni ancora perfetta</td>\n",
       "      <td>AEBELCAJVI2Z4DJZKDAKQQRVFSWQ</td>\n",
       "      <td>Massimiliano B.</td>\n",
       "      <td>2015-06-20</td>\n",
       "      <td>4</td>\n",
       "      <td>1</td>\n",
       "      <td>False</td>\n",
       "      <td>Questa pendrive \"G4\" ovvero di quarta generazi...</td>\n",
       "      <td>2015-06</td>\n",
       "    </tr>\n",
       "    <tr>\n",
       "      <th>246885</th>\n",
       "      <td>R187UZY6HS5O47</td>\n",
       "      <td>B00G9WHN12</td>\n",
       "      <td>Arriva nel blister originale e non scalda</td>\n",
       "      <td>AH2VTYB5VICOIVE6BYYPLYKPL7IQ</td>\n",
       "      <td>Cristian Bregant</td>\n",
       "      <td>2019-02-01</td>\n",
       "      <td>5</td>\n",
       "      <td>0</td>\n",
       "      <td>True</td>\n",
       "      <td>La marca mi ha aiutato nella scelta , avevo gi...</td>\n",
       "      <td>2019-02</td>\n",
       "    </tr>\n",
       "    <tr>\n",
       "      <th>246886</th>\n",
       "      <td>R1JM78L8XNAU27</td>\n",
       "      <td>B00G9WHN12</td>\n",
       "      <td>ottimo rapporto qualità prezzo</td>\n",
       "      <td>AH6IRFWVYYUNFSTYIV3GM6454YPQ</td>\n",
       "      <td>Antonio</td>\n",
       "      <td>2018-12-20</td>\n",
       "      <td>5</td>\n",
       "      <td>0</td>\n",
       "      <td>True</td>\n",
       "      <td>ottimo rapporto qualità prezzo</td>\n",
       "      <td>2018-12</td>\n",
       "    </tr>\n",
       "  </tbody>\n",
       "</table>\n",
       "<p>17910 rows × 11 columns</p>\n",
       "</div>"
      ],
      "text/plain": [
       "                   _id     product  \\\n",
       "15374   R1JWRYRD2QJBPU  B01ETRGE7M   \n",
       "15375   R2YNQPDQNTKRW7  B01ETRGE7M   \n",
       "15376   R1YM94DSZI7K7R  B01ETRGE7M   \n",
       "15377   R37AGG061VEJIA  B01ETRGE7M   \n",
       "15378   R1CV0GOGENYYX8  B01ETRGE7M   \n",
       "...                ...         ...   \n",
       "246882  R3K6TXOFBONGP9  B00G9WHN12   \n",
       "246883  R2W3AULQWTD061  B00G9WHN12   \n",
       "246884  R2MX0XOQD25ZEV  B00G9WHN12   \n",
       "246885  R187UZY6HS5O47  B00G9WHN12   \n",
       "246886  R1JM78L8XNAU27  B00G9WHN12   \n",
       "\n",
       "                                                    title  \\\n",
       "15374                                           very good   \n",
       "15375                                         inmancabile   \n",
       "15376   Talmente entusiasta che già l'ho consigliato a...   \n",
       "15377   Non c’è il tasto Search! Assurdo. Devi cercare...   \n",
       "15378   Staconsigliata! NETFLIX - INFINITY - AMAZON PR...   \n",
       "...                                                   ...   \n",
       "246882                                Ottima pennetta usb   \n",
       "246883                                  Ottimo pen drive.   \n",
       "246884                        Dopo 2 anni ancora perfetta   \n",
       "246885          Arriva nel blister originale e non scalda   \n",
       "246886                     ottimo rapporto qualità prezzo   \n",
       "\n",
       "                           author-id           author-name       date  rating  \\\n",
       "15374   AFFXBJ3HLCETFAMKAWAX2STT2NCA                  Xxxx 2019-01-14       5   \n",
       "15375   AFADQ5CXWECICH4PZQKY5KJ63YTQ            sebastiano 2017-12-31       5   \n",
       "15376   AGSGI4XBH46OAS46EATYOVDKTPEA  Spiaggia dei Maronti 2018-10-13       4   \n",
       "15377   AGQNCTJHHDUIPBQTSLZOLTOJVSAA                 lu239 2018-09-22       2   \n",
       "15378   AFNCTVOMQMNJDHTETJL4FZPYBXYQ                  Soad 2019-01-09       5   \n",
       "...                              ...                   ...        ...     ...   \n",
       "246882  AHR4OIXCRNLD2WYSASUSRGSOQGIA        Alfredo Pagano 2016-06-21       5   \n",
       "246883  AESM5FJ4MINHNU24WSKW43OY6WAA                Nicola 2015-02-11       5   \n",
       "246884  AEBELCAJVI2Z4DJZKDAKQQRVFSWQ       Massimiliano B. 2015-06-20       4   \n",
       "246885  AH2VTYB5VICOIVE6BYYPLYKPL7IQ      Cristian Bregant 2019-02-01       5   \n",
       "246886  AH6IRFWVYYUNFSTYIV3GM6454YPQ               Antonio 2018-12-20       5   \n",
       "\n",
       "        helpful  verified                                               body  \\\n",
       "15374       252      True                  Utile e funzionale, da acquistare   \n",
       "15375       240      True  devo dire che questa piccola pennetta da attac...   \n",
       "15376       447      True  Come nel titolo.\\nTalmente entusiasta che già ...   \n",
       "15377       144      True  Non c’è il tasto Search. Se scarichi qualcosa ...   \n",
       "15378         1      True  Che dire, straconsigliata.\\nCercherò di scrive...   \n",
       "...         ...       ...                                                ...   \n",
       "246882        0     False  Pennetta arrivata nei tempi previsti, ottima v...   \n",
       "246883        0     False  Da quello che hanno scritto altri utenti mi as...   \n",
       "246884        1     False  Questa pendrive \"G4\" ovvero di quarta generazi...   \n",
       "246885        0      True  La marca mi ha aiutato nella scelta , avevo gi...   \n",
       "246886        0      True                     ottimo rapporto qualità prezzo   \n",
       "\n",
       "         Period  \n",
       "15374   2019-01  \n",
       "15375   2017-12  \n",
       "15376   2018-10  \n",
       "15377   2018-09  \n",
       "15378   2019-01  \n",
       "...         ...  \n",
       "246882  2016-06  \n",
       "246883  2015-02  \n",
       "246884  2015-06  \n",
       "246885  2019-02  \n",
       "246886  2018-12  \n",
       "\n",
       "[17910 rows x 11 columns]"
      ]
     },
     "execution_count": 110,
     "metadata": {},
     "output_type": "execute_result"
    }
   ],
   "source": [
    "dataReviews_prodotti"
   ]
  },
  {
   "cell_type": "code",
   "execution_count": 111,
   "metadata": {},
   "outputs": [
    {
     "name": "stderr",
     "output_type": "stream",
     "text": [
      "100%|██████████| 17910/17910 [00:49<00:00, 363.64it/s]\n",
      "<ipython-input-111-02405ad432b9>:1: SettingWithCopyWarning: \n",
      "A value is trying to be set on a copy of a slice from a DataFrame.\n",
      "Try using .loc[row_indexer,col_indexer] = value instead\n",
      "\n",
      "See the caveats in the documentation: https://pandas.pydata.org/pandas-docs/stable/user_guide/indexing.html#returning-a-view-versus-a-copy\n",
      "  dataReviews_prodotti[\"polarity\"] = dataReviews_prodotti[\"body\"].progress_apply(lambda sentence: model.predict(bow.transform([clean_sentence(sentence)]))[0])\n"
     ]
    }
   ],
   "source": [
    "dataReviews_prodotti[\"polarity\"] = dataReviews_prodotti[\"body\"].progress_apply(lambda sentence: model.predict(bow.transform([clean_sentence(sentence)]))[0])"
   ]
  },
  {
   "cell_type": "code",
   "execution_count": 112,
   "metadata": {},
   "outputs": [
    {
     "data": {
      "text/html": [
       "<div>\n",
       "<style scoped>\n",
       "    .dataframe tbody tr th:only-of-type {\n",
       "        vertical-align: middle;\n",
       "    }\n",
       "\n",
       "    .dataframe tbody tr th {\n",
       "        vertical-align: top;\n",
       "    }\n",
       "\n",
       "    .dataframe thead th {\n",
       "        text-align: right;\n",
       "    }\n",
       "</style>\n",
       "<table border=\"1\" class=\"dataframe\">\n",
       "  <thead>\n",
       "    <tr style=\"text-align: right;\">\n",
       "      <th></th>\n",
       "      <th>_id</th>\n",
       "      <th>product</th>\n",
       "      <th>title</th>\n",
       "      <th>author-id</th>\n",
       "      <th>author-name</th>\n",
       "      <th>date</th>\n",
       "      <th>rating</th>\n",
       "      <th>helpful</th>\n",
       "      <th>verified</th>\n",
       "      <th>body</th>\n",
       "      <th>Period</th>\n",
       "      <th>polarity</th>\n",
       "    </tr>\n",
       "  </thead>\n",
       "  <tbody>\n",
       "    <tr>\n",
       "      <th>15374</th>\n",
       "      <td>R1JWRYRD2QJBPU</td>\n",
       "      <td>B01ETRGE7M</td>\n",
       "      <td>very good</td>\n",
       "      <td>AFFXBJ3HLCETFAMKAWAX2STT2NCA</td>\n",
       "      <td>Xxxx</td>\n",
       "      <td>2019-01-14</td>\n",
       "      <td>5</td>\n",
       "      <td>252</td>\n",
       "      <td>True</td>\n",
       "      <td>Utile e funzionale, da acquistare</td>\n",
       "      <td>2019-01</td>\n",
       "      <td>positive</td>\n",
       "    </tr>\n",
       "    <tr>\n",
       "      <th>15375</th>\n",
       "      <td>R2YNQPDQNTKRW7</td>\n",
       "      <td>B01ETRGE7M</td>\n",
       "      <td>inmancabile</td>\n",
       "      <td>AFADQ5CXWECICH4PZQKY5KJ63YTQ</td>\n",
       "      <td>sebastiano</td>\n",
       "      <td>2017-12-31</td>\n",
       "      <td>5</td>\n",
       "      <td>240</td>\n",
       "      <td>True</td>\n",
       "      <td>devo dire che questa piccola pennetta da attac...</td>\n",
       "      <td>2017-12</td>\n",
       "      <td>positive</td>\n",
       "    </tr>\n",
       "    <tr>\n",
       "      <th>15376</th>\n",
       "      <td>R1YM94DSZI7K7R</td>\n",
       "      <td>B01ETRGE7M</td>\n",
       "      <td>Talmente entusiasta che già l'ho consigliato a...</td>\n",
       "      <td>AGSGI4XBH46OAS46EATYOVDKTPEA</td>\n",
       "      <td>Spiaggia dei Maronti</td>\n",
       "      <td>2018-10-13</td>\n",
       "      <td>4</td>\n",
       "      <td>447</td>\n",
       "      <td>True</td>\n",
       "      <td>Come nel titolo.\\nTalmente entusiasta che già ...</td>\n",
       "      <td>2018-10</td>\n",
       "      <td>positive</td>\n",
       "    </tr>\n",
       "    <tr>\n",
       "      <th>15377</th>\n",
       "      <td>R37AGG061VEJIA</td>\n",
       "      <td>B01ETRGE7M</td>\n",
       "      <td>Non c’è il tasto Search! Assurdo. Devi cercare...</td>\n",
       "      <td>AGQNCTJHHDUIPBQTSLZOLTOJVSAA</td>\n",
       "      <td>lu239</td>\n",
       "      <td>2018-09-22</td>\n",
       "      <td>2</td>\n",
       "      <td>144</td>\n",
       "      <td>True</td>\n",
       "      <td>Non c’è il tasto Search. Se scarichi qualcosa ...</td>\n",
       "      <td>2018-09</td>\n",
       "      <td>negative</td>\n",
       "    </tr>\n",
       "    <tr>\n",
       "      <th>15378</th>\n",
       "      <td>R1CV0GOGENYYX8</td>\n",
       "      <td>B01ETRGE7M</td>\n",
       "      <td>Staconsigliata! NETFLIX - INFINITY - AMAZON PR...</td>\n",
       "      <td>AFNCTVOMQMNJDHTETJL4FZPYBXYQ</td>\n",
       "      <td>Soad</td>\n",
       "      <td>2019-01-09</td>\n",
       "      <td>5</td>\n",
       "      <td>1</td>\n",
       "      <td>True</td>\n",
       "      <td>Che dire, straconsigliata.\\nCercherò di scrive...</td>\n",
       "      <td>2019-01</td>\n",
       "      <td>positive</td>\n",
       "    </tr>\n",
       "    <tr>\n",
       "      <th>...</th>\n",
       "      <td>...</td>\n",
       "      <td>...</td>\n",
       "      <td>...</td>\n",
       "      <td>...</td>\n",
       "      <td>...</td>\n",
       "      <td>...</td>\n",
       "      <td>...</td>\n",
       "      <td>...</td>\n",
       "      <td>...</td>\n",
       "      <td>...</td>\n",
       "      <td>...</td>\n",
       "      <td>...</td>\n",
       "    </tr>\n",
       "    <tr>\n",
       "      <th>246882</th>\n",
       "      <td>R3K6TXOFBONGP9</td>\n",
       "      <td>B00G9WHN12</td>\n",
       "      <td>Ottima pennetta usb</td>\n",
       "      <td>AHR4OIXCRNLD2WYSASUSRGSOQGIA</td>\n",
       "      <td>Alfredo Pagano</td>\n",
       "      <td>2016-06-21</td>\n",
       "      <td>5</td>\n",
       "      <td>0</td>\n",
       "      <td>False</td>\n",
       "      <td>Pennetta arrivata nei tempi previsti, ottima v...</td>\n",
       "      <td>2016-06</td>\n",
       "      <td>positive</td>\n",
       "    </tr>\n",
       "    <tr>\n",
       "      <th>246883</th>\n",
       "      <td>R2W3AULQWTD061</td>\n",
       "      <td>B00G9WHN12</td>\n",
       "      <td>Ottimo pen drive.</td>\n",
       "      <td>AESM5FJ4MINHNU24WSKW43OY6WAA</td>\n",
       "      <td>Nicola</td>\n",
       "      <td>2015-02-11</td>\n",
       "      <td>5</td>\n",
       "      <td>0</td>\n",
       "      <td>False</td>\n",
       "      <td>Da quello che hanno scritto altri utenti mi as...</td>\n",
       "      <td>2015-02</td>\n",
       "      <td>negative</td>\n",
       "    </tr>\n",
       "    <tr>\n",
       "      <th>246884</th>\n",
       "      <td>R2MX0XOQD25ZEV</td>\n",
       "      <td>B00G9WHN12</td>\n",
       "      <td>Dopo 2 anni ancora perfetta</td>\n",
       "      <td>AEBELCAJVI2Z4DJZKDAKQQRVFSWQ</td>\n",
       "      <td>Massimiliano B.</td>\n",
       "      <td>2015-06-20</td>\n",
       "      <td>4</td>\n",
       "      <td>1</td>\n",
       "      <td>False</td>\n",
       "      <td>Questa pendrive \"G4\" ovvero di quarta generazi...</td>\n",
       "      <td>2015-06</td>\n",
       "      <td>positive</td>\n",
       "    </tr>\n",
       "    <tr>\n",
       "      <th>246885</th>\n",
       "      <td>R187UZY6HS5O47</td>\n",
       "      <td>B00G9WHN12</td>\n",
       "      <td>Arriva nel blister originale e non scalda</td>\n",
       "      <td>AH2VTYB5VICOIVE6BYYPLYKPL7IQ</td>\n",
       "      <td>Cristian Bregant</td>\n",
       "      <td>2019-02-01</td>\n",
       "      <td>5</td>\n",
       "      <td>0</td>\n",
       "      <td>True</td>\n",
       "      <td>La marca mi ha aiutato nella scelta , avevo gi...</td>\n",
       "      <td>2019-02</td>\n",
       "      <td>negative</td>\n",
       "    </tr>\n",
       "    <tr>\n",
       "      <th>246886</th>\n",
       "      <td>R1JM78L8XNAU27</td>\n",
       "      <td>B00G9WHN12</td>\n",
       "      <td>ottimo rapporto qualità prezzo</td>\n",
       "      <td>AH6IRFWVYYUNFSTYIV3GM6454YPQ</td>\n",
       "      <td>Antonio</td>\n",
       "      <td>2018-12-20</td>\n",
       "      <td>5</td>\n",
       "      <td>0</td>\n",
       "      <td>True</td>\n",
       "      <td>ottimo rapporto qualità prezzo</td>\n",
       "      <td>2018-12</td>\n",
       "      <td>positive</td>\n",
       "    </tr>\n",
       "  </tbody>\n",
       "</table>\n",
       "<p>17910 rows × 12 columns</p>\n",
       "</div>"
      ],
      "text/plain": [
       "                   _id     product  \\\n",
       "15374   R1JWRYRD2QJBPU  B01ETRGE7M   \n",
       "15375   R2YNQPDQNTKRW7  B01ETRGE7M   \n",
       "15376   R1YM94DSZI7K7R  B01ETRGE7M   \n",
       "15377   R37AGG061VEJIA  B01ETRGE7M   \n",
       "15378   R1CV0GOGENYYX8  B01ETRGE7M   \n",
       "...                ...         ...   \n",
       "246882  R3K6TXOFBONGP9  B00G9WHN12   \n",
       "246883  R2W3AULQWTD061  B00G9WHN12   \n",
       "246884  R2MX0XOQD25ZEV  B00G9WHN12   \n",
       "246885  R187UZY6HS5O47  B00G9WHN12   \n",
       "246886  R1JM78L8XNAU27  B00G9WHN12   \n",
       "\n",
       "                                                    title  \\\n",
       "15374                                           very good   \n",
       "15375                                         inmancabile   \n",
       "15376   Talmente entusiasta che già l'ho consigliato a...   \n",
       "15377   Non c’è il tasto Search! Assurdo. Devi cercare...   \n",
       "15378   Staconsigliata! NETFLIX - INFINITY - AMAZON PR...   \n",
       "...                                                   ...   \n",
       "246882                                Ottima pennetta usb   \n",
       "246883                                  Ottimo pen drive.   \n",
       "246884                        Dopo 2 anni ancora perfetta   \n",
       "246885          Arriva nel blister originale e non scalda   \n",
       "246886                     ottimo rapporto qualità prezzo   \n",
       "\n",
       "                           author-id           author-name       date  rating  \\\n",
       "15374   AFFXBJ3HLCETFAMKAWAX2STT2NCA                  Xxxx 2019-01-14       5   \n",
       "15375   AFADQ5CXWECICH4PZQKY5KJ63YTQ            sebastiano 2017-12-31       5   \n",
       "15376   AGSGI4XBH46OAS46EATYOVDKTPEA  Spiaggia dei Maronti 2018-10-13       4   \n",
       "15377   AGQNCTJHHDUIPBQTSLZOLTOJVSAA                 lu239 2018-09-22       2   \n",
       "15378   AFNCTVOMQMNJDHTETJL4FZPYBXYQ                  Soad 2019-01-09       5   \n",
       "...                              ...                   ...        ...     ...   \n",
       "246882  AHR4OIXCRNLD2WYSASUSRGSOQGIA        Alfredo Pagano 2016-06-21       5   \n",
       "246883  AESM5FJ4MINHNU24WSKW43OY6WAA                Nicola 2015-02-11       5   \n",
       "246884  AEBELCAJVI2Z4DJZKDAKQQRVFSWQ       Massimiliano B. 2015-06-20       4   \n",
       "246885  AH2VTYB5VICOIVE6BYYPLYKPL7IQ      Cristian Bregant 2019-02-01       5   \n",
       "246886  AH6IRFWVYYUNFSTYIV3GM6454YPQ               Antonio 2018-12-20       5   \n",
       "\n",
       "        helpful  verified                                               body  \\\n",
       "15374       252      True                  Utile e funzionale, da acquistare   \n",
       "15375       240      True  devo dire che questa piccola pennetta da attac...   \n",
       "15376       447      True  Come nel titolo.\\nTalmente entusiasta che già ...   \n",
       "15377       144      True  Non c’è il tasto Search. Se scarichi qualcosa ...   \n",
       "15378         1      True  Che dire, straconsigliata.\\nCercherò di scrive...   \n",
       "...         ...       ...                                                ...   \n",
       "246882        0     False  Pennetta arrivata nei tempi previsti, ottima v...   \n",
       "246883        0     False  Da quello che hanno scritto altri utenti mi as...   \n",
       "246884        1     False  Questa pendrive \"G4\" ovvero di quarta generazi...   \n",
       "246885        0      True  La marca mi ha aiutato nella scelta , avevo gi...   \n",
       "246886        0      True                     ottimo rapporto qualità prezzo   \n",
       "\n",
       "         Period  polarity  \n",
       "15374   2019-01  positive  \n",
       "15375   2017-12  positive  \n",
       "15376   2018-10  positive  \n",
       "15377   2018-09  negative  \n",
       "15378   2019-01  positive  \n",
       "...         ...       ...  \n",
       "246882  2016-06  positive  \n",
       "246883  2015-02  negative  \n",
       "246884  2015-06  positive  \n",
       "246885  2019-02  negative  \n",
       "246886  2018-12  positive  \n",
       "\n",
       "[17910 rows x 12 columns]"
      ]
     },
     "execution_count": 112,
     "metadata": {},
     "output_type": "execute_result"
    }
   ],
   "source": [
    "dataReviews_prodotti"
   ]
  },
  {
   "cell_type": "code",
   "execution_count": 177,
   "metadata": {},
   "outputs": [
    {
     "name": "stderr",
     "output_type": "stream",
     "text": [
      "<ipython-input-177-a1c4abefe6f4>:1: SettingWithCopyWarning: \n",
      "A value is trying to be set on a copy of a slice from a DataFrame.\n",
      "Try using .loc[row_indexer,col_indexer] = value instead\n",
      "\n",
      "See the caveats in the documentation: https://pandas.pydata.org/pandas-docs/stable/user_guide/indexing.html#returning-a-view-versus-a-copy\n",
      "  dataReviews_prodotti[\"polarityNum\"] = dataReviews_prodotti[\"polarity\"].apply(lambda x: 1 if x == \"positive\" else 0)\n"
     ]
    }
   ],
   "source": [
    "dataReviews_prodotti[\"polarityNum\"] = dataReviews_prodotti[\"polarity\"].apply(lambda x: 1 if x == \"positive\" else 0)"
   ]
  },
  {
   "cell_type": "code",
   "execution_count": 179,
   "metadata": {},
   "outputs": [
    {
     "data": {
      "text/html": [
       "<div>\n",
       "<style scoped>\n",
       "    .dataframe tbody tr th:only-of-type {\n",
       "        vertical-align: middle;\n",
       "    }\n",
       "\n",
       "    .dataframe tbody tr th {\n",
       "        vertical-align: top;\n",
       "    }\n",
       "\n",
       "    .dataframe thead th {\n",
       "        text-align: right;\n",
       "    }\n",
       "</style>\n",
       "<table border=\"1\" class=\"dataframe\">\n",
       "  <thead>\n",
       "    <tr style=\"text-align: right;\">\n",
       "      <th></th>\n",
       "      <th>_id</th>\n",
       "      <th>product</th>\n",
       "      <th>title</th>\n",
       "      <th>author-id</th>\n",
       "      <th>author-name</th>\n",
       "      <th>date</th>\n",
       "      <th>rating</th>\n",
       "      <th>helpful</th>\n",
       "      <th>verified</th>\n",
       "      <th>body</th>\n",
       "      <th>Period</th>\n",
       "      <th>polarity</th>\n",
       "      <th>polarityNum</th>\n",
       "    </tr>\n",
       "  </thead>\n",
       "  <tbody>\n",
       "    <tr>\n",
       "      <th>15374</th>\n",
       "      <td>R1JWRYRD2QJBPU</td>\n",
       "      <td>B01ETRGE7M</td>\n",
       "      <td>very good</td>\n",
       "      <td>AFFXBJ3HLCETFAMKAWAX2STT2NCA</td>\n",
       "      <td>Xxxx</td>\n",
       "      <td>2019-01-14</td>\n",
       "      <td>5</td>\n",
       "      <td>252</td>\n",
       "      <td>True</td>\n",
       "      <td>Utile e funzionale, da acquistare</td>\n",
       "      <td>2019-01</td>\n",
       "      <td>positive</td>\n",
       "      <td>1</td>\n",
       "    </tr>\n",
       "    <tr>\n",
       "      <th>15375</th>\n",
       "      <td>R2YNQPDQNTKRW7</td>\n",
       "      <td>B01ETRGE7M</td>\n",
       "      <td>inmancabile</td>\n",
       "      <td>AFADQ5CXWECICH4PZQKY5KJ63YTQ</td>\n",
       "      <td>sebastiano</td>\n",
       "      <td>2017-12-31</td>\n",
       "      <td>5</td>\n",
       "      <td>240</td>\n",
       "      <td>True</td>\n",
       "      <td>devo dire che questa piccola pennetta da attac...</td>\n",
       "      <td>2017-12</td>\n",
       "      <td>positive</td>\n",
       "      <td>1</td>\n",
       "    </tr>\n",
       "    <tr>\n",
       "      <th>15376</th>\n",
       "      <td>R1YM94DSZI7K7R</td>\n",
       "      <td>B01ETRGE7M</td>\n",
       "      <td>Talmente entusiasta che già l'ho consigliato a...</td>\n",
       "      <td>AGSGI4XBH46OAS46EATYOVDKTPEA</td>\n",
       "      <td>Spiaggia dei Maronti</td>\n",
       "      <td>2018-10-13</td>\n",
       "      <td>4</td>\n",
       "      <td>447</td>\n",
       "      <td>True</td>\n",
       "      <td>Come nel titolo.\\nTalmente entusiasta che già ...</td>\n",
       "      <td>2018-10</td>\n",
       "      <td>positive</td>\n",
       "      <td>1</td>\n",
       "    </tr>\n",
       "    <tr>\n",
       "      <th>15377</th>\n",
       "      <td>R37AGG061VEJIA</td>\n",
       "      <td>B01ETRGE7M</td>\n",
       "      <td>Non c’è il tasto Search! Assurdo. Devi cercare...</td>\n",
       "      <td>AGQNCTJHHDUIPBQTSLZOLTOJVSAA</td>\n",
       "      <td>lu239</td>\n",
       "      <td>2018-09-22</td>\n",
       "      <td>2</td>\n",
       "      <td>144</td>\n",
       "      <td>True</td>\n",
       "      <td>Non c’è il tasto Search. Se scarichi qualcosa ...</td>\n",
       "      <td>2018-09</td>\n",
       "      <td>negative</td>\n",
       "      <td>0</td>\n",
       "    </tr>\n",
       "    <tr>\n",
       "      <th>15378</th>\n",
       "      <td>R1CV0GOGENYYX8</td>\n",
       "      <td>B01ETRGE7M</td>\n",
       "      <td>Staconsigliata! NETFLIX - INFINITY - AMAZON PR...</td>\n",
       "      <td>AFNCTVOMQMNJDHTETJL4FZPYBXYQ</td>\n",
       "      <td>Soad</td>\n",
       "      <td>2019-01-09</td>\n",
       "      <td>5</td>\n",
       "      <td>1</td>\n",
       "      <td>True</td>\n",
       "      <td>Che dire, straconsigliata.\\nCercherò di scrive...</td>\n",
       "      <td>2019-01</td>\n",
       "      <td>positive</td>\n",
       "      <td>1</td>\n",
       "    </tr>\n",
       "    <tr>\n",
       "      <th>...</th>\n",
       "      <td>...</td>\n",
       "      <td>...</td>\n",
       "      <td>...</td>\n",
       "      <td>...</td>\n",
       "      <td>...</td>\n",
       "      <td>...</td>\n",
       "      <td>...</td>\n",
       "      <td>...</td>\n",
       "      <td>...</td>\n",
       "      <td>...</td>\n",
       "      <td>...</td>\n",
       "      <td>...</td>\n",
       "      <td>...</td>\n",
       "    </tr>\n",
       "    <tr>\n",
       "      <th>246882</th>\n",
       "      <td>R3K6TXOFBONGP9</td>\n",
       "      <td>B00G9WHN12</td>\n",
       "      <td>Ottima pennetta usb</td>\n",
       "      <td>AHR4OIXCRNLD2WYSASUSRGSOQGIA</td>\n",
       "      <td>Alfredo Pagano</td>\n",
       "      <td>2016-06-21</td>\n",
       "      <td>5</td>\n",
       "      <td>0</td>\n",
       "      <td>False</td>\n",
       "      <td>Pennetta arrivata nei tempi previsti, ottima v...</td>\n",
       "      <td>2016-06</td>\n",
       "      <td>positive</td>\n",
       "      <td>1</td>\n",
       "    </tr>\n",
       "    <tr>\n",
       "      <th>246883</th>\n",
       "      <td>R2W3AULQWTD061</td>\n",
       "      <td>B00G9WHN12</td>\n",
       "      <td>Ottimo pen drive.</td>\n",
       "      <td>AESM5FJ4MINHNU24WSKW43OY6WAA</td>\n",
       "      <td>Nicola</td>\n",
       "      <td>2015-02-11</td>\n",
       "      <td>5</td>\n",
       "      <td>0</td>\n",
       "      <td>False</td>\n",
       "      <td>Da quello che hanno scritto altri utenti mi as...</td>\n",
       "      <td>2015-02</td>\n",
       "      <td>negative</td>\n",
       "      <td>0</td>\n",
       "    </tr>\n",
       "    <tr>\n",
       "      <th>246884</th>\n",
       "      <td>R2MX0XOQD25ZEV</td>\n",
       "      <td>B00G9WHN12</td>\n",
       "      <td>Dopo 2 anni ancora perfetta</td>\n",
       "      <td>AEBELCAJVI2Z4DJZKDAKQQRVFSWQ</td>\n",
       "      <td>Massimiliano B.</td>\n",
       "      <td>2015-06-20</td>\n",
       "      <td>4</td>\n",
       "      <td>1</td>\n",
       "      <td>False</td>\n",
       "      <td>Questa pendrive \"G4\" ovvero di quarta generazi...</td>\n",
       "      <td>2015-06</td>\n",
       "      <td>positive</td>\n",
       "      <td>1</td>\n",
       "    </tr>\n",
       "    <tr>\n",
       "      <th>246885</th>\n",
       "      <td>R187UZY6HS5O47</td>\n",
       "      <td>B00G9WHN12</td>\n",
       "      <td>Arriva nel blister originale e non scalda</td>\n",
       "      <td>AH2VTYB5VICOIVE6BYYPLYKPL7IQ</td>\n",
       "      <td>Cristian Bregant</td>\n",
       "      <td>2019-02-01</td>\n",
       "      <td>5</td>\n",
       "      <td>0</td>\n",
       "      <td>True</td>\n",
       "      <td>La marca mi ha aiutato nella scelta , avevo gi...</td>\n",
       "      <td>2019-02</td>\n",
       "      <td>negative</td>\n",
       "      <td>0</td>\n",
       "    </tr>\n",
       "    <tr>\n",
       "      <th>246886</th>\n",
       "      <td>R1JM78L8XNAU27</td>\n",
       "      <td>B00G9WHN12</td>\n",
       "      <td>ottimo rapporto qualità prezzo</td>\n",
       "      <td>AH6IRFWVYYUNFSTYIV3GM6454YPQ</td>\n",
       "      <td>Antonio</td>\n",
       "      <td>2018-12-20</td>\n",
       "      <td>5</td>\n",
       "      <td>0</td>\n",
       "      <td>True</td>\n",
       "      <td>ottimo rapporto qualità prezzo</td>\n",
       "      <td>2018-12</td>\n",
       "      <td>positive</td>\n",
       "      <td>1</td>\n",
       "    </tr>\n",
       "  </tbody>\n",
       "</table>\n",
       "<p>17910 rows × 13 columns</p>\n",
       "</div>"
      ],
      "text/plain": [
       "                   _id     product  \\\n",
       "15374   R1JWRYRD2QJBPU  B01ETRGE7M   \n",
       "15375   R2YNQPDQNTKRW7  B01ETRGE7M   \n",
       "15376   R1YM94DSZI7K7R  B01ETRGE7M   \n",
       "15377   R37AGG061VEJIA  B01ETRGE7M   \n",
       "15378   R1CV0GOGENYYX8  B01ETRGE7M   \n",
       "...                ...         ...   \n",
       "246882  R3K6TXOFBONGP9  B00G9WHN12   \n",
       "246883  R2W3AULQWTD061  B00G9WHN12   \n",
       "246884  R2MX0XOQD25ZEV  B00G9WHN12   \n",
       "246885  R187UZY6HS5O47  B00G9WHN12   \n",
       "246886  R1JM78L8XNAU27  B00G9WHN12   \n",
       "\n",
       "                                                    title  \\\n",
       "15374                                           very good   \n",
       "15375                                         inmancabile   \n",
       "15376   Talmente entusiasta che già l'ho consigliato a...   \n",
       "15377   Non c’è il tasto Search! Assurdo. Devi cercare...   \n",
       "15378   Staconsigliata! NETFLIX - INFINITY - AMAZON PR...   \n",
       "...                                                   ...   \n",
       "246882                                Ottima pennetta usb   \n",
       "246883                                  Ottimo pen drive.   \n",
       "246884                        Dopo 2 anni ancora perfetta   \n",
       "246885          Arriva nel blister originale e non scalda   \n",
       "246886                     ottimo rapporto qualità prezzo   \n",
       "\n",
       "                           author-id           author-name       date  rating  \\\n",
       "15374   AFFXBJ3HLCETFAMKAWAX2STT2NCA                  Xxxx 2019-01-14       5   \n",
       "15375   AFADQ5CXWECICH4PZQKY5KJ63YTQ            sebastiano 2017-12-31       5   \n",
       "15376   AGSGI4XBH46OAS46EATYOVDKTPEA  Spiaggia dei Maronti 2018-10-13       4   \n",
       "15377   AGQNCTJHHDUIPBQTSLZOLTOJVSAA                 lu239 2018-09-22       2   \n",
       "15378   AFNCTVOMQMNJDHTETJL4FZPYBXYQ                  Soad 2019-01-09       5   \n",
       "...                              ...                   ...        ...     ...   \n",
       "246882  AHR4OIXCRNLD2WYSASUSRGSOQGIA        Alfredo Pagano 2016-06-21       5   \n",
       "246883  AESM5FJ4MINHNU24WSKW43OY6WAA                Nicola 2015-02-11       5   \n",
       "246884  AEBELCAJVI2Z4DJZKDAKQQRVFSWQ       Massimiliano B. 2015-06-20       4   \n",
       "246885  AH2VTYB5VICOIVE6BYYPLYKPL7IQ      Cristian Bregant 2019-02-01       5   \n",
       "246886  AH6IRFWVYYUNFSTYIV3GM6454YPQ               Antonio 2018-12-20       5   \n",
       "\n",
       "        helpful  verified                                               body  \\\n",
       "15374       252      True                  Utile e funzionale, da acquistare   \n",
       "15375       240      True  devo dire che questa piccola pennetta da attac...   \n",
       "15376       447      True  Come nel titolo.\\nTalmente entusiasta che già ...   \n",
       "15377       144      True  Non c’è il tasto Search. Se scarichi qualcosa ...   \n",
       "15378         1      True  Che dire, straconsigliata.\\nCercherò di scrive...   \n",
       "...         ...       ...                                                ...   \n",
       "246882        0     False  Pennetta arrivata nei tempi previsti, ottima v...   \n",
       "246883        0     False  Da quello che hanno scritto altri utenti mi as...   \n",
       "246884        1     False  Questa pendrive \"G4\" ovvero di quarta generazi...   \n",
       "246885        0      True  La marca mi ha aiutato nella scelta , avevo gi...   \n",
       "246886        0      True                     ottimo rapporto qualità prezzo   \n",
       "\n",
       "         Period  polarity  polarityNum  \n",
       "15374   2019-01  positive            1  \n",
       "15375   2017-12  positive            1  \n",
       "15376   2018-10  positive            1  \n",
       "15377   2018-09  negative            0  \n",
       "15378   2019-01  positive            1  \n",
       "...         ...       ...          ...  \n",
       "246882  2016-06  positive            1  \n",
       "246883  2015-02  negative            0  \n",
       "246884  2015-06  positive            1  \n",
       "246885  2019-02  negative            0  \n",
       "246886  2018-12  positive            1  \n",
       "\n",
       "[17910 rows x 13 columns]"
      ]
     },
     "execution_count": 179,
     "metadata": {},
     "output_type": "execute_result"
    }
   ],
   "source": [
    "dataReviews_prodotti"
   ]
  },
  {
   "cell_type": "code",
   "execution_count": 182,
   "metadata": {},
   "outputs": [],
   "source": [
    "#dataReviews_prodotti_month = dataReviews_prodotti.groupby(['product', 'Period']).progress_apply(lambda x: len(x.loc[x[\"polarity\"]==\"positive\"])/len(x)).to_frame(\"polarity\")\n",
    "\n",
    "# use the rating intead of polarity\n",
    "dataReviews_prodotti_month = dataReviews_prodotti[[\"product\", \"Period\", \"rating\", \"polarityNum\"]]\\\n",
    "    .groupby(['product', 'Period']).mean()#.progress_apply(lambda x: len(x.loc[x[\"rating\"]>3])/len(x))\n",
    "\n",
    "\n"
   ]
  },
  {
   "cell_type": "code",
   "execution_count": 282,
   "metadata": {},
   "outputs": [],
   "source": [
    "def trendline(df, order=1):\n",
    "    coeffs = np.polyfit(range(0,len(df.index)), df, order)\n",
    "    #slope = coeffs[-2]\n",
    "    return coeffs[-2], [coeffs[-2] * x + coeffs[-1] for x in range(0,len(df.index))]\n",
    "\n"
   ]
  },
  {
   "cell_type": "code",
   "execution_count": 187,
   "metadata": {},
   "outputs": [],
   "source": [
    "dataReviews_prodotti_month[\"rating\"] = dataReviews_prodotti_month[\"rating\"] / 5"
   ]
  },
  {
   "cell_type": "code",
   "execution_count": 188,
   "metadata": {},
   "outputs": [
    {
     "data": {
      "text/plain": [
       "<matplotlib.axes._subplots.AxesSubplot at 0x7f3f5169e580>"
      ]
     },
     "execution_count": 188,
     "metadata": {},
     "output_type": "execute_result"
    },
    {
     "data": {
      "image/png": "[encoded data removed]",
      "text/plain": [
       "<Figure size 432x288 with 1 Axes>"
      ]
     },
     "metadata": {
      "needs_background": "light"
     },
     "output_type": "display_data"
    }
   ],
   "source": [
    "dataReviews_prodotti_month.loc[\"B00G9WHN12\"].plot()"
   ]
  },
  {
   "cell_type": "code",
   "execution_count": 191,
   "metadata": {},
   "outputs": [
    {
     "data": {
      "text/html": [
       "<div>\n",
       "<style scoped>\n",
       "    .dataframe tbody tr th:only-of-type {\n",
       "        vertical-align: middle;\n",
       "    }\n",
       "\n",
       "    .dataframe tbody tr th {\n",
       "        vertical-align: top;\n",
       "    }\n",
       "\n",
       "    .dataframe thead th {\n",
       "        text-align: right;\n",
       "    }\n",
       "</style>\n",
       "<table border=\"1\" class=\"dataframe\">\n",
       "  <thead>\n",
       "    <tr style=\"text-align: right;\">\n",
       "      <th></th>\n",
       "      <th></th>\n",
       "      <th>rating</th>\n",
       "      <th>polarityNum</th>\n",
       "    </tr>\n",
       "    <tr>\n",
       "      <th>product</th>\n",
       "      <th>Period</th>\n",
       "      <th></th>\n",
       "      <th></th>\n",
       "    </tr>\n",
       "  </thead>\n",
       "  <tbody>\n",
       "    <tr>\n",
       "      <th rowspan=\"5\" valign=\"top\">B00G9WHN12</th>\n",
       "      <th>2013-12</th>\n",
       "      <td>1.000000</td>\n",
       "      <td>1.000000</td>\n",
       "    </tr>\n",
       "    <tr>\n",
       "      <th>2014-01</th>\n",
       "      <td>0.875000</td>\n",
       "      <td>0.875000</td>\n",
       "    </tr>\n",
       "    <tr>\n",
       "      <th>2014-02</th>\n",
       "      <td>0.908333</td>\n",
       "      <td>0.916667</td>\n",
       "    </tr>\n",
       "    <tr>\n",
       "      <th>2014-03</th>\n",
       "      <td>0.933333</td>\n",
       "      <td>1.000000</td>\n",
       "    </tr>\n",
       "    <tr>\n",
       "      <th>2014-04</th>\n",
       "      <td>0.929412</td>\n",
       "      <td>0.941176</td>\n",
       "    </tr>\n",
       "    <tr>\n",
       "      <th>...</th>\n",
       "      <th>...</th>\n",
       "      <td>...</td>\n",
       "      <td>...</td>\n",
       "    </tr>\n",
       "    <tr>\n",
       "      <th rowspan=\"5\" valign=\"top\">B01ETRGE7M</th>\n",
       "      <th>2018-12</th>\n",
       "      <td>0.897422</td>\n",
       "      <td>0.841248</td>\n",
       "    </tr>\n",
       "    <tr>\n",
       "      <th>2019-01</th>\n",
       "      <td>0.914878</td>\n",
       "      <td>0.853107</td>\n",
       "    </tr>\n",
       "    <tr>\n",
       "      <th>2019-02</th>\n",
       "      <td>0.919361</td>\n",
       "      <td>0.840319</td>\n",
       "    </tr>\n",
       "    <tr>\n",
       "      <th>2019-03</th>\n",
       "      <td>0.912023</td>\n",
       "      <td>0.859238</td>\n",
       "    </tr>\n",
       "    <tr>\n",
       "      <th>2019-04</th>\n",
       "      <td>0.890909</td>\n",
       "      <td>0.834711</td>\n",
       "    </tr>\n",
       "  </tbody>\n",
       "</table>\n",
       "<p>184 rows × 2 columns</p>\n",
       "</div>"
      ],
      "text/plain": [
       "                      rating  polarityNum\n",
       "product    Period                        \n",
       "B00G9WHN12 2013-12  1.000000     1.000000\n",
       "           2014-01  0.875000     0.875000\n",
       "           2014-02  0.908333     0.916667\n",
       "           2014-03  0.933333     1.000000\n",
       "           2014-04  0.929412     0.941176\n",
       "...                      ...          ...\n",
       "B01ETRGE7M 2018-12  0.897422     0.841248\n",
       "           2019-01  0.914878     0.853107\n",
       "           2019-02  0.919361     0.840319\n",
       "           2019-03  0.912023     0.859238\n",
       "           2019-04  0.890909     0.834711\n",
       "\n",
       "[184 rows x 2 columns]"
      ]
     },
     "execution_count": 191,
     "metadata": {},
     "output_type": "execute_result"
    }
   ],
   "source": [
    "dataReviews_prodotti_month[[\"rating\", \"polarityNum\"]]"
   ]
  },
  {
   "cell_type": "code",
   "execution_count": 299,
   "metadata": {},
   "outputs": [],
   "source": [
    "coeffs = []\n",
    "lines = []\n",
    "for i in dataReviews_prodotti_month.index.get_level_values(0).value_counts().index:\n",
    "    coeff, line = trendline(dataReviews_prodotti_month.loc[i][\"polarityNum\"])\n",
    "    lines += line\n",
    "    coeffs += [coeff] * len(line)"
   ]
  },
  {
   "cell_type": "code",
   "execution_count": 300,
   "metadata": {},
   "outputs": [
    {
     "data": {
      "text/plain": [
       "184"
      ]
     },
     "execution_count": 300,
     "metadata": {},
     "output_type": "execute_result"
    }
   ],
   "source": [
    "len(lines)"
   ]
  },
  {
   "cell_type": "code",
   "execution_count": 303,
   "metadata": {},
   "outputs": [],
   "source": [
    "dataReviews_prodotti_month[\"trendCoeff\"] = coeffs\n",
    "dataReviews_prodotti_month[\"trendLine\"] = lines"
   ]
  },
  {
   "cell_type": "code",
   "execution_count": 314,
   "metadata": {},
   "outputs": [
    {
     "data": {
      "text/plain": [
       "<matplotlib.axes._subplots.AxesSubplot at 0x7f3f50163400>"
      ]
     },
     "execution_count": 314,
     "metadata": {},
     "output_type": "execute_result"
    },
    {
     "data": {
      "image/png": "[encoded data removed]",
      "text/plain": [
       "<Figure size 432x288 with 1 Axes>"
      ]
     },
     "metadata": {
      "needs_background": "light"
     },
     "output_type": "display_data"
    }
   ],
   "source": [
    "dataReviews_prodotti_month.loc[\"B00G9WHN12\"].plot()"
   ]
  },
  {
   "cell_type": "code",
   "execution_count": 315,
   "metadata": {},
   "outputs": [],
   "source": [
    "dataReviews_prodotti_month.to_csv(\"../data/datarevies_prodotti_month.csv\")"
   ]
  },
  {
   "cell_type": "code",
   "execution_count": 279,
   "metadata": {},
   "outputs": [
    {
     "ename": "SyntaxError",
     "evalue": "invalid syntax (<ipython-input-279-d6e7a930fdc3>, line 1)",
     "output_type": "error",
     "traceback": [
      "\u001b[0;36m  File \u001b[0;32m\"<ipython-input-279-d6e7a930fdc3>\"\u001b[0;36m, line \u001b[0;32m1\u001b[0m\n\u001b[0;31m    [coeffs for i in dataReviews_prodotti_month.index.get_level_values(0).value_counts().index coeffs, line = trendline(dataReviews_prodotti_month.loc[i][\"polarityNum\"])]\u001b[0m\n\u001b[0m                                                                                               ^\u001b[0m\n\u001b[0;31mSyntaxError\u001b[0m\u001b[0;31m:\u001b[0m invalid syntax\n"
     ]
    }
   ],
   "source": [
    "[coeffs for i in dataReviews_prodotti_month.index.get_level_values(0).value_counts().index coeffs, line = trendline(dataReviews_prodotti_month.loc[i][\"polarityNum\"])]"
   ]
  },
  {
   "cell_type": "code",
   "execution_count": 277,
   "metadata": {},
   "outputs": [
    {
     "data": {
      "text/html": [
       "<div>\n",
       "<style scoped>\n",
       "    .dataframe tbody tr th:only-of-type {\n",
       "        vertical-align: middle;\n",
       "    }\n",
       "\n",
       "    .dataframe tbody tr th {\n",
       "        vertical-align: top;\n",
       "    }\n",
       "\n",
       "    .dataframe thead th {\n",
       "        text-align: right;\n",
       "    }\n",
       "</style>\n",
       "<table border=\"1\" class=\"dataframe\">\n",
       "  <thead>\n",
       "    <tr style=\"text-align: right;\">\n",
       "      <th></th>\n",
       "      <th></th>\n",
       "      <th>rating</th>\n",
       "      <th>polarityNum</th>\n",
       "    </tr>\n",
       "    <tr>\n",
       "      <th>product</th>\n",
       "      <th>Period</th>\n",
       "      <th></th>\n",
       "      <th></th>\n",
       "    </tr>\n",
       "  </thead>\n",
       "  <tbody>\n",
       "    <tr>\n",
       "      <th rowspan=\"5\" valign=\"top\">B00G9WHN12</th>\n",
       "      <th>2013-12</th>\n",
       "      <td>1.000000</td>\n",
       "      <td>1.000000</td>\n",
       "    </tr>\n",
       "    <tr>\n",
       "      <th>2014-01</th>\n",
       "      <td>0.875000</td>\n",
       "      <td>0.875000</td>\n",
       "    </tr>\n",
       "    <tr>\n",
       "      <th>2014-02</th>\n",
       "      <td>0.908333</td>\n",
       "      <td>0.916667</td>\n",
       "    </tr>\n",
       "    <tr>\n",
       "      <th>2014-03</th>\n",
       "      <td>0.933333</td>\n",
       "      <td>1.000000</td>\n",
       "    </tr>\n",
       "    <tr>\n",
       "      <th>2014-04</th>\n",
       "      <td>0.929412</td>\n",
       "      <td>0.941176</td>\n",
       "    </tr>\n",
       "    <tr>\n",
       "      <th>...</th>\n",
       "      <th>...</th>\n",
       "      <td>...</td>\n",
       "      <td>...</td>\n",
       "    </tr>\n",
       "    <tr>\n",
       "      <th rowspan=\"5\" valign=\"top\">B01ETRGE7M</th>\n",
       "      <th>2018-12</th>\n",
       "      <td>0.897422</td>\n",
       "      <td>0.841248</td>\n",
       "    </tr>\n",
       "    <tr>\n",
       "      <th>2019-01</th>\n",
       "      <td>0.914878</td>\n",
       "      <td>0.853107</td>\n",
       "    </tr>\n",
       "    <tr>\n",
       "      <th>2019-02</th>\n",
       "      <td>0.919361</td>\n",
       "      <td>0.840319</td>\n",
       "    </tr>\n",
       "    <tr>\n",
       "      <th>2019-03</th>\n",
       "      <td>0.912023</td>\n",
       "      <td>0.859238</td>\n",
       "    </tr>\n",
       "    <tr>\n",
       "      <th>2019-04</th>\n",
       "      <td>0.890909</td>\n",
       "      <td>0.834711</td>\n",
       "    </tr>\n",
       "  </tbody>\n",
       "</table>\n",
       "<p>184 rows × 2 columns</p>\n",
       "</div>"
      ],
      "text/plain": [
       "                      rating  polarityNum\n",
       "product    Period                        \n",
       "B00G9WHN12 2013-12  1.000000     1.000000\n",
       "           2014-01  0.875000     0.875000\n",
       "           2014-02  0.908333     0.916667\n",
       "           2014-03  0.933333     1.000000\n",
       "           2014-04  0.929412     0.941176\n",
       "...                      ...          ...\n",
       "B01ETRGE7M 2018-12  0.897422     0.841248\n",
       "           2019-01  0.914878     0.853107\n",
       "           2019-02  0.919361     0.840319\n",
       "           2019-03  0.912023     0.859238\n",
       "           2019-04  0.890909     0.834711\n",
       "\n",
       "[184 rows x 2 columns]"
      ]
     },
     "execution_count": 277,
     "metadata": {},
     "output_type": "execute_result"
    }
   ],
   "source": [
    "dataReviews_prodotti_month"
   ]
  },
  {
   "cell_type": "code",
   "execution_count": 275,
   "metadata": {},
   "outputs": [
    {
     "data": {
      "text/plain": [
       "[1, 1, 1, 1, 1]"
      ]
     },
     "execution_count": 275,
     "metadata": {},
     "output_type": "execute_result"
    }
   ],
   "source": [
    "[1] * 5"
   ]
  },
  {
   "cell_type": "code",
   "execution_count": 253,
   "metadata": {},
   "outputs": [
    {
     "data": {
      "text/plain": [
       "rating         ([0.0005011973351378648, 0.8401951424814792], ...\n",
       "polarityNum    ([0.00039113360296185693, 0.7721015584546075],...\n",
       "dtype: object"
      ]
     },
     "execution_count": 253,
     "metadata": {},
     "output_type": "execute_result"
    }
   ],
   "source": [
    "dataReviews_prodotti_month.apply(trendline)"
   ]
  },
  {
   "cell_type": "code",
   "execution_count": 247,
   "metadata": {},
   "outputs": [
    {
     "data": {
      "text/plain": [
       "[3, 4]"
      ]
     },
     "execution_count": 247,
     "metadata": {},
     "output_type": "execute_result"
    }
   ],
   "source": [
    "[1,2,3,4][-2:]"
   ]
  },
  {
   "cell_type": "code",
   "execution_count": 250,
   "metadata": {},
   "outputs": [
    {
     "data": {
      "text/html": [
       "<div>\n",
       "<style scoped>\n",
       "    .dataframe tbody tr th:only-of-type {\n",
       "        vertical-align: middle;\n",
       "    }\n",
       "\n",
       "    .dataframe tbody tr th {\n",
       "        vertical-align: top;\n",
       "    }\n",
       "\n",
       "    .dataframe thead th {\n",
       "        text-align: right;\n",
       "    }\n",
       "</style>\n",
       "<table border=\"1\" class=\"dataframe\">\n",
       "  <thead>\n",
       "    <tr style=\"text-align: right;\">\n",
       "      <th></th>\n",
       "      <th>rating</th>\n",
       "      <th>polarityNum</th>\n",
       "      <th>trend</th>\n",
       "    </tr>\n",
       "    <tr>\n",
       "      <th>Period</th>\n",
       "      <th></th>\n",
       "      <th></th>\n",
       "      <th></th>\n",
       "    </tr>\n",
       "  </thead>\n",
       "  <tbody>\n",
       "    <tr>\n",
       "      <th>2013-12</th>\n",
       "      <td>1.000000</td>\n",
       "      <td>1.000000</td>\n",
       "      <td>0.938582</td>\n",
       "    </tr>\n",
       "    <tr>\n",
       "      <th>2014-01</th>\n",
       "      <td>0.875000</td>\n",
       "      <td>0.875000</td>\n",
       "      <td>0.934858</td>\n",
       "    </tr>\n",
       "    <tr>\n",
       "      <th>2014-02</th>\n",
       "      <td>0.908333</td>\n",
       "      <td>0.916667</td>\n",
       "      <td>0.931134</td>\n",
       "    </tr>\n",
       "    <tr>\n",
       "      <th>2014-03</th>\n",
       "      <td>0.933333</td>\n",
       "      <td>1.000000</td>\n",
       "      <td>0.927410</td>\n",
       "    </tr>\n",
       "    <tr>\n",
       "      <th>2014-04</th>\n",
       "      <td>0.929412</td>\n",
       "      <td>0.941176</td>\n",
       "      <td>0.923686</td>\n",
       "    </tr>\n",
       "    <tr>\n",
       "      <th>...</th>\n",
       "      <td>...</td>\n",
       "      <td>...</td>\n",
       "      <td>...</td>\n",
       "    </tr>\n",
       "    <tr>\n",
       "      <th>2018-12</th>\n",
       "      <td>0.904545</td>\n",
       "      <td>0.750000</td>\n",
       "      <td>0.715135</td>\n",
       "    </tr>\n",
       "    <tr>\n",
       "      <th>2019-01</th>\n",
       "      <td>0.887671</td>\n",
       "      <td>0.780822</td>\n",
       "      <td>0.711411</td>\n",
       "    </tr>\n",
       "    <tr>\n",
       "      <th>2019-02</th>\n",
       "      <td>0.913514</td>\n",
       "      <td>0.689189</td>\n",
       "      <td>0.707687</td>\n",
       "    </tr>\n",
       "    <tr>\n",
       "      <th>2019-03</th>\n",
       "      <td>0.856667</td>\n",
       "      <td>0.666667</td>\n",
       "      <td>0.703963</td>\n",
       "    </tr>\n",
       "    <tr>\n",
       "      <th>2019-04</th>\n",
       "      <td>0.887500</td>\n",
       "      <td>0.437500</td>\n",
       "      <td>0.700239</td>\n",
       "    </tr>\n",
       "  </tbody>\n",
       "</table>\n",
       "<p>65 rows × 3 columns</p>\n",
       "</div>"
      ],
      "text/plain": [
       "           rating  polarityNum     trend\n",
       "Period                                  \n",
       "2013-12  1.000000     1.000000  0.938582\n",
       "2014-01  0.875000     0.875000  0.934858\n",
       "2014-02  0.908333     0.916667  0.931134\n",
       "2014-03  0.933333     1.000000  0.927410\n",
       "2014-04  0.929412     0.941176  0.923686\n",
       "...           ...          ...       ...\n",
       "2018-12  0.904545     0.750000  0.715135\n",
       "2019-01  0.887671     0.780822  0.711411\n",
       "2019-02  0.913514     0.689189  0.707687\n",
       "2019-03  0.856667     0.666667  0.703963\n",
       "2019-04  0.887500     0.437500  0.700239\n",
       "\n",
       "[65 rows x 3 columns]"
      ]
     },
     "execution_count": 250,
     "metadata": {},
     "output_type": "execute_result"
    }
   ],
   "source": [
    "myp"
   ]
  },
  {
   "cell_type": "code",
   "execution_count": 249,
   "metadata": {},
   "outputs": [
    {
     "data": {
      "text/plain": [
       "(array([-0.00372411,  0.93858209]),\n",
       " [0.938582090382255,\n",
       "  0.9348579825756781,\n",
       "  0.9311338747691011,\n",
       "  0.9274097669625242,\n",
       "  0.9236856591559472,\n",
       "  0.9199615513493704,\n",
       "  0.9162374435427935,\n",
       "  0.9125133357362165,\n",
       "  0.9087892279296396,\n",
       "  0.9050651201230626,\n",
       "  0.9013410123164857,\n",
       "  0.8976169045099087,\n",
       "  0.8938927967033318,\n",
       "  0.8901686888967548,\n",
       "  0.8864445810901779,\n",
       "  0.8827204732836009,\n",
       "  0.8789963654770241,\n",
       "  0.8752722576704471,\n",
       "  0.8715481498638702,\n",
       "  0.8678240420572932,\n",
       "  0.8640999342507163,\n",
       "  0.8603758264441393,\n",
       "  0.8566517186375624,\n",
       "  0.8529276108309854,\n",
       "  0.8492035030244085,\n",
       "  0.8454793952178317,\n",
       "  0.8417552874112546,\n",
       "  0.8380311796046778,\n",
       "  0.8343070717981008,\n",
       "  0.8305829639915239,\n",
       "  0.8268588561849469,\n",
       "  0.82313474837837,\n",
       "  0.819410640571793,\n",
       "  0.8156865327652161,\n",
       "  0.8119624249586391,\n",
       "  0.8082383171520622,\n",
       "  0.8045142093454853,\n",
       "  0.8007901015389083,\n",
       "  0.7970659937323314,\n",
       "  0.7933418859257545,\n",
       "  0.7896177781191775,\n",
       "  0.7858936703126006,\n",
       "  0.7821695625060237,\n",
       "  0.7784454546994467,\n",
       "  0.7747213468928698,\n",
       "  0.7709972390862929,\n",
       "  0.7672731312797159,\n",
       "  0.763549023473139,\n",
       "  0.7598249156665621,\n",
       "  0.7561008078599851,\n",
       "  0.7523767000534082,\n",
       "  0.7486525922468312,\n",
       "  0.7449284844402543,\n",
       "  0.7412043766336773,\n",
       "  0.7374802688271004,\n",
       "  0.7337561610205234,\n",
       "  0.7300320532139466,\n",
       "  0.7263079454073695,\n",
       "  0.7225838376007927,\n",
       "  0.7188597297942158,\n",
       "  0.7151356219876388,\n",
       "  0.7114115141810619,\n",
       "  0.7076874063744849,\n",
       "  0.703963298567908,\n",
       "  0.700239190761331])"
      ]
     },
     "execution_count": 249,
     "metadata": {},
     "output_type": "execute_result"
    }
   ],
   "source": [
    "trendline(myp[\"rating\"])"
   ]
  },
  {
   "cell_type": "code",
   "execution_count": null,
   "metadata": {},
   "outputs": [],
   "source": [
    "coeffs[-2]x + coeffs[-1] = y"
   ]
  },
  {
   "cell_type": "code",
   "execution_count": 241,
   "metadata": {},
   "outputs": [],
   "source": [
    "myp[\"trend\"]=[-0.00372411 * x + 0.93858209 for x in range(0,65)]"
   ]
  },
  {
   "cell_type": "code",
   "execution_count": 207,
   "metadata": {},
   "outputs": [],
   "source": [
    "myp = dataReviews_prodotti_month.loc[\"B00G9WHN12\"]"
   ]
  },
  {
   "cell_type": "code",
   "execution_count": 242,
   "metadata": {},
   "outputs": [
    {
     "data": {
      "text/plain": [
       "<matplotlib.axes._subplots.AxesSubplot at 0x7f3f5038e970>"
      ]
     },
     "execution_count": 242,
     "metadata": {},
     "output_type": "execute_result"
    },
    {
     "data": {
      "image/png": "[encoded data removed]",
      "text/plain": [
       "<Figure size 432x288 with 1 Axes>"
      ]
     },
     "metadata": {
      "needs_background": "light"
     },
     "output_type": "display_data"
    }
   ],
   "source": [
    "myp.plot()"
   ]
  },
  {
   "cell_type": "code",
   "execution_count": 222,
   "metadata": {},
   "outputs": [
    {
     "data": {
      "text/plain": [
       "184"
      ]
     },
     "execution_count": 222,
     "metadata": {},
     "output_type": "execute_result"
    }
   ],
   "source": [
    "len(dataReviews_prodotti_month[\"rating\"])"
   ]
  },
  {
   "cell_type": "code",
   "execution_count": 224,
   "metadata": {},
   "outputs": [
    {
     "data": {
      "text/plain": [
       "<matplotlib.axes._subplots.AxesSubplot at 0x7f3f502aa700>"
      ]
     },
     "execution_count": 224,
     "metadata": {},
     "output_type": "execute_result"
    },
    {
     "data": {
      "image/png": "[encoded data removed]",
      "text/plain": [
       "<Figure size 432x288 with 1 Axes>"
      ]
     },
     "metadata": {
      "needs_background": "light"
     },
     "output_type": "display_data"
    }
   ],
   "source": [
    "myp.plot()"
   ]
  },
  {
   "cell_type": "code",
   "execution_count": 226,
   "metadata": {},
   "outputs": [
    {
     "ename": "UFuncTypeError",
     "evalue": "ufunc 'add' did not contain a loop with signature matching types (dtype('<U32'), dtype('<U32')) -> dtype('<U32')",
     "output_type": "error",
     "traceback": [
      "\u001b[0;31m---------------------------------------------------------------------------\u001b[0m",
      "\u001b[0;31mUFuncTypeError\u001b[0m                            Traceback (most recent call last)",
      "\u001b[0;32m<ipython-input-226-18a0227efdb5>\u001b[0m in \u001b[0;36m<module>\u001b[0;34m\u001b[0m\n\u001b[0;32m----> 1\u001b[0;31m \u001b[0mtrendline\u001b[0m\u001b[0;34m(\u001b[0m\u001b[0mrange\u001b[0m\u001b[0;34m(\u001b[0m\u001b[0;36m0\u001b[0m\u001b[0;34m,\u001b[0m\u001b[0mlen\u001b[0m\u001b[0;34m(\u001b[0m\u001b[0mmyp\u001b[0m\u001b[0;34m.\u001b[0m\u001b[0mindex\u001b[0m\u001b[0;34m)\u001b[0m\u001b[0;34m)\u001b[0m\u001b[0;34m,\u001b[0m \u001b[0mmyp\u001b[0m\u001b[0;34m,\u001b[0m \u001b[0;36m1\u001b[0m\u001b[0;34m)\u001b[0m\u001b[0;34m\u001b[0m\u001b[0;34m\u001b[0m\u001b[0m\n\u001b[0m",
      "\u001b[0;32m<ipython-input-209-98bbc6e12fc3>\u001b[0m in \u001b[0;36mtrendline\u001b[0;34m(index, data, order)\u001b[0m\n\u001b[1;32m      1\u001b[0m \u001b[0;32mimport\u001b[0m \u001b[0mnumpy\u001b[0m \u001b[0;32mas\u001b[0m \u001b[0mnp\u001b[0m\u001b[0;34m\u001b[0m\u001b[0;34m\u001b[0m\u001b[0m\n\u001b[1;32m      2\u001b[0m \u001b[0;32mdef\u001b[0m \u001b[0mtrendline\u001b[0m\u001b[0;34m(\u001b[0m\u001b[0mindex\u001b[0m\u001b[0;34m,\u001b[0m\u001b[0mdata\u001b[0m\u001b[0;34m,\u001b[0m \u001b[0morder\u001b[0m\u001b[0;34m=\u001b[0m\u001b[0;36m1\u001b[0m\u001b[0;34m)\u001b[0m\u001b[0;34m:\u001b[0m\u001b[0;34m\u001b[0m\u001b[0;34m\u001b[0m\u001b[0m\n\u001b[0;32m----> 3\u001b[0;31m     \u001b[0mcoeffs\u001b[0m \u001b[0;34m=\u001b[0m \u001b[0mnp\u001b[0m\u001b[0;34m.\u001b[0m\u001b[0mpolyfit\u001b[0m\u001b[0;34m(\u001b[0m\u001b[0mindex\u001b[0m\u001b[0;34m,\u001b[0m \u001b[0mlist\u001b[0m\u001b[0;34m(\u001b[0m\u001b[0mdata\u001b[0m\u001b[0;34m)\u001b[0m\u001b[0;34m,\u001b[0m \u001b[0morder\u001b[0m\u001b[0;34m)\u001b[0m\u001b[0;34m\u001b[0m\u001b[0;34m\u001b[0m\u001b[0m\n\u001b[0m\u001b[1;32m      4\u001b[0m     \u001b[0mslope\u001b[0m \u001b[0;34m=\u001b[0m \u001b[0mcoeffs\u001b[0m\u001b[0;34m[\u001b[0m\u001b[0;34m-\u001b[0m\u001b[0;36m2\u001b[0m\u001b[0;34m]\u001b[0m\u001b[0;34m\u001b[0m\u001b[0;34m\u001b[0m\u001b[0m\n\u001b[1;32m      5\u001b[0m     \u001b[0;32mreturn\u001b[0m \u001b[0mfloat\u001b[0m\u001b[0;34m(\u001b[0m\u001b[0mslope\u001b[0m\u001b[0;34m)\u001b[0m\u001b[0;34m\u001b[0m\u001b[0;34m\u001b[0m\u001b[0m\n",
      "\u001b[0;32m<__array_function__ internals>\u001b[0m in \u001b[0;36mpolyfit\u001b[0;34m(*args, **kwargs)\u001b[0m\n",
      "\u001b[0;32m~/workspace/git/dataanalyticsproject/src/venv/lib/python3.8/site-packages/numpy/lib/polynomial.py\u001b[0m in \u001b[0;36mpolyfit\u001b[0;34m(x, y, deg, rcond, full, w, cov)\u001b[0m\n\u001b[1;32m    591\u001b[0m     \u001b[0morder\u001b[0m \u001b[0;34m=\u001b[0m \u001b[0mint\u001b[0m\u001b[0;34m(\u001b[0m\u001b[0mdeg\u001b[0m\u001b[0;34m)\u001b[0m \u001b[0;34m+\u001b[0m \u001b[0;36m1\u001b[0m\u001b[0;34m\u001b[0m\u001b[0;34m\u001b[0m\u001b[0m\n\u001b[1;32m    592\u001b[0m     \u001b[0mx\u001b[0m \u001b[0;34m=\u001b[0m \u001b[0mNX\u001b[0m\u001b[0;34m.\u001b[0m\u001b[0masarray\u001b[0m\u001b[0;34m(\u001b[0m\u001b[0mx\u001b[0m\u001b[0;34m)\u001b[0m \u001b[0;34m+\u001b[0m \u001b[0;36m0.0\u001b[0m\u001b[0;34m\u001b[0m\u001b[0;34m\u001b[0m\u001b[0m\n\u001b[0;32m--> 593\u001b[0;31m     \u001b[0my\u001b[0m \u001b[0;34m=\u001b[0m \u001b[0mNX\u001b[0m\u001b[0;34m.\u001b[0m\u001b[0masarray\u001b[0m\u001b[0;34m(\u001b[0m\u001b[0my\u001b[0m\u001b[0;34m)\u001b[0m \u001b[0;34m+\u001b[0m \u001b[0;36m0.0\u001b[0m\u001b[0;34m\u001b[0m\u001b[0;34m\u001b[0m\u001b[0m\n\u001b[0m\u001b[1;32m    594\u001b[0m \u001b[0;34m\u001b[0m\u001b[0m\n\u001b[1;32m    595\u001b[0m     \u001b[0;31m# check arguments.\u001b[0m\u001b[0;34m\u001b[0m\u001b[0;34m\u001b[0m\u001b[0;34m\u001b[0m\u001b[0m\n",
      "\u001b[0;31mUFuncTypeError\u001b[0m: ufunc 'add' did not contain a loop with signature matching types (dtype('<U32'), dtype('<U32')) -> dtype('<U32')"
     ]
    }
   ],
   "source": [
    "trendline(range(0,len(myp.index)), myp[\"polarityNum\"], 1)"
   ]
  },
  {
   "cell_type": "code",
   "execution_count": 197,
   "metadata": {},
   "outputs": [
    {
     "ename": "TypeError",
     "evalue": "can only concatenate str (not \"float\") to str",
     "output_type": "error",
     "traceback": [
      "\u001b[0;31m---------------------------------------------------------------------------\u001b[0m",
      "\u001b[0;31mTypeError\u001b[0m                                 Traceback (most recent call last)",
      "\u001b[0;32m<ipython-input-197-9942b3e6e319>\u001b[0m in \u001b[0;36m<module>\u001b[0;34m\u001b[0m\n\u001b[0;32m----> 1\u001b[0;31m \u001b[0mdataReviews_prodotti_month\u001b[0m\u001b[0;34m.\u001b[0m\u001b[0mapply\u001b[0m\u001b[0;34m(\u001b[0m\u001b[0mtrendline\u001b[0m\u001b[0;34m,\u001b[0m \u001b[0maxis\u001b[0m\u001b[0;34m=\u001b[0m\u001b[0;36m1\u001b[0m\u001b[0;34m)\u001b[0m\u001b[0;34m\u001b[0m\u001b[0;34m\u001b[0m\u001b[0m\n\u001b[0m",
      "\u001b[0;32m~/workspace/git/dataanalyticsproject/src/venv/lib/python3.8/site-packages/pandas/core/frame.py\u001b[0m in \u001b[0;36mapply\u001b[0;34m(self, func, axis, raw, result_type, args, **kwds)\u001b[0m\n\u001b[1;32m   6876\u001b[0m             \u001b[0mkwds\u001b[0m\u001b[0;34m=\u001b[0m\u001b[0mkwds\u001b[0m\u001b[0;34m,\u001b[0m\u001b[0;34m\u001b[0m\u001b[0;34m\u001b[0m\u001b[0m\n\u001b[1;32m   6877\u001b[0m         )\n\u001b[0;32m-> 6878\u001b[0;31m         \u001b[0;32mreturn\u001b[0m \u001b[0mop\u001b[0m\u001b[0;34m.\u001b[0m\u001b[0mget_result\u001b[0m\u001b[0;34m(\u001b[0m\u001b[0;34m)\u001b[0m\u001b[0;34m\u001b[0m\u001b[0;34m\u001b[0m\u001b[0m\n\u001b[0m\u001b[1;32m   6879\u001b[0m \u001b[0;34m\u001b[0m\u001b[0m\n\u001b[1;32m   6880\u001b[0m     \u001b[0;32mdef\u001b[0m \u001b[0mapplymap\u001b[0m\u001b[0;34m(\u001b[0m\u001b[0mself\u001b[0m\u001b[0;34m,\u001b[0m \u001b[0mfunc\u001b[0m\u001b[0;34m)\u001b[0m \u001b[0;34m->\u001b[0m \u001b[0;34m\"DataFrame\"\u001b[0m\u001b[0;34m:\u001b[0m\u001b[0;34m\u001b[0m\u001b[0;34m\u001b[0m\u001b[0m\n",
      "\u001b[0;32m~/workspace/git/dataanalyticsproject/src/venv/lib/python3.8/site-packages/pandas/core/apply.py\u001b[0m in \u001b[0;36mget_result\u001b[0;34m(self)\u001b[0m\n\u001b[1;32m    184\u001b[0m             \u001b[0;32mreturn\u001b[0m \u001b[0mself\u001b[0m\u001b[0;34m.\u001b[0m\u001b[0mapply_raw\u001b[0m\u001b[0;34m(\u001b[0m\u001b[0;34m)\u001b[0m\u001b[0;34m\u001b[0m\u001b[0;34m\u001b[0m\u001b[0m\n\u001b[1;32m    185\u001b[0m \u001b[0;34m\u001b[0m\u001b[0m\n\u001b[0;32m--> 186\u001b[0;31m         \u001b[0;32mreturn\u001b[0m \u001b[0mself\u001b[0m\u001b[0;34m.\u001b[0m\u001b[0mapply_standard\u001b[0m\u001b[0;34m(\u001b[0m\u001b[0;34m)\u001b[0m\u001b[0;34m\u001b[0m\u001b[0;34m\u001b[0m\u001b[0m\n\u001b[0m\u001b[1;32m    187\u001b[0m \u001b[0;34m\u001b[0m\u001b[0m\n\u001b[1;32m    188\u001b[0m     \u001b[0;32mdef\u001b[0m \u001b[0mapply_empty_result\u001b[0m\u001b[0;34m(\u001b[0m\u001b[0mself\u001b[0m\u001b[0;34m)\u001b[0m\u001b[0;34m:\u001b[0m\u001b[0;34m\u001b[0m\u001b[0;34m\u001b[0m\u001b[0m\n",
      "\u001b[0;32m~/workspace/git/dataanalyticsproject/src/venv/lib/python3.8/site-packages/pandas/core/apply.py\u001b[0m in \u001b[0;36mapply_standard\u001b[0;34m(self)\u001b[0m\n\u001b[1;32m    311\u001b[0m \u001b[0;34m\u001b[0m\u001b[0m\n\u001b[1;32m    312\u001b[0m         \u001b[0;31m# compute the result using the series generator\u001b[0m\u001b[0;34m\u001b[0m\u001b[0;34m\u001b[0m\u001b[0;34m\u001b[0m\u001b[0m\n\u001b[0;32m--> 313\u001b[0;31m         \u001b[0mresults\u001b[0m\u001b[0;34m,\u001b[0m \u001b[0mres_index\u001b[0m \u001b[0;34m=\u001b[0m \u001b[0mself\u001b[0m\u001b[0;34m.\u001b[0m\u001b[0mapply_series_generator\u001b[0m\u001b[0;34m(\u001b[0m\u001b[0;34m)\u001b[0m\u001b[0;34m\u001b[0m\u001b[0;34m\u001b[0m\u001b[0m\n\u001b[0m\u001b[1;32m    314\u001b[0m \u001b[0;34m\u001b[0m\u001b[0m\n\u001b[1;32m    315\u001b[0m         \u001b[0;31m# wrap results\u001b[0m\u001b[0;34m\u001b[0m\u001b[0;34m\u001b[0m\u001b[0;34m\u001b[0m\u001b[0m\n",
      "\u001b[0;32m~/workspace/git/dataanalyticsproject/src/venv/lib/python3.8/site-packages/pandas/core/apply.py\u001b[0m in \u001b[0;36mapply_series_generator\u001b[0;34m(self)\u001b[0m\n\u001b[1;32m    339\u001b[0m         \u001b[0;32melse\u001b[0m\u001b[0;34m:\u001b[0m\u001b[0;34m\u001b[0m\u001b[0;34m\u001b[0m\u001b[0m\n\u001b[1;32m    340\u001b[0m             \u001b[0;32mfor\u001b[0m \u001b[0mi\u001b[0m\u001b[0;34m,\u001b[0m \u001b[0mv\u001b[0m \u001b[0;32min\u001b[0m \u001b[0menumerate\u001b[0m\u001b[0;34m(\u001b[0m\u001b[0mseries_gen\u001b[0m\u001b[0;34m)\u001b[0m\u001b[0;34m:\u001b[0m\u001b[0;34m\u001b[0m\u001b[0;34m\u001b[0m\u001b[0m\n\u001b[0;32m--> 341\u001b[0;31m                 \u001b[0mresults\u001b[0m\u001b[0;34m[\u001b[0m\u001b[0mi\u001b[0m\u001b[0;34m]\u001b[0m \u001b[0;34m=\u001b[0m \u001b[0mself\u001b[0m\u001b[0;34m.\u001b[0m\u001b[0mf\u001b[0m\u001b[0;34m(\u001b[0m\u001b[0mv\u001b[0m\u001b[0;34m)\u001b[0m\u001b[0;34m\u001b[0m\u001b[0;34m\u001b[0m\u001b[0m\n\u001b[0m\u001b[1;32m    342\u001b[0m                 \u001b[0mkeys\u001b[0m\u001b[0;34m.\u001b[0m\u001b[0mappend\u001b[0m\u001b[0;34m(\u001b[0m\u001b[0mv\u001b[0m\u001b[0;34m.\u001b[0m\u001b[0mname\u001b[0m\u001b[0;34m)\u001b[0m\u001b[0;34m\u001b[0m\u001b[0;34m\u001b[0m\u001b[0m\n\u001b[1;32m    343\u001b[0m \u001b[0;34m\u001b[0m\u001b[0m\n",
      "\u001b[0;32m<ipython-input-196-91e9d4d1fc8a>\u001b[0m in \u001b[0;36mtrendline\u001b[0;34m(data, order)\u001b[0m\n\u001b[1;32m      1\u001b[0m \u001b[0;32mimport\u001b[0m \u001b[0mnumpy\u001b[0m \u001b[0;32mas\u001b[0m \u001b[0mnp\u001b[0m\u001b[0;34m\u001b[0m\u001b[0;34m\u001b[0m\u001b[0m\n\u001b[1;32m      2\u001b[0m \u001b[0;32mdef\u001b[0m \u001b[0mtrendline\u001b[0m\u001b[0;34m(\u001b[0m\u001b[0mdata\u001b[0m\u001b[0;34m,\u001b[0m \u001b[0morder\u001b[0m\u001b[0;34m=\u001b[0m\u001b[0;36m1\u001b[0m\u001b[0;34m)\u001b[0m\u001b[0;34m:\u001b[0m\u001b[0;34m\u001b[0m\u001b[0;34m\u001b[0m\u001b[0m\n\u001b[0;32m----> 3\u001b[0;31m     \u001b[0mcoeffs\u001b[0m \u001b[0;34m=\u001b[0m \u001b[0mnp\u001b[0m\u001b[0;34m.\u001b[0m\u001b[0mpolyfit\u001b[0m\u001b[0;34m(\u001b[0m\u001b[0mdata\u001b[0m\u001b[0;34m.\u001b[0m\u001b[0mindex\u001b[0m\u001b[0;34m.\u001b[0m\u001b[0mvalues\u001b[0m\u001b[0;34m,\u001b[0m \u001b[0mlist\u001b[0m\u001b[0;34m(\u001b[0m\u001b[0mdata\u001b[0m\u001b[0;34m)\u001b[0m\u001b[0;34m,\u001b[0m \u001b[0morder\u001b[0m\u001b[0;34m)\u001b[0m\u001b[0;34m\u001b[0m\u001b[0;34m\u001b[0m\u001b[0m\n\u001b[0m\u001b[1;32m      4\u001b[0m     \u001b[0mslope\u001b[0m \u001b[0;34m=\u001b[0m \u001b[0mcoeffs\u001b[0m\u001b[0;34m[\u001b[0m\u001b[0;34m-\u001b[0m\u001b[0;36m2\u001b[0m\u001b[0;34m]\u001b[0m\u001b[0;34m\u001b[0m\u001b[0;34m\u001b[0m\u001b[0m\n\u001b[1;32m      5\u001b[0m     \u001b[0;32mreturn\u001b[0m \u001b[0mfloat\u001b[0m\u001b[0;34m(\u001b[0m\u001b[0mslope\u001b[0m\u001b[0;34m)\u001b[0m\u001b[0;34m\u001b[0m\u001b[0;34m\u001b[0m\u001b[0m\n",
      "\u001b[0;32m<__array_function__ internals>\u001b[0m in \u001b[0;36mpolyfit\u001b[0;34m(*args, **kwargs)\u001b[0m\n",
      "\u001b[0;32m~/workspace/git/dataanalyticsproject/src/venv/lib/python3.8/site-packages/numpy/lib/polynomial.py\u001b[0m in \u001b[0;36mpolyfit\u001b[0;34m(x, y, deg, rcond, full, w, cov)\u001b[0m\n\u001b[1;32m    590\u001b[0m     \"\"\"\n\u001b[1;32m    591\u001b[0m     \u001b[0morder\u001b[0m \u001b[0;34m=\u001b[0m \u001b[0mint\u001b[0m\u001b[0;34m(\u001b[0m\u001b[0mdeg\u001b[0m\u001b[0;34m)\u001b[0m \u001b[0;34m+\u001b[0m \u001b[0;36m1\u001b[0m\u001b[0;34m\u001b[0m\u001b[0;34m\u001b[0m\u001b[0m\n\u001b[0;32m--> 592\u001b[0;31m     \u001b[0mx\u001b[0m \u001b[0;34m=\u001b[0m \u001b[0mNX\u001b[0m\u001b[0;34m.\u001b[0m\u001b[0masarray\u001b[0m\u001b[0;34m(\u001b[0m\u001b[0mx\u001b[0m\u001b[0;34m)\u001b[0m \u001b[0;34m+\u001b[0m \u001b[0;36m0.0\u001b[0m\u001b[0;34m\u001b[0m\u001b[0;34m\u001b[0m\u001b[0m\n\u001b[0m\u001b[1;32m    593\u001b[0m     \u001b[0my\u001b[0m \u001b[0;34m=\u001b[0m \u001b[0mNX\u001b[0m\u001b[0;34m.\u001b[0m\u001b[0masarray\u001b[0m\u001b[0;34m(\u001b[0m\u001b[0my\u001b[0m\u001b[0;34m)\u001b[0m \u001b[0;34m+\u001b[0m \u001b[0;36m0.0\u001b[0m\u001b[0;34m\u001b[0m\u001b[0;34m\u001b[0m\u001b[0m\n\u001b[1;32m    594\u001b[0m \u001b[0;34m\u001b[0m\u001b[0m\n",
      "\u001b[0;31mTypeError\u001b[0m: can only concatenate str (not \"float\") to str"
     ]
    }
   ],
   "source": [
    "dataReviews_prodotti_month.apply(trendline, axis=1)"
   ]
  },
  {
   "cell_type": "code",
   "execution_count": 173,
   "metadata": {},
   "outputs": [
    {
     "data": {
      "text/plain": [
       "Index(['2013-12', '2014-01', '2014-02', '2014-03', '2014-04', '2014-05',\n",
       "       '2014-06', '2014-07', '2014-08', '2014-09',\n",
       "       ...\n",
       "       '2018-07', '2018-08', '2018-09', '2018-10', '2018-11', '2018-12',\n",
       "       '2019-01', '2019-02', '2019-03', '2019-04'],\n",
       "      dtype='object', name='Period', length=130)"
      ]
     },
     "execution_count": 173,
     "metadata": {},
     "output_type": "execute_result"
    }
   ],
   "source": [
    "pd.concat([dataReviews_prodotti_month, dataReviews_prodotti_month_rat]).loc[\"B00G9WHN12\"]"
   ]
  },
  {
   "cell_type": "code",
   "execution_count": 172,
   "metadata": {},
   "outputs": [
    {
     "data": {
      "text/html": [
       "<div>\n",
       "<style scoped>\n",
       "    .dataframe tbody tr th:only-of-type {\n",
       "        vertical-align: middle;\n",
       "    }\n",
       "\n",
       "    .dataframe tbody tr th {\n",
       "        vertical-align: top;\n",
       "    }\n",
       "\n",
       "    .dataframe thead th {\n",
       "        text-align: right;\n",
       "    }\n",
       "</style>\n",
       "<table border=\"1\" class=\"dataframe\">\n",
       "  <thead>\n",
       "    <tr style=\"text-align: right;\">\n",
       "      <th></th>\n",
       "      <th>polarity</th>\n",
       "    </tr>\n",
       "    <tr>\n",
       "      <th>Period</th>\n",
       "      <th></th>\n",
       "    </tr>\n",
       "  </thead>\n",
       "  <tbody>\n",
       "    <tr>\n",
       "      <th>2013-12</th>\n",
       "      <td>1.000000</td>\n",
       "    </tr>\n",
       "    <tr>\n",
       "      <th>2014-01</th>\n",
       "      <td>0.875000</td>\n",
       "    </tr>\n",
       "    <tr>\n",
       "      <th>2014-02</th>\n",
       "      <td>0.916667</td>\n",
       "    </tr>\n",
       "    <tr>\n",
       "      <th>2014-03</th>\n",
       "      <td>1.000000</td>\n",
       "    </tr>\n",
       "    <tr>\n",
       "      <th>2014-04</th>\n",
       "      <td>0.941176</td>\n",
       "    </tr>\n",
       "    <tr>\n",
       "      <th>...</th>\n",
       "      <td>...</td>\n",
       "    </tr>\n",
       "    <tr>\n",
       "      <th>2018-12</th>\n",
       "      <td>0.750000</td>\n",
       "    </tr>\n",
       "    <tr>\n",
       "      <th>2019-01</th>\n",
       "      <td>0.780822</td>\n",
       "    </tr>\n",
       "    <tr>\n",
       "      <th>2019-02</th>\n",
       "      <td>0.689189</td>\n",
       "    </tr>\n",
       "    <tr>\n",
       "      <th>2019-03</th>\n",
       "      <td>0.666667</td>\n",
       "    </tr>\n",
       "    <tr>\n",
       "      <th>2019-04</th>\n",
       "      <td>0.437500</td>\n",
       "    </tr>\n",
       "  </tbody>\n",
       "</table>\n",
       "<p>65 rows × 1 columns</p>\n",
       "</div>"
      ],
      "text/plain": [
       "         polarity\n",
       "Period           \n",
       "2013-12  1.000000\n",
       "2014-01  0.875000\n",
       "2014-02  0.916667\n",
       "2014-03  1.000000\n",
       "2014-04  0.941176\n",
       "...           ...\n",
       "2018-12  0.750000\n",
       "2019-01  0.780822\n",
       "2019-02  0.689189\n",
       "2019-03  0.666667\n",
       "2019-04  0.437500\n",
       "\n",
       "[65 rows x 1 columns]"
      ]
     },
     "execution_count": 172,
     "metadata": {},
     "output_type": "execute_result"
    }
   ],
   "source": [
    "dataReviews_prodotti_month.loc[\"B00G9WHN12\"]"
   ]
  },
  {
   "cell_type": "code",
   "execution_count": 171,
   "metadata": {},
   "outputs": [
    {
     "data": {
      "text/html": [
       "<div>\n",
       "<style scoped>\n",
       "    .dataframe tbody tr th:only-of-type {\n",
       "        vertical-align: middle;\n",
       "    }\n",
       "\n",
       "    .dataframe tbody tr th {\n",
       "        vertical-align: top;\n",
       "    }\n",
       "\n",
       "    .dataframe thead th {\n",
       "        text-align: right;\n",
       "    }\n",
       "</style>\n",
       "<table border=\"1\" class=\"dataframe\">\n",
       "  <thead>\n",
       "    <tr style=\"text-align: right;\">\n",
       "      <th></th>\n",
       "      <th>rating</th>\n",
       "    </tr>\n",
       "    <tr>\n",
       "      <th>Period</th>\n",
       "      <th></th>\n",
       "    </tr>\n",
       "  </thead>\n",
       "  <tbody>\n",
       "    <tr>\n",
       "      <th>2013-12</th>\n",
       "      <td>5.000000</td>\n",
       "    </tr>\n",
       "    <tr>\n",
       "      <th>2014-01</th>\n",
       "      <td>4.375000</td>\n",
       "    </tr>\n",
       "    <tr>\n",
       "      <th>2014-02</th>\n",
       "      <td>4.541667</td>\n",
       "    </tr>\n",
       "    <tr>\n",
       "      <th>2014-03</th>\n",
       "      <td>4.666667</td>\n",
       "    </tr>\n",
       "    <tr>\n",
       "      <th>2014-04</th>\n",
       "      <td>4.647059</td>\n",
       "    </tr>\n",
       "    <tr>\n",
       "      <th>...</th>\n",
       "      <td>...</td>\n",
       "    </tr>\n",
       "    <tr>\n",
       "      <th>2018-12</th>\n",
       "      <td>4.522727</td>\n",
       "    </tr>\n",
       "    <tr>\n",
       "      <th>2019-01</th>\n",
       "      <td>4.438356</td>\n",
       "    </tr>\n",
       "    <tr>\n",
       "      <th>2019-02</th>\n",
       "      <td>4.567568</td>\n",
       "    </tr>\n",
       "    <tr>\n",
       "      <th>2019-03</th>\n",
       "      <td>4.283333</td>\n",
       "    </tr>\n",
       "    <tr>\n",
       "      <th>2019-04</th>\n",
       "      <td>4.437500</td>\n",
       "    </tr>\n",
       "  </tbody>\n",
       "</table>\n",
       "<p>65 rows × 1 columns</p>\n",
       "</div>"
      ],
      "text/plain": [
       "           rating\n",
       "Period           \n",
       "2013-12  5.000000\n",
       "2014-01  4.375000\n",
       "2014-02  4.541667\n",
       "2014-03  4.666667\n",
       "2014-04  4.647059\n",
       "...           ...\n",
       "2018-12  4.522727\n",
       "2019-01  4.438356\n",
       "2019-02  4.567568\n",
       "2019-03  4.283333\n",
       "2019-04  4.437500\n",
       "\n",
       "[65 rows x 1 columns]"
      ]
     },
     "execution_count": 171,
     "metadata": {},
     "output_type": "execute_result"
    }
   ],
   "source": [
    "dataReviews_prodotti_month_rat.loc[\"B00G9WHN12\"]"
   ]
  },
  {
   "cell_type": "code",
   "execution_count": 141,
   "metadata": {
    "scrolled": true
   },
   "outputs": [
    {
     "data": {
      "text/plain": [
       "<matplotlib.axes._subplots.AxesSubplot at 0x7f3f52768b20>"
      ]
     },
     "execution_count": 141,
     "metadata": {},
     "output_type": "execute_result"
    },
    {
     "data": {
      "image/png": "[encoded data removed]",
      "text/plain": [
       "<Figure size 432x288 with 1 Axes>"
      ]
     },
     "metadata": {
      "needs_background": "light"
     },
     "output_type": "display_data"
    }
   ],
   "source": [
    "dataReviews_prodotti_month.to_frame().loc[\"B00G9WHN12\"].plot()"
   ]
  },
  {
   "cell_type": "code",
   "execution_count": 80,
   "metadata": {},
   "outputs": [
    {
     "data": {
      "text/plain": [
       "<matplotlib.axes._subplots.AxesSubplot at 0x7f3f56833100>"
      ]
     },
     "execution_count": 80,
     "metadata": {},
     "output_type": "execute_result"
    },
    {
     "data": {
      "image/png": "[encoded data removed]",
      "text/plain": [
       "<Figure size 432x288 with 1 Axes>"
      ]
     },
     "metadata": {
      "needs_background": "light"
     },
     "output_type": "display_data"
    }
   ],
   "source": [
    "dataReviews_prodotto_month.plot()"
   ]
  },
  {
   "cell_type": "code",
   "execution_count": 142,
   "metadata": {},
   "outputs": [
    {
     "data": {
      "text/plain": [
       "product     Period \n",
       "B00G9WHN12  2013-12    1.000000\n",
       "            2014-01    0.875000\n",
       "            2014-02    0.916667\n",
       "            2014-03    0.952381\n",
       "            2014-04    0.970588\n",
       "                         ...   \n",
       "B01ETRGE7M  2018-12    0.880597\n",
       "            2019-01    0.903955\n",
       "            2019-02    0.900200\n",
       "            2019-03    0.894428\n",
       "            2019-04    0.851240\n",
       "Length: 184, dtype: float64"
      ]
     },
     "execution_count": 142,
     "metadata": {},
     "output_type": "execute_result"
    }
   ],
   "source": [
    "dataReviews_prodotto_month_rat"
   ]
  },
  {
   "cell_type": "code",
   "execution_count": 96,
   "metadata": {},
   "outputs": [
    {
     "data": {
      "text/plain": [
       "Period\n",
       "2017-11    1.000000\n",
       "2017-12    1.000000\n",
       "2018-01    0.973373\n",
       "2018-02    0.990566\n",
       "2018-03    0.963351\n",
       "2018-04    0.986111\n",
       "2018-05    0.980769\n",
       "2018-06    0.958333\n",
       "2018-07    0.975490\n",
       "2018-08    0.971429\n",
       "2018-09    0.933333\n",
       "2018-10    0.875887\n",
       "2018-11    0.821497\n",
       "2018-12    0.880597\n",
       "2019-01    0.903955\n",
       "2019-02    0.900200\n",
       "2019-03    0.894428\n",
       "2019-04    0.851240\n",
       "dtype: float64"
      ]
     },
     "execution_count": 96,
     "metadata": {},
     "output_type": "execute_result"
    }
   ],
   "source": [
    "dataReviews_prodotto_month_rat"
   ]
  },
  {
   "cell_type": "code",
   "execution_count": 95,
   "metadata": {},
   "outputs": [
    {
     "data": {
      "text/plain": [
       "'{\"2017-11\":1.0,\"2017-12\":1.0,\"2018-01\":0.9733727811,\"2018-02\":0.9905660377,\"2018-03\":0.9633507853,\"2018-04\":0.9861111111,\"2018-05\":0.9807692308,\"2018-06\":0.9583333333,\"2018-07\":0.9754901961,\"2018-08\":0.9714285714,\"2018-09\":0.9333333333,\"2018-10\":0.8758865248,\"2018-11\":0.8214971209,\"2018-12\":0.8805970149,\"2019-01\":0.9039548023,\"2019-02\":0.9001996008,\"2019-03\":0.8944281525,\"2019-04\":0.8512396694}'"
      ]
     },
     "execution_count": 95,
     "metadata": {},
     "output_type": "execute_result"
    }
   ],
   "source": [
    "import json\n",
    "dataReviews_prodotto_month_rat.to_json()"
   ]
  },
  {
   "cell_type": "code",
   "execution_count": null,
   "metadata": {},
   "outputs": [],
   "source": []
  }
 ],
 "metadata": {
  "kernelspec": {
   "display_name": "Python 3",
   "language": "python",
   "name": "python3"
  },
  "language_info": {
   "codemirror_mode": {
    "name": "ipython",
    "version": 3
   },
   "file_extension": ".py",
   "mimetype": "text/x-python",
   "name": "python",
   "nbconvert_exporter": "python",
   "pygments_lexer": "ipython3",
   "version": "3.8.2"
  }
 },
 "nbformat": 4,
 "nbformat_minor": 4
}
